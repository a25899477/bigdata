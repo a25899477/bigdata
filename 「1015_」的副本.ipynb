{
  "nbformat": 4,
  "nbformat_minor": 0,
  "metadata": {
    "colab": {
      "name": "「1015.」的副本",
      "provenance": [],
      "collapsed_sections": [],
      "include_colab_link": true
    },
    "kernelspec": {
      "name": "ir",
      "display_name": "R"
    }
  },
  "cells": [
    {
      "cell_type": "markdown",
      "metadata": {
        "id": "view-in-github",
        "colab_type": "text"
      },
      "source": [
        "<a href=\"https://colab.research.google.com/github/a25899477/bigdata/blob/master/%E3%80%8C1015_%E3%80%8D%E7%9A%84%E5%89%AF%E6%9C%AC.ipynb\" target=\"_parent\"><img src=\"https://colab.research.google.com/assets/colab-badge.svg\" alt=\"Open In Colab\"/></a>"
      ]
    },
    {
      "cell_type": "code",
      "metadata": {
        "id": "27Du_096V-Qb",
        "outputId": "ecb29a40-b048-40da-df81-9f218a13b7be",
        "colab": {
          "base_uri": "https://localhost:8080/",
          "height": 102
        }
      },
      "source": [
        "a<- 5       #\n",
        "b<- 3.8\n",
        "c<- -1\n",
        "d<- \"Hello\"   #字串\n",
        "e<- \"你好\"\n",
        "\n",
        "str(a)\n",
        "str(b)\n",
        "str(c)\n",
        "str(d)\n",
        "str(e)"
      ],
      "execution_count": 14,
      "outputs": [
        {
          "output_type": "stream",
          "text": [
            " num 5\n",
            " num 3.8\n",
            " num -1\n",
            " chr \"Hello\"\n",
            " chr \"你好\"\n"
          ],
          "name": "stdout"
        }
      ]
    },
    {
      "cell_type": "code",
      "metadata": {
        "id": "mjKqlcjOXk7U",
        "outputId": "f9cc6ff4-51f5-41f5-ef92-36d8453b79ff",
        "colab": {
          "base_uri": "https://localhost:8080/",
          "height": 119
        }
      },
      "source": [
        "#確認變數的資料型態\n",
        "is.numeric(a)\n",
        "is.numeric(b)\n",
        "is.numeric(c)\n",
        "\n",
        "is.integer(a)\n",
        "is.integer(b)\n",
        "is.integer(c)\n"
      ],
      "execution_count": 15,
      "outputs": [
        {
          "output_type": "display_data",
          "data": {
            "text/plain": [
              "[1] TRUE"
            ],
            "text/latex": "TRUE",
            "text/markdown": "TRUE",
            "text/html": [
              "TRUE"
            ]
          },
          "metadata": {
            "tags": []
          }
        },
        {
          "output_type": "display_data",
          "data": {
            "text/plain": [
              "[1] TRUE"
            ],
            "text/latex": "TRUE",
            "text/markdown": "TRUE",
            "text/html": [
              "TRUE"
            ]
          },
          "metadata": {
            "tags": []
          }
        },
        {
          "output_type": "display_data",
          "data": {
            "text/plain": [
              "[1] TRUE"
            ],
            "text/latex": "TRUE",
            "text/markdown": "TRUE",
            "text/html": [
              "TRUE"
            ]
          },
          "metadata": {
            "tags": []
          }
        },
        {
          "output_type": "display_data",
          "data": {
            "text/plain": [
              "[1] FALSE"
            ],
            "text/latex": "FALSE",
            "text/markdown": "FALSE",
            "text/html": [
              "FALSE"
            ]
          },
          "metadata": {
            "tags": []
          }
        },
        {
          "output_type": "display_data",
          "data": {
            "text/plain": [
              "[1] FALSE"
            ],
            "text/latex": "FALSE",
            "text/markdown": "FALSE",
            "text/html": [
              "FALSE"
            ]
          },
          "metadata": {
            "tags": []
          }
        },
        {
          "output_type": "display_data",
          "data": {
            "text/plain": [
              "[1] FALSE"
            ],
            "text/latex": "FALSE",
            "text/markdown": "FALSE",
            "text/html": [
              "FALSE"
            ]
          },
          "metadata": {
            "tags": []
          }
        }
      ]
    },
    {
      "cell_type": "code",
      "metadata": {
        "id": "DOalSSdnZyvx",
        "outputId": "f6142363-ced2-4176-85cf-59fbee40105a",
        "colab": {
          "base_uri": "https://localhost:8080/",
          "height": 68
        }
      },
      "source": [
        "#陣列\n",
        "f<- c(5,4,3,2,1,0)\n",
        "g<- c(\"馬杯杯\",\"菜英文\",\"猴友誼\")\n",
        "f[2]\n",
        "g[3]\n",
        "g[c(1,2)]"
      ],
      "execution_count": 19,
      "outputs": [
        {
          "output_type": "display_data",
          "data": {
            "text/plain": [
              "[1] 4"
            ],
            "text/latex": "4",
            "text/markdown": "4",
            "text/html": [
              "4"
            ]
          },
          "metadata": {
            "tags": []
          }
        },
        {
          "output_type": "display_data",
          "data": {
            "text/plain": [
              "[1] \"猴友誼\""
            ],
            "text/latex": "'猴友誼'",
            "text/markdown": "'猴友誼'",
            "text/html": [
              "'猴友誼'"
            ]
          },
          "metadata": {
            "tags": []
          }
        },
        {
          "output_type": "display_data",
          "data": {
            "text/plain": [
              "[1] \"馬杯杯\" \"菜英文\""
            ],
            "text/latex": "\\begin{enumerate*}\n\\item '馬杯杯'\n\\item '菜英文'\n\\end{enumerate*}\n",
            "text/markdown": "1. '馬杯杯'\n2. '菜英文'\n\n\n",
            "text/html": [
              "<style>\n",
              ".list-inline {list-style: none; margin:0; padding: 0}\n",
              ".list-inline>li {display: inline-block}\n",
              ".list-inline>li:not(:last-child)::after {content: \"\\00b7\"; padding: 0 .5ex}\n",
              "</style>\n",
              "<ol class=list-inline><li>'馬杯杯'</li><li>'菜英文'</li></ol>\n"
            ]
          },
          "metadata": {
            "tags": []
          }
        }
      ]
    },
    {
      "cell_type": "code",
      "metadata": {
        "id": "rI3UZOuWa77J",
        "outputId": "361ecdd5-ace9-40d4-97b8-cf34fe856b6c",
        "colab": {
          "base_uri": "https://localhost:8080/",
          "height": 102
        }
      },
      "source": [
        "#陣列\n",
        "h<- c(1,2,3,4,5,6,7,8,9)\n",
        "i<- c(2,3,4,5,6,7,8,9,10)\n",
        "h*i\n",
        "h^i\n",
        "i>5\n",
        "i>2\n",
        "h<6"
      ],
      "execution_count": 25,
      "outputs": [
        {
          "output_type": "display_data",
          "data": {
            "text/plain": [
              "[1]  2  6 12 20 30 42 56 72 90"
            ],
            "text/latex": "\\begin{enumerate*}\n\\item 2\n\\item 6\n\\item 12\n\\item 20\n\\item 30\n\\item 42\n\\item 56\n\\item 72\n\\item 90\n\\end{enumerate*}\n",
            "text/markdown": "1. 2\n2. 6\n3. 12\n4. 20\n5. 30\n6. 42\n7. 56\n8. 72\n9. 90\n\n\n",
            "text/html": [
              "<style>\n",
              ".list-inline {list-style: none; margin:0; padding: 0}\n",
              ".list-inline>li {display: inline-block}\n",
              ".list-inline>li:not(:last-child)::after {content: \"\\00b7\"; padding: 0 .5ex}\n",
              "</style>\n",
              "<ol class=list-inline><li>2</li><li>6</li><li>12</li><li>20</li><li>30</li><li>42</li><li>56</li><li>72</li><li>90</li></ol>\n"
            ]
          },
          "metadata": {
            "tags": []
          }
        },
        {
          "output_type": "display_data",
          "data": {
            "text/plain": [
              "[1]          1          8         81       1024      15625     279936    5764801\n",
              "[8]  134217728 3486784401"
            ],
            "text/latex": "\\begin{enumerate*}\n\\item 1\n\\item 8\n\\item 81\n\\item 1024\n\\item 15625\n\\item 279936\n\\item 5764801\n\\item 134217728\n\\item 3486784401\n\\end{enumerate*}\n",
            "text/markdown": "1. 1\n2. 8\n3. 81\n4. 1024\n5. 15625\n6. 279936\n7. 5764801\n8. 134217728\n9. 3486784401\n\n\n",
            "text/html": [
              "<style>\n",
              ".list-inline {list-style: none; margin:0; padding: 0}\n",
              ".list-inline>li {display: inline-block}\n",
              ".list-inline>li:not(:last-child)::after {content: \"\\00b7\"; padding: 0 .5ex}\n",
              "</style>\n",
              "<ol class=list-inline><li>1</li><li>8</li><li>81</li><li>1024</li><li>15625</li><li>279936</li><li>5764801</li><li>134217728</li><li>3486784401</li></ol>\n"
            ]
          },
          "metadata": {
            "tags": []
          }
        },
        {
          "output_type": "display_data",
          "data": {
            "text/plain": [
              "[1] FALSE FALSE FALSE FALSE  TRUE  TRUE  TRUE  TRUE  TRUE"
            ],
            "text/latex": "\\begin{enumerate*}\n\\item FALSE\n\\item FALSE\n\\item FALSE\n\\item FALSE\n\\item TRUE\n\\item TRUE\n\\item TRUE\n\\item TRUE\n\\item TRUE\n\\end{enumerate*}\n",
            "text/markdown": "1. FALSE\n2. FALSE\n3. FALSE\n4. FALSE\n5. TRUE\n6. TRUE\n7. TRUE\n8. TRUE\n9. TRUE\n\n\n",
            "text/html": [
              "<style>\n",
              ".list-inline {list-style: none; margin:0; padding: 0}\n",
              ".list-inline>li {display: inline-block}\n",
              ".list-inline>li:not(:last-child)::after {content: \"\\00b7\"; padding: 0 .5ex}\n",
              "</style>\n",
              "<ol class=list-inline><li>FALSE</li><li>FALSE</li><li>FALSE</li><li>FALSE</li><li>TRUE</li><li>TRUE</li><li>TRUE</li><li>TRUE</li><li>TRUE</li></ol>\n"
            ]
          },
          "metadata": {
            "tags": []
          }
        },
        {
          "output_type": "display_data",
          "data": {
            "text/plain": [
              "[1] FALSE  TRUE  TRUE  TRUE  TRUE  TRUE  TRUE  TRUE  TRUE"
            ],
            "text/latex": "\\begin{enumerate*}\n\\item FALSE\n\\item TRUE\n\\item TRUE\n\\item TRUE\n\\item TRUE\n\\item TRUE\n\\item TRUE\n\\item TRUE\n\\item TRUE\n\\end{enumerate*}\n",
            "text/markdown": "1. FALSE\n2. TRUE\n3. TRUE\n4. TRUE\n5. TRUE\n6. TRUE\n7. TRUE\n8. TRUE\n9. TRUE\n\n\n",
            "text/html": [
              "<style>\n",
              ".list-inline {list-style: none; margin:0; padding: 0}\n",
              ".list-inline>li {display: inline-block}\n",
              ".list-inline>li:not(:last-child)::after {content: \"\\00b7\"; padding: 0 .5ex}\n",
              "</style>\n",
              "<ol class=list-inline><li>FALSE</li><li>TRUE</li><li>TRUE</li><li>TRUE</li><li>TRUE</li><li>TRUE</li><li>TRUE</li><li>TRUE</li><li>TRUE</li></ol>\n"
            ]
          },
          "metadata": {
            "tags": []
          }
        },
        {
          "output_type": "display_data",
          "data": {
            "text/plain": [
              "[1]  TRUE  TRUE  TRUE  TRUE  TRUE FALSE FALSE FALSE FALSE"
            ],
            "text/latex": "\\begin{enumerate*}\n\\item TRUE\n\\item TRUE\n\\item TRUE\n\\item TRUE\n\\item TRUE\n\\item FALSE\n\\item FALSE\n\\item FALSE\n\\item FALSE\n\\end{enumerate*}\n",
            "text/markdown": "1. TRUE\n2. TRUE\n3. TRUE\n4. TRUE\n5. TRUE\n6. FALSE\n7. FALSE\n8. FALSE\n9. FALSE\n\n\n",
            "text/html": [
              "<style>\n",
              ".list-inline {list-style: none; margin:0; padding: 0}\n",
              ".list-inline>li {display: inline-block}\n",
              ".list-inline>li:not(:last-child)::after {content: \"\\00b7\"; padding: 0 .5ex}\n",
              "</style>\n",
              "<ol class=list-inline><li>TRUE</li><li>TRUE</li><li>TRUE</li><li>TRUE</li><li>TRUE</li><li>FALSE</li><li>FALSE</li><li>FALSE</li><li>FALSE</li></ol>\n"
            ]
          },
          "metadata": {
            "tags": []
          }
        }
      ]
    },
    {
      "cell_type": "code",
      "metadata": {
        "id": "MuAqbtQdcylS",
        "outputId": "28e1b618-86cb-4bce-ba41-8a95b6e843f4",
        "colab": {
          "base_uri": "https://localhost:8080/",
          "height": 68
        }
      },
      "source": [
        "#類別變數(factor)\n",
        "gender <- c(\"男\",\"女\",\"男\",\"女\",\"男\",\"男\",\"中\")\n",
        "gender <- factor(gender)\n",
        "gender\n",
        "levels(gender)"
      ],
      "execution_count": 30,
      "outputs": [
        {
          "output_type": "display_data",
          "data": {
            "text/plain": [
              "[1] 男 女 男 女 男 男 中\n",
              "Levels: 中 女 男"
            ],
            "text/latex": "\\begin{enumerate*}\n\\item 男\n\\item 女\n\\item 男\n\\item 女\n\\item 男\n\\item 男\n\\item 中\n\\end{enumerate*}\n\n\\emph{Levels}: \\begin{enumerate*}\n\\item '中'\n\\item '女'\n\\item '男'\n\\end{enumerate*}\n",
            "text/markdown": "1. 男\n2. 女\n3. 男\n4. 女\n5. 男\n6. 男\n7. 中\n\n\n\n**Levels**: 1. '中'\n2. '女'\n3. '男'\n\n\n",
            "text/html": [
              "<style>\n",
              ".list-inline {list-style: none; margin:0; padding: 0}\n",
              ".list-inline>li {display: inline-block}\n",
              ".list-inline>li:not(:last-child)::after {content: \"\\00b7\"; padding: 0 .5ex}\n",
              "</style>\n",
              "<ol class=list-inline><li>男</li><li>女</li><li>男</li><li>女</li><li>男</li><li>男</li><li>中</li></ol>\n",
              "\n",
              "<details>\n",
              "\t<summary style=display:list-item;cursor:pointer>\n",
              "\t\t<strong>Levels</strong>:\n",
              "\t</summary>\n",
              "\t<style>\n",
              "\t.list-inline {list-style: none; margin:0; padding: 0}\n",
              "\t.list-inline>li {display: inline-block}\n",
              "\t.list-inline>li:not(:last-child)::after {content: \"\\00b7\"; padding: 0 .5ex}\n",
              "\t</style>\n",
              "\t<ol class=list-inline><li>'中'</li><li>'女'</li><li>'男'</li></ol>\n",
              "</details>"
            ]
          },
          "metadata": {
            "tags": []
          }
        },
        {
          "output_type": "display_data",
          "data": {
            "text/plain": [
              "[1] \"中\" \"女\" \"男\""
            ],
            "text/latex": "\\begin{enumerate*}\n\\item '中'\n\\item '女'\n\\item '男'\n\\end{enumerate*}\n",
            "text/markdown": "1. '中'\n2. '女'\n3. '男'\n\n\n",
            "text/html": [
              "<style>\n",
              ".list-inline {list-style: none; margin:0; padding: 0}\n",
              ".list-inline>li {display: inline-block}\n",
              ".list-inline>li:not(:last-child)::after {content: \"\\00b7\"; padding: 0 .5ex}\n",
              "</style>\n",
              "<ol class=list-inline><li>'中'</li><li>'女'</li><li>'男'</li></ol>\n"
            ]
          },
          "metadata": {
            "tags": []
          }
        }
      ]
    },
    {
      "cell_type": "code",
      "metadata": {
        "id": "42Ywn-B0gXLH",
        "outputId": "5d20a1ac-c1db-4cd9-a883-2a359b00a83b",
        "colab": {
          "base_uri": "https://localhost:8080/",
          "height": 347
        }
      },
      "source": [
        "#矩陣(matrix)\n",
        "j <- matrix(c(1:6),nrow=3,ncol=2) #建立一個3*2的矩陣,分別填入1~6的值\n",
        "j\n",
        "\n",
        "k <- matrix(c(7:12),nrow=2,ncol=3) #建立一個2*3的矩陣,分別填入7~12的值\n",
        "k\n",
        "\n",
        "j[2,2]\n",
        "j[2,]\n",
        "j[,2]"
      ],
      "execution_count": 38,
      "outputs": [
        {
          "output_type": "display_data",
          "data": {
            "text/plain": [
              "     [,1] [,2]\n",
              "[1,] 1    4   \n",
              "[2,] 2    5   \n",
              "[3,] 3    6   "
            ],
            "text/latex": "A matrix: 3 × 2 of type int\n\\begin{tabular}{ll}\n\t 1 & 4\\\\\n\t 2 & 5\\\\\n\t 3 & 6\\\\\n\\end{tabular}\n",
            "text/markdown": "\nA matrix: 3 × 2 of type int\n\n| 1 | 4 |\n| 2 | 5 |\n| 3 | 6 |\n\n",
            "text/html": [
              "<table>\n",
              "<caption>A matrix: 3 × 2 of type int</caption>\n",
              "<tbody>\n",
              "\t<tr><td>1</td><td>4</td></tr>\n",
              "\t<tr><td>2</td><td>5</td></tr>\n",
              "\t<tr><td>3</td><td>6</td></tr>\n",
              "</tbody>\n",
              "</table>\n"
            ]
          },
          "metadata": {
            "tags": []
          }
        },
        {
          "output_type": "display_data",
          "data": {
            "text/plain": [
              "     [,1] [,2] [,3]\n",
              "[1,] 7     9   11  \n",
              "[2,] 8    10   12  "
            ],
            "text/latex": "A matrix: 2 × 3 of type int\n\\begin{tabular}{lll}\n\t 7 &  9 & 11\\\\\n\t 8 & 10 & 12\\\\\n\\end{tabular}\n",
            "text/markdown": "\nA matrix: 2 × 3 of type int\n\n| 7 |  9 | 11 |\n| 8 | 10 | 12 |\n\n",
            "text/html": [
              "<table>\n",
              "<caption>A matrix: 2 × 3 of type int</caption>\n",
              "<tbody>\n",
              "\t<tr><td>7</td><td> 9</td><td>11</td></tr>\n",
              "\t<tr><td>8</td><td>10</td><td>12</td></tr>\n",
              "</tbody>\n",
              "</table>\n"
            ]
          },
          "metadata": {
            "tags": []
          }
        },
        {
          "output_type": "display_data",
          "data": {
            "text/plain": [
              "[1] 5"
            ],
            "text/latex": "5",
            "text/markdown": "5",
            "text/html": [
              "5"
            ]
          },
          "metadata": {
            "tags": []
          }
        },
        {
          "output_type": "display_data",
          "data": {
            "text/plain": [
              "[1] 2 5"
            ],
            "text/latex": "\\begin{enumerate*}\n\\item 2\n\\item 5\n\\end{enumerate*}\n",
            "text/markdown": "1. 2\n2. 5\n\n\n",
            "text/html": [
              "<style>\n",
              ".list-inline {list-style: none; margin:0; padding: 0}\n",
              ".list-inline>li {display: inline-block}\n",
              ".list-inline>li:not(:last-child)::after {content: \"\\00b7\"; padding: 0 .5ex}\n",
              "</style>\n",
              "<ol class=list-inline><li>2</li><li>5</li></ol>\n"
            ]
          },
          "metadata": {
            "tags": []
          }
        },
        {
          "output_type": "display_data",
          "data": {
            "text/plain": [
              "[1] 4 5 6"
            ],
            "text/latex": "\\begin{enumerate*}\n\\item 4\n\\item 5\n\\item 6\n\\end{enumerate*}\n",
            "text/markdown": "1. 4\n2. 5\n3. 6\n\n\n",
            "text/html": [
              "<style>\n",
              ".list-inline {list-style: none; margin:0; padding: 0}\n",
              ".list-inline>li {display: inline-block}\n",
              ".list-inline>li:not(:last-child)::after {content: \"\\00b7\"; padding: 0 .5ex}\n",
              "</style>\n",
              "<ol class=list-inline><li>4</li><li>5</li><li>6</li></ol>\n"
            ]
          },
          "metadata": {
            "tags": []
          }
        }
      ]
    },
    {
      "cell_type": "code",
      "metadata": {
        "id": "vB6cV0zxjEUS",
        "outputId": "07301e0b-a8ed-4d40-882f-df8ce7d0d1b2",
        "colab": {
          "base_uri": "https://localhost:8080/",
          "height": 183
        }
      },
      "source": [
        "# 建立一個data frame\n",
        "tmp <- data.frame(Student_ID=c(1,2,3,4,5),\n",
        "          name=c(\"Helen\",\"Sue\",\"Panin\",\"Python\",\"Won\"),\n",
        "          score=c(80,20,65,13,90))\n",
        "tmp #data frame的型態          "
      ],
      "execution_count": 43,
      "outputs": [
        {
          "output_type": "display_data",
          "data": {
            "text/plain": [
              "  Student_ID name   score\n",
              "1 1          Helen  80   \n",
              "2 2          Sue    20   \n",
              "3 3          Panin  65   \n",
              "4 4          Python 13   \n",
              "5 5          Won    90   "
            ],
            "text/latex": "A data.frame: 5 × 3\n\\begin{tabular}{lll}\n Student\\_ID & name & score\\\\\n <dbl> & <chr> & <dbl>\\\\\n\\hline\n\t 1 & Helen  & 80\\\\\n\t 2 & Sue    & 20\\\\\n\t 3 & Panin  & 65\\\\\n\t 4 & Python & 13\\\\\n\t 5 & Won    & 90\\\\\n\\end{tabular}\n",
            "text/markdown": "\nA data.frame: 5 × 3\n\n| Student_ID &lt;dbl&gt; | name &lt;chr&gt; | score &lt;dbl&gt; |\n|---|---|---|\n| 1 | Helen  | 80 |\n| 2 | Sue    | 20 |\n| 3 | Panin  | 65 |\n| 4 | Python | 13 |\n| 5 | Won    | 90 |\n\n",
            "text/html": [
              "<table>\n",
              "<caption>A data.frame: 5 × 3</caption>\n",
              "<thead>\n",
              "\t<tr><th scope=col>Student_ID</th><th scope=col>name</th><th scope=col>score</th></tr>\n",
              "\t<tr><th scope=col>&lt;dbl&gt;</th><th scope=col>&lt;chr&gt;</th><th scope=col>&lt;dbl&gt;</th></tr>\n",
              "</thead>\n",
              "<tbody>\n",
              "\t<tr><td>1</td><td>Helen </td><td>80</td></tr>\n",
              "\t<tr><td>2</td><td>Sue   </td><td>20</td></tr>\n",
              "\t<tr><td>3</td><td>Panin </td><td>65</td></tr>\n",
              "\t<tr><td>4</td><td>Python</td><td>13</td></tr>\n",
              "\t<tr><td>5</td><td>Won   </td><td>90</td></tr>\n",
              "</tbody>\n",
              "</table>\n"
            ]
          },
          "metadata": {
            "tags": []
          }
        }
      ]
    },
    {
      "cell_type": "code",
      "metadata": {
        "id": "4D6huefLkIes",
        "outputId": "e1ae7ec0-b501-4e5d-fe6a-cefbd274d401",
        "colab": {
          "base_uri": "https://localhost:8080/",
          "height": 112
        }
      },
      "source": [
        "# data frame的應用\n",
        "tmp[2,3]\n",
        "tmp[,2]\n",
        "tmp$mame == \"Python\"\n",
        "tmp[tmp$mame == \"Sue\",]"
      ],
      "execution_count": 52,
      "outputs": [
        {
          "output_type": "display_data",
          "data": {
            "text/plain": [
              "[1] 20"
            ],
            "text/latex": "20",
            "text/markdown": "20",
            "text/html": [
              "20"
            ]
          },
          "metadata": {
            "tags": []
          }
        },
        {
          "output_type": "display_data",
          "data": {
            "text/plain": [
              "[1] \"Helen\"  \"Sue\"    \"Panin\"  \"Python\" \"Won\"   "
            ],
            "text/latex": "\\begin{enumerate*}\n\\item 'Helen'\n\\item 'Sue'\n\\item 'Panin'\n\\item 'Python'\n\\item 'Won'\n\\end{enumerate*}\n",
            "text/markdown": "1. 'Helen'\n2. 'Sue'\n3. 'Panin'\n4. 'Python'\n5. 'Won'\n\n\n",
            "text/html": [
              "<style>\n",
              ".list-inline {list-style: none; margin:0; padding: 0}\n",
              ".list-inline>li {display: inline-block}\n",
              ".list-inline>li:not(:last-child)::after {content: \"\\00b7\"; padding: 0 .5ex}\n",
              "</style>\n",
              "<ol class=list-inline><li>'Helen'</li><li>'Sue'</li><li>'Panin'</li><li>'Python'</li><li>'Won'</li></ol>\n"
            ]
          },
          "metadata": {
            "tags": []
          }
        },
        {
          "output_type": "display_data",
          "data": {
            "text/plain": [
              "logical(0)"
            ],
            "text/latex": "",
            "text/markdown": "",
            "text/html": [
              ""
            ]
          },
          "metadata": {
            "tags": []
          }
        },
        {
          "output_type": "display_data",
          "data": {
            "text/plain": [
              "     Student_ID name score"
            ],
            "text/latex": "A data.frame: 0 × 3\n\\begin{tabular}{lll}\n Student\\_ID & name & score\\\\\n <dbl> & <chr> & <dbl>\\\\\n\\hline\n\\end{tabular}\n",
            "text/markdown": "\nA data.frame: 0 × 3\n\n| Student_ID &lt;dbl&gt; | name &lt;chr&gt; | score &lt;dbl&gt; |\n|---|---|---|\n\n",
            "text/html": [
              "<table>\n",
              "<caption>A data.frame: 0 × 3</caption>\n",
              "<thead>\n",
              "\t<tr><th scope=col>Student_ID</th><th scope=col>name</th><th scope=col>score</th></tr>\n",
              "\t<tr><th scope=col>&lt;dbl&gt;</th><th scope=col>&lt;chr&gt;</th><th scope=col>&lt;dbl&gt;</th></tr>\n",
              "</thead>\n",
              "<tbody>\n",
              "</tbody>\n",
              "</table>\n"
            ]
          },
          "metadata": {
            "tags": []
          }
        }
      ]
    },
    {
      "cell_type": "code",
      "metadata": {
        "id": "bGkADRvtlfpE",
        "outputId": "14e15ff0-685e-4ed2-b306-a98bcf56d3a7",
        "colab": {
          "base_uri": "https://localhost:8080/",
          "height": 510
        }
      },
      "source": [
        "# data frame的綜合應用\n",
        "install.packages(\"SportsAnalytics\")\n",
        "library(SportsAnalytics)\n",
        "NBA1516<-fetch_NBAPlayerStatistics(\"15-16\")\n",
        "str(NBA1516)"
      ],
      "execution_count": 59,
      "outputs": [
        {
          "output_type": "stream",
          "text": [
            "Installing package into ‘/usr/local/lib/R/site-library’\n",
            "(as ‘lib’ is unspecified)\n",
            "\n"
          ],
          "name": "stderr"
        },
        {
          "output_type": "stream",
          "text": [
            "'data.frame':\t476 obs. of  25 variables:\n",
            " $ League             : Factor w/ 1 level \"NBA\": 1 1 1 1 1 1 1 1 1 1 ...\n",
            " $ Name               : chr  \"Quincy Acy\" \"Jordan Adams\" \"Steven Adams\" \"Arron Afflalo\" ...\n",
            " $ Team               : Factor w/ 31 levels \"ATL\",\"BOS\",\"BRO\",..: 27 15 22 20 19 13 28 26 12 15 ...\n",
            " $ Position           : Factor w/ 5 levels \"C\",\"PF\",\"PG\",..: 4 5 1 5 1 1 2 2 2 5 ...\n",
            " $ GamesPlayed        : int  59 2 80 71 59 60 74 9 79 64 ...\n",
            " $ TotalMinutesPlayed : int  877 15 2019 2359 863 802 2260 37 1601 1622 ...\n",
            " $ FieldGoalsMade     : int  119 2 261 354 150 134 536 5 191 215 ...\n",
            " $ FieldGoalsAttempted: int  214 6 426 799 314 225 1045 10 370 469 ...\n",
            " $ ThreesMade         : int  19 0 0 91 0 0 0 0 0 15 ...\n",
            " $ ThreesAttempted    : int  49 1 0 238 1 0 16 0 0 42 ...\n",
            " $ FreeThrowsMade     : int  50 3 114 110 52 60 259 0 46 90 ...\n",
            " $ FreeThrowsAttempted: int  68 5 196 131 62 84 302 0 73 138 ...\n",
            " $ OffensiveRebounds  : int  65 0 218 23 75 86 175 2 162 104 ...\n",
            " $ TotalRebounds      : int  188 2 531 266 269 288 631 6 424 297 ...\n",
            " $ Assists            : int  27 3 61 145 32 50 110 0 76 70 ...\n",
            " $ Steals             : int  29 3 42 25 19 47 38 1 26 109 ...\n",
            " $ Turnovers          : int  27 2 84 82 54 64 99 1 69 78 ...\n",
            " $ Blocks             : int  24 0 89 10 36 68 81 2 42 18 ...\n",
            " $ PersonalFouls      : int  103 2 223 142 134 139 151 1 147 175 ...\n",
            " $ Disqualifications  : int  0 0 2 1 0 1 0 0 1 1 ...\n",
            " $ TotalPoints        : int  307 7 636 909 352 328 1331 10 428 535 ...\n",
            " $ Technicals         : int  3 0 2 1 2 0 0 0 0 1 ...\n",
            " $ Ejections          : int  0 0 0 0 0 0 0 0 0 0 ...\n",
            " $ FlagrantFouls      : int  0 0 0 0 0 0 0 0 0 0 ...\n",
            " $ GamesStarted       : int  29 0 80 57 17 5 74 0 28 56 ...\n"
          ],
          "name": "stdout"
        }
      ]
    },
    {
      "cell_type": "code",
      "metadata": {
        "id": "XZ8mcV63mitt",
        "outputId": "b4554286-ed48-4713-a02b-c88205f42b26",
        "colab": {
          "base_uri": "https://localhost:8080/",
          "height": 204
        }
      },
      "source": [
        "head(NBA1516)"
      ],
      "execution_count": 61,
      "outputs": [
        {
          "output_type": "display_data",
          "data": {
            "text/plain": [
              "  League Name          Team Position GamesPlayed TotalMinutesPlayed\n",
              "1 NBA    Quincy Acy    SAC  SF       59           877              \n",
              "2 NBA    Jordan Adams  MEM  SG        2            15              \n",
              "3 NBA    Steven Adams  OKL  C        80          2019              \n",
              "4 NBA    Arron Afflalo NYK  SG       71          2359              \n",
              "5 NBA    Alexis Ajinca NOR  C        59           863              \n",
              "6 NBA    Cole Aldrich  LAC  C        60           802              \n",
              "  FieldGoalsMade FieldGoalsAttempted ThreesMade ThreesAttempted ⋯ Steals\n",
              "1 119            214                 19          49             ⋯ 29    \n",
              "2   2              6                  0           1             ⋯  3    \n",
              "3 261            426                  0           0             ⋯ 42    \n",
              "4 354            799                 91         238             ⋯ 25    \n",
              "5 150            314                  0           1             ⋯ 19    \n",
              "6 134            225                  0           0             ⋯ 47    \n",
              "  Turnovers Blocks PersonalFouls Disqualifications TotalPoints Technicals\n",
              "1 27        24     103           0                 307         3         \n",
              "2  2         0       2           0                   7         0         \n",
              "3 84        89     223           2                 636         2         \n",
              "4 82        10     142           1                 909         1         \n",
              "5 54        36     134           0                 352         2         \n",
              "6 64        68     139           1                 328         0         \n",
              "  Ejections FlagrantFouls GamesStarted\n",
              "1 0         0             29          \n",
              "2 0         0              0          \n",
              "3 0         0             80          \n",
              "4 0         0             57          \n",
              "5 0         0             17          \n",
              "6 0         0              5          "
            ],
            "text/latex": "A data.frame: 6 × 25\n\\begin{tabular}{r|lllllllllllllllllllll}\n  & League & Name & Team & Position & GamesPlayed & TotalMinutesPlayed & FieldGoalsMade & FieldGoalsAttempted & ThreesMade & ThreesAttempted & ⋯ & Steals & Turnovers & Blocks & PersonalFouls & Disqualifications & TotalPoints & Technicals & Ejections & FlagrantFouls & GamesStarted\\\\\n  & <fct> & <chr> & <fct> & <fct> & <int> & <int> & <int> & <int> & <int> & <int> & ⋯ & <int> & <int> & <int> & <int> & <int> & <int> & <int> & <int> & <int> & <int>\\\\\n\\hline\n\t1 & NBA & Quincy Acy    & SAC & SF & 59 &  877 & 119 & 214 & 19 &  49 & ⋯ & 29 & 27 & 24 & 103 & 0 & 307 & 3 & 0 & 0 & 29\\\\\n\t2 & NBA & Jordan Adams  & MEM & SG &  2 &   15 &   2 &   6 &  0 &   1 & ⋯ &  3 &  2 &  0 &   2 & 0 &   7 & 0 & 0 & 0 &  0\\\\\n\t3 & NBA & Steven Adams  & OKL & C  & 80 & 2019 & 261 & 426 &  0 &   0 & ⋯ & 42 & 84 & 89 & 223 & 2 & 636 & 2 & 0 & 0 & 80\\\\\n\t4 & NBA & Arron Afflalo & NYK & SG & 71 & 2359 & 354 & 799 & 91 & 238 & ⋯ & 25 & 82 & 10 & 142 & 1 & 909 & 1 & 0 & 0 & 57\\\\\n\t5 & NBA & Alexis Ajinca & NOR & C  & 59 &  863 & 150 & 314 &  0 &   1 & ⋯ & 19 & 54 & 36 & 134 & 0 & 352 & 2 & 0 & 0 & 17\\\\\n\t6 & NBA & Cole Aldrich  & LAC & C  & 60 &  802 & 134 & 225 &  0 &   0 & ⋯ & 47 & 64 & 68 & 139 & 1 & 328 & 0 & 0 & 0 &  5\\\\\n\\end{tabular}\n",
            "text/markdown": "\nA data.frame: 6 × 25\n\n| <!--/--> | League &lt;fct&gt; | Name &lt;chr&gt; | Team &lt;fct&gt; | Position &lt;fct&gt; | GamesPlayed &lt;int&gt; | TotalMinutesPlayed &lt;int&gt; | FieldGoalsMade &lt;int&gt; | FieldGoalsAttempted &lt;int&gt; | ThreesMade &lt;int&gt; | ThreesAttempted &lt;int&gt; | ⋯ ⋯ | Steals &lt;int&gt; | Turnovers &lt;int&gt; | Blocks &lt;int&gt; | PersonalFouls &lt;int&gt; | Disqualifications &lt;int&gt; | TotalPoints &lt;int&gt; | Technicals &lt;int&gt; | Ejections &lt;int&gt; | FlagrantFouls &lt;int&gt; | GamesStarted &lt;int&gt; |\n|---|---|---|---|---|---|---|---|---|---|---|---|---|---|---|---|---|---|---|---|---|---|\n| 1 | NBA | Quincy Acy    | SAC | SF | 59 |  877 | 119 | 214 | 19 |  49 | ⋯ | 29 | 27 | 24 | 103 | 0 | 307 | 3 | 0 | 0 | 29 |\n| 2 | NBA | Jordan Adams  | MEM | SG |  2 |   15 |   2 |   6 |  0 |   1 | ⋯ |  3 |  2 |  0 |   2 | 0 |   7 | 0 | 0 | 0 |  0 |\n| 3 | NBA | Steven Adams  | OKL | C  | 80 | 2019 | 261 | 426 |  0 |   0 | ⋯ | 42 | 84 | 89 | 223 | 2 | 636 | 2 | 0 | 0 | 80 |\n| 4 | NBA | Arron Afflalo | NYK | SG | 71 | 2359 | 354 | 799 | 91 | 238 | ⋯ | 25 | 82 | 10 | 142 | 1 | 909 | 1 | 0 | 0 | 57 |\n| 5 | NBA | Alexis Ajinca | NOR | C  | 59 |  863 | 150 | 314 |  0 |   1 | ⋯ | 19 | 54 | 36 | 134 | 0 | 352 | 2 | 0 | 0 | 17 |\n| 6 | NBA | Cole Aldrich  | LAC | C  | 60 |  802 | 134 | 225 |  0 |   0 | ⋯ | 47 | 64 | 68 | 139 | 1 | 328 | 0 | 0 | 0 |  5 |\n\n",
            "text/html": [
              "<table>\n",
              "<caption>A data.frame: 6 × 25</caption>\n",
              "<thead>\n",
              "\t<tr><th></th><th scope=col>League</th><th scope=col>Name</th><th scope=col>Team</th><th scope=col>Position</th><th scope=col>GamesPlayed</th><th scope=col>TotalMinutesPlayed</th><th scope=col>FieldGoalsMade</th><th scope=col>FieldGoalsAttempted</th><th scope=col>ThreesMade</th><th scope=col>ThreesAttempted</th><th scope=col>⋯</th><th scope=col>Steals</th><th scope=col>Turnovers</th><th scope=col>Blocks</th><th scope=col>PersonalFouls</th><th scope=col>Disqualifications</th><th scope=col>TotalPoints</th><th scope=col>Technicals</th><th scope=col>Ejections</th><th scope=col>FlagrantFouls</th><th scope=col>GamesStarted</th></tr>\n",
              "\t<tr><th></th><th scope=col>&lt;fct&gt;</th><th scope=col>&lt;chr&gt;</th><th scope=col>&lt;fct&gt;</th><th scope=col>&lt;fct&gt;</th><th scope=col>&lt;int&gt;</th><th scope=col>&lt;int&gt;</th><th scope=col>&lt;int&gt;</th><th scope=col>&lt;int&gt;</th><th scope=col>&lt;int&gt;</th><th scope=col>&lt;int&gt;</th><th scope=col>⋯</th><th scope=col>&lt;int&gt;</th><th scope=col>&lt;int&gt;</th><th scope=col>&lt;int&gt;</th><th scope=col>&lt;int&gt;</th><th scope=col>&lt;int&gt;</th><th scope=col>&lt;int&gt;</th><th scope=col>&lt;int&gt;</th><th scope=col>&lt;int&gt;</th><th scope=col>&lt;int&gt;</th><th scope=col>&lt;int&gt;</th></tr>\n",
              "</thead>\n",
              "<tbody>\n",
              "\t<tr><th scope=row>1</th><td>NBA</td><td>Quincy Acy   </td><td>SAC</td><td>SF</td><td>59</td><td> 877</td><td>119</td><td>214</td><td>19</td><td> 49</td><td>⋯</td><td>29</td><td>27</td><td>24</td><td>103</td><td>0</td><td>307</td><td>3</td><td>0</td><td>0</td><td>29</td></tr>\n",
              "\t<tr><th scope=row>2</th><td>NBA</td><td>Jordan Adams </td><td>MEM</td><td>SG</td><td> 2</td><td>  15</td><td>  2</td><td>  6</td><td> 0</td><td>  1</td><td>⋯</td><td> 3</td><td> 2</td><td> 0</td><td>  2</td><td>0</td><td>  7</td><td>0</td><td>0</td><td>0</td><td> 0</td></tr>\n",
              "\t<tr><th scope=row>3</th><td>NBA</td><td>Steven Adams </td><td>OKL</td><td>C </td><td>80</td><td>2019</td><td>261</td><td>426</td><td> 0</td><td>  0</td><td>⋯</td><td>42</td><td>84</td><td>89</td><td>223</td><td>2</td><td>636</td><td>2</td><td>0</td><td>0</td><td>80</td></tr>\n",
              "\t<tr><th scope=row>4</th><td>NBA</td><td>Arron Afflalo</td><td>NYK</td><td>SG</td><td>71</td><td>2359</td><td>354</td><td>799</td><td>91</td><td>238</td><td>⋯</td><td>25</td><td>82</td><td>10</td><td>142</td><td>1</td><td>909</td><td>1</td><td>0</td><td>0</td><td>57</td></tr>\n",
              "\t<tr><th scope=row>5</th><td>NBA</td><td>Alexis Ajinca</td><td>NOR</td><td>C </td><td>59</td><td> 863</td><td>150</td><td>314</td><td> 0</td><td>  1</td><td>⋯</td><td>19</td><td>54</td><td>36</td><td>134</td><td>0</td><td>352</td><td>2</td><td>0</td><td>0</td><td>17</td></tr>\n",
              "\t<tr><th scope=row>6</th><td>NBA</td><td>Cole Aldrich </td><td>LAC</td><td>C </td><td>60</td><td> 802</td><td>134</td><td>225</td><td> 0</td><td>  0</td><td>⋯</td><td>47</td><td>64</td><td>68</td><td>139</td><td>1</td><td>328</td><td>0</td><td>0</td><td>0</td><td> 5</td></tr>\n",
              "</tbody>\n",
              "</table>\n"
            ]
          },
          "metadata": {
            "tags": []
          }
        }
      ]
    },
    {
      "cell_type": "code",
      "metadata": {
        "id": "I5tgCOzcm7Dy",
        "outputId": "1f648d53-ec35-42d7-eebb-c7411f9e1899",
        "colab": {
          "base_uri": "https://localhost:8080/",
          "height": 634
        }
      },
      "source": [
        "NBA1516order <- NBA1516[order(NBA1516$GamesPlayed,decreasing = T),]\n",
        "NBA1516order[1:20,]"
      ],
      "execution_count": 74,
      "outputs": [
        {
          "output_type": "display_data",
          "data": {
            "text/plain": [
              "    League Name             Team Position GamesPlayed TotalMinutesPlayed\n",
              "11  NBA    Al-farouq Aminu  POR  SF       82          2342              \n",
              "37  NBA    Will Barton      DEN  SG       82          2355              \n",
              "48  NBA    Bismack Biyombo  TOR  PF       82          1810              \n",
              "62  NBA    Corey Brewer     HOU  SG       82          1670              \n",
              "118 NBA    Gorgui Dieng     MIN  C        82          2222              \n",
              "148 NBA    Langsto Galloway NYK  PG       82          2032              \n",
              "178 NBA    James Harden     HOU  SG       82          3121              \n",
              "208 NBA    Al Horford       ATL  PF       82          2638              \n",
              "246 NBA    Enes Kanter      OKL  C        82          1721              \n",
              "259 NBA    Zach Lavine      MIN  PG       82          2295              \n",
              "272 NBA    Robin Lopez      NYK  C        82          2213              \n",
              "320 NBA    Shabazz Muhammad MIN  SF       82          1678              \n",
              "357 NBA    Mason Plumlee    POR  PF       82          2087              \n",
              "394 NBA    Ramon Sessions   WAS  PG       82          1667              \n",
              "422 NBA    Isaiah Thomas    BOS  PG       82          2647              \n",
              "427 NBA    Tristan Thompson CLE  C        82          2269              \n",
              "431 NBA    Karl-antho Towns MIN  C        82          2621              \n",
              "432 NBA    P.j. Tucker      PHO  SF       82          2540              \n",
              "24  NBA    Trevor Ariza     HOU  SF       81          2860              \n",
              "41  NBA    Aron Baynes      DET  PF       81          1241              \n",
              "    FieldGoalsMade FieldGoalsAttempted ThreesMade ThreesAttempted ⋯ Steals\n",
              "11  299             719                126        349             ⋯  72   \n",
              "37  426             984                112        324             ⋯  71   \n",
              "48  156             288                  0          1             ⋯  19   \n",
              "62  212             552                 61        225             ⋯  84   \n",
              "118 308             578                  6         20             ⋯  94   \n",
              "148 231             588                 77        224             ⋯  77   \n",
              "178 710            1617                236        656             ⋯ 138   \n",
              "208 529            1049                 88        257             ⋯  67   \n",
              "246 415             720                 10         21             ⋯  26   \n",
              "259 433             960                123        316             ⋯  69   \n",
              "272 357             662                  0          1             ⋯  16   \n",
              "320 317             681                 44        152             ⋯  24   \n",
              "357 267             517                  0          4             ⋯  68   \n",
              "394 280             592                 36        111             ⋯  47   \n",
              "422 591            1382                167        465             ⋯  91   \n",
              "427 247             420                  0          0             ⋯  38   \n",
              "431 625            1152                 30         88             ⋯  58   \n",
              "432 239             582                 68        206             ⋯ 106   \n",
              "24  357             858                185        497             ⋯ 161   \n",
              "41  194             384                  0          2             ⋯  21   \n",
              "    Turnovers Blocks PersonalFouls Disqualifications TotalPoints Technicals\n",
              "11  120        53    171           0                  839        3         \n",
              "37  139        39    147           0                 1180        2         \n",
              "48   71       133    225           2                  454        3         \n",
              "62   78        19    168           1                  590        0         \n",
              "118 140        96    219           0                  827        1         \n",
              "148  61        22    177           2                  625        0         \n",
              "178 374        51    229           1                 2376        2         \n",
              "208 107       122    163           0                 1249        1         \n",
              "246 115        33    166           1                 1040        2         \n",
              "259 155        17    193           1                 1150        0         \n",
              "272 133       129    182           2                  842        3         \n",
              "320  70         7     94           0                  863        0         \n",
              "357 154        82    253           4                  749        1         \n",
              "394 115         5    102           0                  810        0         \n",
              "422 220         9    167           1                 1823        9         \n",
              "427  61        51    202           0                  643        1         \n",
              "431 183       138    245           1                 1503        2         \n",
              "432 111        20    202           3                  652        4         \n",
              "24  113        26    177           0                 1025        2         \n",
              "41   67        52    151           0                  514        0         \n",
              "    Ejections FlagrantFouls GamesStarted\n",
              "11  0         0             82          \n",
              "37  0         0              1          \n",
              "48  0         0             22          \n",
              "62  0         0             12          \n",
              "118 0         0             39          \n",
              "148 0         0              7          \n",
              "178 0         0             82          \n",
              "208 0         0             82          \n",
              "246 0         0              1          \n",
              "259 0         0             33          \n",
              "272 0         0             82          \n",
              "320 0         0              0          \n",
              "357 0         0             82          \n",
              "394 0         0              5          \n",
              "422 0         0             79          \n",
              "427 0         0             34          \n",
              "431 0         0             82          \n",
              "432 0         0             80          \n",
              "24  0         0             81          \n",
              "41  0         0              1          "
            ],
            "text/latex": "A data.frame: 20 × 25\n\\begin{tabular}{r|lllllllllllllllllllll}\n  & League & Name & Team & Position & GamesPlayed & TotalMinutesPlayed & FieldGoalsMade & FieldGoalsAttempted & ThreesMade & ThreesAttempted & ⋯ & Steals & Turnovers & Blocks & PersonalFouls & Disqualifications & TotalPoints & Technicals & Ejections & FlagrantFouls & GamesStarted\\\\\n  & <fct> & <chr> & <fct> & <fct> & <int> & <int> & <int> & <int> & <int> & <int> & ⋯ & <int> & <int> & <int> & <int> & <int> & <int> & <int> & <int> & <int> & <int>\\\\\n\\hline\n\t11 & NBA & Al-farouq Aminu  & POR & SF & 82 & 2342 & 299 &  719 & 126 & 349 & ⋯ &  72 & 120 &  53 & 171 & 0 &  839 & 3 & 0 & 0 & 82\\\\\n\t37 & NBA & Will Barton      & DEN & SG & 82 & 2355 & 426 &  984 & 112 & 324 & ⋯ &  71 & 139 &  39 & 147 & 0 & 1180 & 2 & 0 & 0 &  1\\\\\n\t48 & NBA & Bismack Biyombo  & TOR & PF & 82 & 1810 & 156 &  288 &   0 &   1 & ⋯ &  19 &  71 & 133 & 225 & 2 &  454 & 3 & 0 & 0 & 22\\\\\n\t62 & NBA & Corey Brewer     & HOU & SG & 82 & 1670 & 212 &  552 &  61 & 225 & ⋯ &  84 &  78 &  19 & 168 & 1 &  590 & 0 & 0 & 0 & 12\\\\\n\t118 & NBA & Gorgui Dieng     & MIN & C  & 82 & 2222 & 308 &  578 &   6 &  20 & ⋯ &  94 & 140 &  96 & 219 & 0 &  827 & 1 & 0 & 0 & 39\\\\\n\t148 & NBA & Langsto Galloway & NYK & PG & 82 & 2032 & 231 &  588 &  77 & 224 & ⋯ &  77 &  61 &  22 & 177 & 2 &  625 & 0 & 0 & 0 &  7\\\\\n\t178 & NBA & James Harden     & HOU & SG & 82 & 3121 & 710 & 1617 & 236 & 656 & ⋯ & 138 & 374 &  51 & 229 & 1 & 2376 & 2 & 0 & 0 & 82\\\\\n\t208 & NBA & Al Horford       & ATL & PF & 82 & 2638 & 529 & 1049 &  88 & 257 & ⋯ &  67 & 107 & 122 & 163 & 0 & 1249 & 1 & 0 & 0 & 82\\\\\n\t246 & NBA & Enes Kanter      & OKL & C  & 82 & 1721 & 415 &  720 &  10 &  21 & ⋯ &  26 & 115 &  33 & 166 & 1 & 1040 & 2 & 0 & 0 &  1\\\\\n\t259 & NBA & Zach Lavine      & MIN & PG & 82 & 2295 & 433 &  960 & 123 & 316 & ⋯ &  69 & 155 &  17 & 193 & 1 & 1150 & 0 & 0 & 0 & 33\\\\\n\t272 & NBA & Robin Lopez      & NYK & C  & 82 & 2213 & 357 &  662 &   0 &   1 & ⋯ &  16 & 133 & 129 & 182 & 2 &  842 & 3 & 0 & 0 & 82\\\\\n\t320 & NBA & Shabazz Muhammad & MIN & SF & 82 & 1678 & 317 &  681 &  44 & 152 & ⋯ &  24 &  70 &   7 &  94 & 0 &  863 & 0 & 0 & 0 &  0\\\\\n\t357 & NBA & Mason Plumlee    & POR & PF & 82 & 2087 & 267 &  517 &   0 &   4 & ⋯ &  68 & 154 &  82 & 253 & 4 &  749 & 1 & 0 & 0 & 82\\\\\n\t394 & NBA & Ramon Sessions   & WAS & PG & 82 & 1667 & 280 &  592 &  36 & 111 & ⋯ &  47 & 115 &   5 & 102 & 0 &  810 & 0 & 0 & 0 &  5\\\\\n\t422 & NBA & Isaiah Thomas    & BOS & PG & 82 & 2647 & 591 & 1382 & 167 & 465 & ⋯ &  91 & 220 &   9 & 167 & 1 & 1823 & 9 & 0 & 0 & 79\\\\\n\t427 & NBA & Tristan Thompson & CLE & C  & 82 & 2269 & 247 &  420 &   0 &   0 & ⋯ &  38 &  61 &  51 & 202 & 0 &  643 & 1 & 0 & 0 & 34\\\\\n\t431 & NBA & Karl-antho Towns & MIN & C  & 82 & 2621 & 625 & 1152 &  30 &  88 & ⋯ &  58 & 183 & 138 & 245 & 1 & 1503 & 2 & 0 & 0 & 82\\\\\n\t432 & NBA & P.j. Tucker      & PHO & SF & 82 & 2540 & 239 &  582 &  68 & 206 & ⋯ & 106 & 111 &  20 & 202 & 3 &  652 & 4 & 0 & 0 & 80\\\\\n\t24 & NBA & Trevor Ariza     & HOU & SF & 81 & 2860 & 357 &  858 & 185 & 497 & ⋯ & 161 & 113 &  26 & 177 & 0 & 1025 & 2 & 0 & 0 & 81\\\\\n\t41 & NBA & Aron Baynes      & DET & PF & 81 & 1241 & 194 &  384 &   0 &   2 & ⋯ &  21 &  67 &  52 & 151 & 0 &  514 & 0 & 0 & 0 &  1\\\\\n\\end{tabular}\n",
            "text/markdown": "\nA data.frame: 20 × 25\n\n| <!--/--> | League &lt;fct&gt; | Name &lt;chr&gt; | Team &lt;fct&gt; | Position &lt;fct&gt; | GamesPlayed &lt;int&gt; | TotalMinutesPlayed &lt;int&gt; | FieldGoalsMade &lt;int&gt; | FieldGoalsAttempted &lt;int&gt; | ThreesMade &lt;int&gt; | ThreesAttempted &lt;int&gt; | ⋯ ⋯ | Steals &lt;int&gt; | Turnovers &lt;int&gt; | Blocks &lt;int&gt; | PersonalFouls &lt;int&gt; | Disqualifications &lt;int&gt; | TotalPoints &lt;int&gt; | Technicals &lt;int&gt; | Ejections &lt;int&gt; | FlagrantFouls &lt;int&gt; | GamesStarted &lt;int&gt; |\n|---|---|---|---|---|---|---|---|---|---|---|---|---|---|---|---|---|---|---|---|---|---|\n| 11 | NBA | Al-farouq Aminu  | POR | SF | 82 | 2342 | 299 |  719 | 126 | 349 | ⋯ |  72 | 120 |  53 | 171 | 0 |  839 | 3 | 0 | 0 | 82 |\n| 37 | NBA | Will Barton      | DEN | SG | 82 | 2355 | 426 |  984 | 112 | 324 | ⋯ |  71 | 139 |  39 | 147 | 0 | 1180 | 2 | 0 | 0 |  1 |\n| 48 | NBA | Bismack Biyombo  | TOR | PF | 82 | 1810 | 156 |  288 |   0 |   1 | ⋯ |  19 |  71 | 133 | 225 | 2 |  454 | 3 | 0 | 0 | 22 |\n| 62 | NBA | Corey Brewer     | HOU | SG | 82 | 1670 | 212 |  552 |  61 | 225 | ⋯ |  84 |  78 |  19 | 168 | 1 |  590 | 0 | 0 | 0 | 12 |\n| 118 | NBA | Gorgui Dieng     | MIN | C  | 82 | 2222 | 308 |  578 |   6 |  20 | ⋯ |  94 | 140 |  96 | 219 | 0 |  827 | 1 | 0 | 0 | 39 |\n| 148 | NBA | Langsto Galloway | NYK | PG | 82 | 2032 | 231 |  588 |  77 | 224 | ⋯ |  77 |  61 |  22 | 177 | 2 |  625 | 0 | 0 | 0 |  7 |\n| 178 | NBA | James Harden     | HOU | SG | 82 | 3121 | 710 | 1617 | 236 | 656 | ⋯ | 138 | 374 |  51 | 229 | 1 | 2376 | 2 | 0 | 0 | 82 |\n| 208 | NBA | Al Horford       | ATL | PF | 82 | 2638 | 529 | 1049 |  88 | 257 | ⋯ |  67 | 107 | 122 | 163 | 0 | 1249 | 1 | 0 | 0 | 82 |\n| 246 | NBA | Enes Kanter      | OKL | C  | 82 | 1721 | 415 |  720 |  10 |  21 | ⋯ |  26 | 115 |  33 | 166 | 1 | 1040 | 2 | 0 | 0 |  1 |\n| 259 | NBA | Zach Lavine      | MIN | PG | 82 | 2295 | 433 |  960 | 123 | 316 | ⋯ |  69 | 155 |  17 | 193 | 1 | 1150 | 0 | 0 | 0 | 33 |\n| 272 | NBA | Robin Lopez      | NYK | C  | 82 | 2213 | 357 |  662 |   0 |   1 | ⋯ |  16 | 133 | 129 | 182 | 2 |  842 | 3 | 0 | 0 | 82 |\n| 320 | NBA | Shabazz Muhammad | MIN | SF | 82 | 1678 | 317 |  681 |  44 | 152 | ⋯ |  24 |  70 |   7 |  94 | 0 |  863 | 0 | 0 | 0 |  0 |\n| 357 | NBA | Mason Plumlee    | POR | PF | 82 | 2087 | 267 |  517 |   0 |   4 | ⋯ |  68 | 154 |  82 | 253 | 4 |  749 | 1 | 0 | 0 | 82 |\n| 394 | NBA | Ramon Sessions   | WAS | PG | 82 | 1667 | 280 |  592 |  36 | 111 | ⋯ |  47 | 115 |   5 | 102 | 0 |  810 | 0 | 0 | 0 |  5 |\n| 422 | NBA | Isaiah Thomas    | BOS | PG | 82 | 2647 | 591 | 1382 | 167 | 465 | ⋯ |  91 | 220 |   9 | 167 | 1 | 1823 | 9 | 0 | 0 | 79 |\n| 427 | NBA | Tristan Thompson | CLE | C  | 82 | 2269 | 247 |  420 |   0 |   0 | ⋯ |  38 |  61 |  51 | 202 | 0 |  643 | 1 | 0 | 0 | 34 |\n| 431 | NBA | Karl-antho Towns | MIN | C  | 82 | 2621 | 625 | 1152 |  30 |  88 | ⋯ |  58 | 183 | 138 | 245 | 1 | 1503 | 2 | 0 | 0 | 82 |\n| 432 | NBA | P.j. Tucker      | PHO | SF | 82 | 2540 | 239 |  582 |  68 | 206 | ⋯ | 106 | 111 |  20 | 202 | 3 |  652 | 4 | 0 | 0 | 80 |\n| 24 | NBA | Trevor Ariza     | HOU | SF | 81 | 2860 | 357 |  858 | 185 | 497 | ⋯ | 161 | 113 |  26 | 177 | 0 | 1025 | 2 | 0 | 0 | 81 |\n| 41 | NBA | Aron Baynes      | DET | PF | 81 | 1241 | 194 |  384 |   0 |   2 | ⋯ |  21 |  67 |  52 | 151 | 0 |  514 | 0 | 0 | 0 |  1 |\n\n",
            "text/html": [
              "<table>\n",
              "<caption>A data.frame: 20 × 25</caption>\n",
              "<thead>\n",
              "\t<tr><th></th><th scope=col>League</th><th scope=col>Name</th><th scope=col>Team</th><th scope=col>Position</th><th scope=col>GamesPlayed</th><th scope=col>TotalMinutesPlayed</th><th scope=col>FieldGoalsMade</th><th scope=col>FieldGoalsAttempted</th><th scope=col>ThreesMade</th><th scope=col>ThreesAttempted</th><th scope=col>⋯</th><th scope=col>Steals</th><th scope=col>Turnovers</th><th scope=col>Blocks</th><th scope=col>PersonalFouls</th><th scope=col>Disqualifications</th><th scope=col>TotalPoints</th><th scope=col>Technicals</th><th scope=col>Ejections</th><th scope=col>FlagrantFouls</th><th scope=col>GamesStarted</th></tr>\n",
              "\t<tr><th></th><th scope=col>&lt;fct&gt;</th><th scope=col>&lt;chr&gt;</th><th scope=col>&lt;fct&gt;</th><th scope=col>&lt;fct&gt;</th><th scope=col>&lt;int&gt;</th><th scope=col>&lt;int&gt;</th><th scope=col>&lt;int&gt;</th><th scope=col>&lt;int&gt;</th><th scope=col>&lt;int&gt;</th><th scope=col>&lt;int&gt;</th><th scope=col>⋯</th><th scope=col>&lt;int&gt;</th><th scope=col>&lt;int&gt;</th><th scope=col>&lt;int&gt;</th><th scope=col>&lt;int&gt;</th><th scope=col>&lt;int&gt;</th><th scope=col>&lt;int&gt;</th><th scope=col>&lt;int&gt;</th><th scope=col>&lt;int&gt;</th><th scope=col>&lt;int&gt;</th><th scope=col>&lt;int&gt;</th></tr>\n",
              "</thead>\n",
              "<tbody>\n",
              "\t<tr><th scope=row>11</th><td>NBA</td><td>Al-farouq Aminu </td><td>POR</td><td>SF</td><td>82</td><td>2342</td><td>299</td><td> 719</td><td>126</td><td>349</td><td>⋯</td><td> 72</td><td>120</td><td> 53</td><td>171</td><td>0</td><td> 839</td><td>3</td><td>0</td><td>0</td><td>82</td></tr>\n",
              "\t<tr><th scope=row>37</th><td>NBA</td><td>Will Barton     </td><td>DEN</td><td>SG</td><td>82</td><td>2355</td><td>426</td><td> 984</td><td>112</td><td>324</td><td>⋯</td><td> 71</td><td>139</td><td> 39</td><td>147</td><td>0</td><td>1180</td><td>2</td><td>0</td><td>0</td><td> 1</td></tr>\n",
              "\t<tr><th scope=row>48</th><td>NBA</td><td>Bismack Biyombo </td><td>TOR</td><td>PF</td><td>82</td><td>1810</td><td>156</td><td> 288</td><td>  0</td><td>  1</td><td>⋯</td><td> 19</td><td> 71</td><td>133</td><td>225</td><td>2</td><td> 454</td><td>3</td><td>0</td><td>0</td><td>22</td></tr>\n",
              "\t<tr><th scope=row>62</th><td>NBA</td><td>Corey Brewer    </td><td>HOU</td><td>SG</td><td>82</td><td>1670</td><td>212</td><td> 552</td><td> 61</td><td>225</td><td>⋯</td><td> 84</td><td> 78</td><td> 19</td><td>168</td><td>1</td><td> 590</td><td>0</td><td>0</td><td>0</td><td>12</td></tr>\n",
              "\t<tr><th scope=row>118</th><td>NBA</td><td>Gorgui Dieng    </td><td>MIN</td><td>C </td><td>82</td><td>2222</td><td>308</td><td> 578</td><td>  6</td><td> 20</td><td>⋯</td><td> 94</td><td>140</td><td> 96</td><td>219</td><td>0</td><td> 827</td><td>1</td><td>0</td><td>0</td><td>39</td></tr>\n",
              "\t<tr><th scope=row>148</th><td>NBA</td><td>Langsto Galloway</td><td>NYK</td><td>PG</td><td>82</td><td>2032</td><td>231</td><td> 588</td><td> 77</td><td>224</td><td>⋯</td><td> 77</td><td> 61</td><td> 22</td><td>177</td><td>2</td><td> 625</td><td>0</td><td>0</td><td>0</td><td> 7</td></tr>\n",
              "\t<tr><th scope=row>178</th><td>NBA</td><td>James Harden    </td><td>HOU</td><td>SG</td><td>82</td><td>3121</td><td>710</td><td>1617</td><td>236</td><td>656</td><td>⋯</td><td>138</td><td>374</td><td> 51</td><td>229</td><td>1</td><td>2376</td><td>2</td><td>0</td><td>0</td><td>82</td></tr>\n",
              "\t<tr><th scope=row>208</th><td>NBA</td><td>Al Horford      </td><td>ATL</td><td>PF</td><td>82</td><td>2638</td><td>529</td><td>1049</td><td> 88</td><td>257</td><td>⋯</td><td> 67</td><td>107</td><td>122</td><td>163</td><td>0</td><td>1249</td><td>1</td><td>0</td><td>0</td><td>82</td></tr>\n",
              "\t<tr><th scope=row>246</th><td>NBA</td><td>Enes Kanter     </td><td>OKL</td><td>C </td><td>82</td><td>1721</td><td>415</td><td> 720</td><td> 10</td><td> 21</td><td>⋯</td><td> 26</td><td>115</td><td> 33</td><td>166</td><td>1</td><td>1040</td><td>2</td><td>0</td><td>0</td><td> 1</td></tr>\n",
              "\t<tr><th scope=row>259</th><td>NBA</td><td>Zach Lavine     </td><td>MIN</td><td>PG</td><td>82</td><td>2295</td><td>433</td><td> 960</td><td>123</td><td>316</td><td>⋯</td><td> 69</td><td>155</td><td> 17</td><td>193</td><td>1</td><td>1150</td><td>0</td><td>0</td><td>0</td><td>33</td></tr>\n",
              "\t<tr><th scope=row>272</th><td>NBA</td><td>Robin Lopez     </td><td>NYK</td><td>C </td><td>82</td><td>2213</td><td>357</td><td> 662</td><td>  0</td><td>  1</td><td>⋯</td><td> 16</td><td>133</td><td>129</td><td>182</td><td>2</td><td> 842</td><td>3</td><td>0</td><td>0</td><td>82</td></tr>\n",
              "\t<tr><th scope=row>320</th><td>NBA</td><td>Shabazz Muhammad</td><td>MIN</td><td>SF</td><td>82</td><td>1678</td><td>317</td><td> 681</td><td> 44</td><td>152</td><td>⋯</td><td> 24</td><td> 70</td><td>  7</td><td> 94</td><td>0</td><td> 863</td><td>0</td><td>0</td><td>0</td><td> 0</td></tr>\n",
              "\t<tr><th scope=row>357</th><td>NBA</td><td>Mason Plumlee   </td><td>POR</td><td>PF</td><td>82</td><td>2087</td><td>267</td><td> 517</td><td>  0</td><td>  4</td><td>⋯</td><td> 68</td><td>154</td><td> 82</td><td>253</td><td>4</td><td> 749</td><td>1</td><td>0</td><td>0</td><td>82</td></tr>\n",
              "\t<tr><th scope=row>394</th><td>NBA</td><td>Ramon Sessions  </td><td>WAS</td><td>PG</td><td>82</td><td>1667</td><td>280</td><td> 592</td><td> 36</td><td>111</td><td>⋯</td><td> 47</td><td>115</td><td>  5</td><td>102</td><td>0</td><td> 810</td><td>0</td><td>0</td><td>0</td><td> 5</td></tr>\n",
              "\t<tr><th scope=row>422</th><td>NBA</td><td>Isaiah Thomas   </td><td>BOS</td><td>PG</td><td>82</td><td>2647</td><td>591</td><td>1382</td><td>167</td><td>465</td><td>⋯</td><td> 91</td><td>220</td><td>  9</td><td>167</td><td>1</td><td>1823</td><td>9</td><td>0</td><td>0</td><td>79</td></tr>\n",
              "\t<tr><th scope=row>427</th><td>NBA</td><td>Tristan Thompson</td><td>CLE</td><td>C </td><td>82</td><td>2269</td><td>247</td><td> 420</td><td>  0</td><td>  0</td><td>⋯</td><td> 38</td><td> 61</td><td> 51</td><td>202</td><td>0</td><td> 643</td><td>1</td><td>0</td><td>0</td><td>34</td></tr>\n",
              "\t<tr><th scope=row>431</th><td>NBA</td><td>Karl-antho Towns</td><td>MIN</td><td>C </td><td>82</td><td>2621</td><td>625</td><td>1152</td><td> 30</td><td> 88</td><td>⋯</td><td> 58</td><td>183</td><td>138</td><td>245</td><td>1</td><td>1503</td><td>2</td><td>0</td><td>0</td><td>82</td></tr>\n",
              "\t<tr><th scope=row>432</th><td>NBA</td><td>P.j. Tucker     </td><td>PHO</td><td>SF</td><td>82</td><td>2540</td><td>239</td><td> 582</td><td> 68</td><td>206</td><td>⋯</td><td>106</td><td>111</td><td> 20</td><td>202</td><td>3</td><td> 652</td><td>4</td><td>0</td><td>0</td><td>80</td></tr>\n",
              "\t<tr><th scope=row>24</th><td>NBA</td><td>Trevor Ariza    </td><td>HOU</td><td>SF</td><td>81</td><td>2860</td><td>357</td><td> 858</td><td>185</td><td>497</td><td>⋯</td><td>161</td><td>113</td><td> 26</td><td>177</td><td>0</td><td>1025</td><td>2</td><td>0</td><td>0</td><td>81</td></tr>\n",
              "\t<tr><th scope=row>41</th><td>NBA</td><td>Aron Baynes     </td><td>DET</td><td>PF</td><td>81</td><td>1241</td><td>194</td><td> 384</td><td>  0</td><td>  2</td><td>⋯</td><td> 21</td><td> 67</td><td> 52</td><td>151</td><td>0</td><td> 514</td><td>0</td><td>0</td><td>0</td><td> 1</td></tr>\n",
              "</tbody>\n",
              "</table>\n"
            ]
          },
          "metadata": {
            "tags": []
          }
        }
      ]
    },
    {
      "cell_type": "code",
      "metadata": {
        "id": "l2UAuYbmoqwn",
        "outputId": "e88e2fbe-f26f-41be-cc25-76a3b8ed2e03",
        "colab": {
          "base_uri": "https://localhost:8080/",
          "height": 51
        }
      },
      "source": [
        "NBA1516orderM <- NBA1516[order(NBA1516$TotalMinutesPlayed,decreasing = T),]\n",
        "NBA1516orderM[1:20,\"Name\"]"
      ],
      "execution_count": 77,
      "outputs": [
        {
          "output_type": "display_data",
          "data": {
            "text/plain": [
              " [1] \"James Harden\"     \"Gordon Hayward\"   \"Kemba Walker\"     \"Trevor Ariza\"    \n",
              " [5] \"Khris Middleton\"  \"Kyle Lowry\"       \"Marcus Morris\"    \"Andrew Wiggins\"  \n",
              " [9] \"Paul George\"      \"Gi Antetokounmpo\" \"Draymond Green\"   \"Demar Derozan\"   \n",
              "[13] \"Ke Caldwell-pope\" \"John Wall\"        \"C.j. Mccollum\"    \"Russel Westbrook\"\n",
              "[17] \"Monta Ellis\"      \"Lebron James\"     \"Stephen Curry\"    \"Joe Johnson\"     "
            ],
            "text/latex": "\\begin{enumerate*}\n\\item 'James Harden'\n\\item 'Gordon Hayward'\n\\item 'Kemba Walker'\n\\item 'Trevor Ariza'\n\\item 'Khris Middleton'\n\\item 'Kyle Lowry'\n\\item 'Marcus Morris'\n\\item 'Andrew Wiggins'\n\\item 'Paul George'\n\\item 'Gi Antetokounmpo'\n\\item 'Draymond Green'\n\\item 'Demar Derozan'\n\\item 'Ke Caldwell-pope'\n\\item 'John Wall'\n\\item 'C.j. Mccollum'\n\\item 'Russel Westbrook'\n\\item 'Monta Ellis'\n\\item 'Lebron James'\n\\item 'Stephen Curry'\n\\item 'Joe Johnson'\n\\end{enumerate*}\n",
            "text/markdown": "1. 'James Harden'\n2. 'Gordon Hayward'\n3. 'Kemba Walker'\n4. 'Trevor Ariza'\n5. 'Khris Middleton'\n6. 'Kyle Lowry'\n7. 'Marcus Morris'\n8. 'Andrew Wiggins'\n9. 'Paul George'\n10. 'Gi Antetokounmpo'\n11. 'Draymond Green'\n12. 'Demar Derozan'\n13. 'Ke Caldwell-pope'\n14. 'John Wall'\n15. 'C.j. Mccollum'\n16. 'Russel Westbrook'\n17. 'Monta Ellis'\n18. 'Lebron James'\n19. 'Stephen Curry'\n20. 'Joe Johnson'\n\n\n",
            "text/html": [
              "<style>\n",
              ".list-inline {list-style: none; margin:0; padding: 0}\n",
              ".list-inline>li {display: inline-block}\n",
              ".list-inline>li:not(:last-child)::after {content: \"\\00b7\"; padding: 0 .5ex}\n",
              "</style>\n",
              "<ol class=list-inline><li>'James Harden'</li><li>'Gordon Hayward'</li><li>'Kemba Walker'</li><li>'Trevor Ariza'</li><li>'Khris Middleton'</li><li>'Kyle Lowry'</li><li>'Marcus Morris'</li><li>'Andrew Wiggins'</li><li>'Paul George'</li><li>'Gi Antetokounmpo'</li><li>'Draymond Green'</li><li>'Demar Derozan'</li><li>'Ke Caldwell-pope'</li><li>'John Wall'</li><li>'C.j. Mccollum'</li><li>'Russel Westbrook'</li><li>'Monta Ellis'</li><li>'Lebron James'</li><li>'Stephen Curry'</li><li>'Joe Johnson'</li></ol>\n"
            ]
          },
          "metadata": {
            "tags": []
          }
        }
      ]
    },
    {
      "cell_type": "code",
      "metadata": {
        "id": "4SHThnTopC4q",
        "outputId": "221bb9ae-9a61-46b3-fb04-f82c715504e9",
        "colab": {
          "base_uri": "https://localhost:8080/",
          "height": 120
        }
      },
      "source": [
        "NBA1516[grepl(\"Curry\",NBA1516$Name),]"
      ],
      "execution_count": 87,
      "outputs": [
        {
          "output_type": "display_data",
          "data": {
            "text/plain": [
              "    League Name          Team Position GamesPlayed TotalMinutesPlayed\n",
              "105 NBA    Seth Curry    SAC  SG       44           694              \n",
              "106 NBA    Stephen Curry GSW  PG       79          2705              \n",
              "    FieldGoalsMade FieldGoalsAttempted ThreesMade ThreesAttempted ⋯ Steals\n",
              "105 102             224                 50        111             ⋯  22   \n",
              "106 805            1597                402        887             ⋯ 169   \n",
              "    Turnovers Blocks PersonalFouls Disqualifications TotalPoints Technicals\n",
              "105  36        3      41           0                  299        0         \n",
              "106 261       16     161           0                 2375        1         \n",
              "    Ejections FlagrantFouls GamesStarted\n",
              "105 0         0              9          \n",
              "106 0         0             79          "
            ],
            "text/latex": "A data.frame: 2 × 25\n\\begin{tabular}{r|lllllllllllllllllllll}\n  & League & Name & Team & Position & GamesPlayed & TotalMinutesPlayed & FieldGoalsMade & FieldGoalsAttempted & ThreesMade & ThreesAttempted & ⋯ & Steals & Turnovers & Blocks & PersonalFouls & Disqualifications & TotalPoints & Technicals & Ejections & FlagrantFouls & GamesStarted\\\\\n  & <fct> & <chr> & <fct> & <fct> & <int> & <int> & <int> & <int> & <int> & <int> & ⋯ & <int> & <int> & <int> & <int> & <int> & <int> & <int> & <int> & <int> & <int>\\\\\n\\hline\n\t105 & NBA & Seth Curry    & SAC & SG & 44 &  694 & 102 &  224 &  50 & 111 & ⋯ &  22 &  36 &  3 &  41 & 0 &  299 & 0 & 0 & 0 &  9\\\\\n\t106 & NBA & Stephen Curry & GSW & PG & 79 & 2705 & 805 & 1597 & 402 & 887 & ⋯ & 169 & 261 & 16 & 161 & 0 & 2375 & 1 & 0 & 0 & 79\\\\\n\\end{tabular}\n",
            "text/markdown": "\nA data.frame: 2 × 25\n\n| <!--/--> | League &lt;fct&gt; | Name &lt;chr&gt; | Team &lt;fct&gt; | Position &lt;fct&gt; | GamesPlayed &lt;int&gt; | TotalMinutesPlayed &lt;int&gt; | FieldGoalsMade &lt;int&gt; | FieldGoalsAttempted &lt;int&gt; | ThreesMade &lt;int&gt; | ThreesAttempted &lt;int&gt; | ⋯ ⋯ | Steals &lt;int&gt; | Turnovers &lt;int&gt; | Blocks &lt;int&gt; | PersonalFouls &lt;int&gt; | Disqualifications &lt;int&gt; | TotalPoints &lt;int&gt; | Technicals &lt;int&gt; | Ejections &lt;int&gt; | FlagrantFouls &lt;int&gt; | GamesStarted &lt;int&gt; |\n|---|---|---|---|---|---|---|---|---|---|---|---|---|---|---|---|---|---|---|---|---|---|\n| 105 | NBA | Seth Curry    | SAC | SG | 44 |  694 | 102 |  224 |  50 | 111 | ⋯ |  22 |  36 |  3 |  41 | 0 |  299 | 0 | 0 | 0 |  9 |\n| 106 | NBA | Stephen Curry | GSW | PG | 79 | 2705 | 805 | 1597 | 402 | 887 | ⋯ | 169 | 261 | 16 | 161 | 0 | 2375 | 1 | 0 | 0 | 79 |\n\n",
            "text/html": [
              "<table>\n",
              "<caption>A data.frame: 2 × 25</caption>\n",
              "<thead>\n",
              "\t<tr><th></th><th scope=col>League</th><th scope=col>Name</th><th scope=col>Team</th><th scope=col>Position</th><th scope=col>GamesPlayed</th><th scope=col>TotalMinutesPlayed</th><th scope=col>FieldGoalsMade</th><th scope=col>FieldGoalsAttempted</th><th scope=col>ThreesMade</th><th scope=col>ThreesAttempted</th><th scope=col>⋯</th><th scope=col>Steals</th><th scope=col>Turnovers</th><th scope=col>Blocks</th><th scope=col>PersonalFouls</th><th scope=col>Disqualifications</th><th scope=col>TotalPoints</th><th scope=col>Technicals</th><th scope=col>Ejections</th><th scope=col>FlagrantFouls</th><th scope=col>GamesStarted</th></tr>\n",
              "\t<tr><th></th><th scope=col>&lt;fct&gt;</th><th scope=col>&lt;chr&gt;</th><th scope=col>&lt;fct&gt;</th><th scope=col>&lt;fct&gt;</th><th scope=col>&lt;int&gt;</th><th scope=col>&lt;int&gt;</th><th scope=col>&lt;int&gt;</th><th scope=col>&lt;int&gt;</th><th scope=col>&lt;int&gt;</th><th scope=col>&lt;int&gt;</th><th scope=col>⋯</th><th scope=col>&lt;int&gt;</th><th scope=col>&lt;int&gt;</th><th scope=col>&lt;int&gt;</th><th scope=col>&lt;int&gt;</th><th scope=col>&lt;int&gt;</th><th scope=col>&lt;int&gt;</th><th scope=col>&lt;int&gt;</th><th scope=col>&lt;int&gt;</th><th scope=col>&lt;int&gt;</th><th scope=col>&lt;int&gt;</th></tr>\n",
              "</thead>\n",
              "<tbody>\n",
              "\t<tr><th scope=row>105</th><td>NBA</td><td>Seth Curry   </td><td>SAC</td><td>SG</td><td>44</td><td> 694</td><td>102</td><td> 224</td><td> 50</td><td>111</td><td>⋯</td><td> 22</td><td> 36</td><td> 3</td><td> 41</td><td>0</td><td> 299</td><td>0</td><td>0</td><td>0</td><td> 9</td></tr>\n",
              "\t<tr><th scope=row>106</th><td>NBA</td><td>Stephen Curry</td><td>GSW</td><td>PG</td><td>79</td><td>2705</td><td>805</td><td>1597</td><td>402</td><td>887</td><td>⋯</td><td>169</td><td>261</td><td>16</td><td>161</td><td>0</td><td>2375</td><td>1</td><td>0</td><td>0</td><td>79</td></tr>\n",
              "</tbody>\n",
              "</table>\n"
            ]
          },
          "metadata": {
            "tags": []
          }
        }
      ]
    },
    {
      "cell_type": "code",
      "metadata": {
        "id": "IwlhxJIyp1nz",
        "outputId": "d5ae9c84-90a6-47d1-f3e3-81438b37dc15",
        "colab": {
          "base_uri": "https://localhost:8080/",
          "height": 461
        }
      },
      "source": [
        "NBA1516[grep(\"SAC\",NBA1516$Team),]"
      ],
      "execution_count": 88,
      "outputs": [
        {
          "output_type": "display_data",
          "data": {
            "text/plain": [
              "    League Name             Team Position GamesPlayed TotalMinutesPlayed\n",
              "1   NBA    Quincy Acy       SAC  SF       59           877              \n",
              "15  NBA    James Anderson   SAC  SG       51           721              \n",
              "45  NBA    Marco Belinelli  SAC  SF       68          1670              \n",
              "72  NBA    Caron Butler     SAC  SF       17           176              \n",
              "83  NBA    Omri Casspi      SAC  SF       69          1883              \n",
              "84  NBA    Wil Cauley-stein SAC  C        66          1411              \n",
              "92  NBA    Darren Collison  SAC  PG       74          2216              \n",
              "98  NBA    Demarcus Cousins SAC  C        65          2245              \n",
              "105 NBA    Seth Curry       SAC  SG       44           694              \n",
              "124 NBA    Duje Dukan       SAC  PF        1            24              \n",
              "152 NBA    Rudy Gay         SAC  SF       70          2383              \n",
              "254 NBA    Kosta Koufos     SAC  C        78          1489              \n",
              "295 NBA    Ben Mclemore     SAC  SG       68          1444              \n",
              "313 NBA    Eric Moreland    SAC  PF        9            47              \n",
              "379 NBA    Rajon Rondo      SAC  PG       72          2537              \n",
              "    FieldGoalsMade FieldGoalsAttempted ThreesMade ThreesAttempted ⋯ Steals\n",
              "1   119             214                 19         49             ⋯  29   \n",
              "15   67             178                 23         86             ⋯  21   \n",
              "45  245             635                 91        297             ⋯  37   \n",
              "72   25              59                  3         18             ⋯   9   \n",
              "83  300             623                112        274             ⋯  56   \n",
              "84  191             339                  0          2             ⋯  48   \n",
              "92  377             776                 87        217             ⋯  76   \n",
              "98  601            1332                 70        210             ⋯ 101   \n",
              "105 102             224                 50        111             ⋯  22   \n",
              "124   2              10                  2          5             ⋯   1   \n",
              "152 466            1007                 74        215             ⋯ 100   \n",
              "254 235             443                  0          0             ⋯  40   \n",
              "295 195             455                 67        185             ⋯  52   \n",
              "313   3               6                  0          0             ⋯   0   \n",
              "379 355             782                 62        170             ⋯ 142   \n",
              "    Turnovers Blocks PersonalFouls Disqualifications TotalPoints Technicals\n",
              "1    27       24     103           0                  307         3        \n",
              "15   42       14      54           0                  179         0        \n",
              "45   80        2      91           0                  696         0        \n",
              "72    3        1      19           0                   63         0        \n",
              "83   94       17     154           1                  815         4        \n",
              "84   46       66     146           1                  463         0        \n",
              "92  129        4     142           0                 1035         1        \n",
              "98  249       91     236           7                 1748        11        \n",
              "105  36        3      41           0                  299         0        \n",
              "124   0        0       2           0                    6         0        \n",
              "152 139       51     184           1                 1204         1        \n",
              "254  48       70     185           1                  527         2        \n",
              "295  99       10     140           0                  531         0        \n",
              "313   3        4       4           0                    8         0        \n",
              "379 279       10     175           1                  859         3        \n",
              "    Ejections FlagrantFouls GamesStarted\n",
              "1   0         0             29          \n",
              "15  0         0             15          \n",
              "45  0         0              7          \n",
              "72  0         0              1          \n",
              "83  0         0             21          \n",
              "84  0         0             39          \n",
              "92  0         0             15          \n",
              "98  0         0             65          \n",
              "105 0         0              9          \n",
              "124 0         0              0          \n",
              "152 0         0             70          \n",
              "254 0         0             14          \n",
              "295 0         0             53          \n",
              "313 0         0              0          \n",
              "379 0         0             72          "
            ],
            "text/latex": "A data.frame: 15 × 25\n\\begin{tabular}{r|lllllllllllllllllllll}\n  & League & Name & Team & Position & GamesPlayed & TotalMinutesPlayed & FieldGoalsMade & FieldGoalsAttempted & ThreesMade & ThreesAttempted & ⋯ & Steals & Turnovers & Blocks & PersonalFouls & Disqualifications & TotalPoints & Technicals & Ejections & FlagrantFouls & GamesStarted\\\\\n  & <fct> & <chr> & <fct> & <fct> & <int> & <int> & <int> & <int> & <int> & <int> & ⋯ & <int> & <int> & <int> & <int> & <int> & <int> & <int> & <int> & <int> & <int>\\\\\n\\hline\n\t1 & NBA & Quincy Acy       & SAC & SF & 59 &  877 & 119 &  214 &  19 &  49 & ⋯ &  29 &  27 & 24 & 103 & 0 &  307 &  3 & 0 & 0 & 29\\\\\n\t15 & NBA & James Anderson   & SAC & SG & 51 &  721 &  67 &  178 &  23 &  86 & ⋯ &  21 &  42 & 14 &  54 & 0 &  179 &  0 & 0 & 0 & 15\\\\\n\t45 & NBA & Marco Belinelli  & SAC & SF & 68 & 1670 & 245 &  635 &  91 & 297 & ⋯ &  37 &  80 &  2 &  91 & 0 &  696 &  0 & 0 & 0 &  7\\\\\n\t72 & NBA & Caron Butler     & SAC & SF & 17 &  176 &  25 &   59 &   3 &  18 & ⋯ &   9 &   3 &  1 &  19 & 0 &   63 &  0 & 0 & 0 &  1\\\\\n\t83 & NBA & Omri Casspi      & SAC & SF & 69 & 1883 & 300 &  623 & 112 & 274 & ⋯ &  56 &  94 & 17 & 154 & 1 &  815 &  4 & 0 & 0 & 21\\\\\n\t84 & NBA & Wil Cauley-stein & SAC & C  & 66 & 1411 & 191 &  339 &   0 &   2 & ⋯ &  48 &  46 & 66 & 146 & 1 &  463 &  0 & 0 & 0 & 39\\\\\n\t92 & NBA & Darren Collison  & SAC & PG & 74 & 2216 & 377 &  776 &  87 & 217 & ⋯ &  76 & 129 &  4 & 142 & 0 & 1035 &  1 & 0 & 0 & 15\\\\\n\t98 & NBA & Demarcus Cousins & SAC & C  & 65 & 2245 & 601 & 1332 &  70 & 210 & ⋯ & 101 & 249 & 91 & 236 & 7 & 1748 & 11 & 0 & 0 & 65\\\\\n\t105 & NBA & Seth Curry       & SAC & SG & 44 &  694 & 102 &  224 &  50 & 111 & ⋯ &  22 &  36 &  3 &  41 & 0 &  299 &  0 & 0 & 0 &  9\\\\\n\t124 & NBA & Duje Dukan       & SAC & PF &  1 &   24 &   2 &   10 &   2 &   5 & ⋯ &   1 &   0 &  0 &   2 & 0 &    6 &  0 & 0 & 0 &  0\\\\\n\t152 & NBA & Rudy Gay         & SAC & SF & 70 & 2383 & 466 & 1007 &  74 & 215 & ⋯ & 100 & 139 & 51 & 184 & 1 & 1204 &  1 & 0 & 0 & 70\\\\\n\t254 & NBA & Kosta Koufos     & SAC & C  & 78 & 1489 & 235 &  443 &   0 &   0 & ⋯ &  40 &  48 & 70 & 185 & 1 &  527 &  2 & 0 & 0 & 14\\\\\n\t295 & NBA & Ben Mclemore     & SAC & SG & 68 & 1444 & 195 &  455 &  67 & 185 & ⋯ &  52 &  99 & 10 & 140 & 0 &  531 &  0 & 0 & 0 & 53\\\\\n\t313 & NBA & Eric Moreland    & SAC & PF &  9 &   47 &   3 &    6 &   0 &   0 & ⋯ &   0 &   3 &  4 &   4 & 0 &    8 &  0 & 0 & 0 &  0\\\\\n\t379 & NBA & Rajon Rondo      & SAC & PG & 72 & 2537 & 355 &  782 &  62 & 170 & ⋯ & 142 & 279 & 10 & 175 & 1 &  859 &  3 & 0 & 0 & 72\\\\\n\\end{tabular}\n",
            "text/markdown": "\nA data.frame: 15 × 25\n\n| <!--/--> | League &lt;fct&gt; | Name &lt;chr&gt; | Team &lt;fct&gt; | Position &lt;fct&gt; | GamesPlayed &lt;int&gt; | TotalMinutesPlayed &lt;int&gt; | FieldGoalsMade &lt;int&gt; | FieldGoalsAttempted &lt;int&gt; | ThreesMade &lt;int&gt; | ThreesAttempted &lt;int&gt; | ⋯ ⋯ | Steals &lt;int&gt; | Turnovers &lt;int&gt; | Blocks &lt;int&gt; | PersonalFouls &lt;int&gt; | Disqualifications &lt;int&gt; | TotalPoints &lt;int&gt; | Technicals &lt;int&gt; | Ejections &lt;int&gt; | FlagrantFouls &lt;int&gt; | GamesStarted &lt;int&gt; |\n|---|---|---|---|---|---|---|---|---|---|---|---|---|---|---|---|---|---|---|---|---|---|\n| 1 | NBA | Quincy Acy       | SAC | SF | 59 |  877 | 119 |  214 |  19 |  49 | ⋯ |  29 |  27 | 24 | 103 | 0 |  307 |  3 | 0 | 0 | 29 |\n| 15 | NBA | James Anderson   | SAC | SG | 51 |  721 |  67 |  178 |  23 |  86 | ⋯ |  21 |  42 | 14 |  54 | 0 |  179 |  0 | 0 | 0 | 15 |\n| 45 | NBA | Marco Belinelli  | SAC | SF | 68 | 1670 | 245 |  635 |  91 | 297 | ⋯ |  37 |  80 |  2 |  91 | 0 |  696 |  0 | 0 | 0 |  7 |\n| 72 | NBA | Caron Butler     | SAC | SF | 17 |  176 |  25 |   59 |   3 |  18 | ⋯ |   9 |   3 |  1 |  19 | 0 |   63 |  0 | 0 | 0 |  1 |\n| 83 | NBA | Omri Casspi      | SAC | SF | 69 | 1883 | 300 |  623 | 112 | 274 | ⋯ |  56 |  94 | 17 | 154 | 1 |  815 |  4 | 0 | 0 | 21 |\n| 84 | NBA | Wil Cauley-stein | SAC | C  | 66 | 1411 | 191 |  339 |   0 |   2 | ⋯ |  48 |  46 | 66 | 146 | 1 |  463 |  0 | 0 | 0 | 39 |\n| 92 | NBA | Darren Collison  | SAC | PG | 74 | 2216 | 377 |  776 |  87 | 217 | ⋯ |  76 | 129 |  4 | 142 | 0 | 1035 |  1 | 0 | 0 | 15 |\n| 98 | NBA | Demarcus Cousins | SAC | C  | 65 | 2245 | 601 | 1332 |  70 | 210 | ⋯ | 101 | 249 | 91 | 236 | 7 | 1748 | 11 | 0 | 0 | 65 |\n| 105 | NBA | Seth Curry       | SAC | SG | 44 |  694 | 102 |  224 |  50 | 111 | ⋯ |  22 |  36 |  3 |  41 | 0 |  299 |  0 | 0 | 0 |  9 |\n| 124 | NBA | Duje Dukan       | SAC | PF |  1 |   24 |   2 |   10 |   2 |   5 | ⋯ |   1 |   0 |  0 |   2 | 0 |    6 |  0 | 0 | 0 |  0 |\n| 152 | NBA | Rudy Gay         | SAC | SF | 70 | 2383 | 466 | 1007 |  74 | 215 | ⋯ | 100 | 139 | 51 | 184 | 1 | 1204 |  1 | 0 | 0 | 70 |\n| 254 | NBA | Kosta Koufos     | SAC | C  | 78 | 1489 | 235 |  443 |   0 |   0 | ⋯ |  40 |  48 | 70 | 185 | 1 |  527 |  2 | 0 | 0 | 14 |\n| 295 | NBA | Ben Mclemore     | SAC | SG | 68 | 1444 | 195 |  455 |  67 | 185 | ⋯ |  52 |  99 | 10 | 140 | 0 |  531 |  0 | 0 | 0 | 53 |\n| 313 | NBA | Eric Moreland    | SAC | PF |  9 |   47 |   3 |    6 |   0 |   0 | ⋯ |   0 |   3 |  4 |   4 | 0 |    8 |  0 | 0 | 0 |  0 |\n| 379 | NBA | Rajon Rondo      | SAC | PG | 72 | 2537 | 355 |  782 |  62 | 170 | ⋯ | 142 | 279 | 10 | 175 | 1 |  859 |  3 | 0 | 0 | 72 |\n\n",
            "text/html": [
              "<table>\n",
              "<caption>A data.frame: 15 × 25</caption>\n",
              "<thead>\n",
              "\t<tr><th></th><th scope=col>League</th><th scope=col>Name</th><th scope=col>Team</th><th scope=col>Position</th><th scope=col>GamesPlayed</th><th scope=col>TotalMinutesPlayed</th><th scope=col>FieldGoalsMade</th><th scope=col>FieldGoalsAttempted</th><th scope=col>ThreesMade</th><th scope=col>ThreesAttempted</th><th scope=col>⋯</th><th scope=col>Steals</th><th scope=col>Turnovers</th><th scope=col>Blocks</th><th scope=col>PersonalFouls</th><th scope=col>Disqualifications</th><th scope=col>TotalPoints</th><th scope=col>Technicals</th><th scope=col>Ejections</th><th scope=col>FlagrantFouls</th><th scope=col>GamesStarted</th></tr>\n",
              "\t<tr><th></th><th scope=col>&lt;fct&gt;</th><th scope=col>&lt;chr&gt;</th><th scope=col>&lt;fct&gt;</th><th scope=col>&lt;fct&gt;</th><th scope=col>&lt;int&gt;</th><th scope=col>&lt;int&gt;</th><th scope=col>&lt;int&gt;</th><th scope=col>&lt;int&gt;</th><th scope=col>&lt;int&gt;</th><th scope=col>&lt;int&gt;</th><th scope=col>⋯</th><th scope=col>&lt;int&gt;</th><th scope=col>&lt;int&gt;</th><th scope=col>&lt;int&gt;</th><th scope=col>&lt;int&gt;</th><th scope=col>&lt;int&gt;</th><th scope=col>&lt;int&gt;</th><th scope=col>&lt;int&gt;</th><th scope=col>&lt;int&gt;</th><th scope=col>&lt;int&gt;</th><th scope=col>&lt;int&gt;</th></tr>\n",
              "</thead>\n",
              "<tbody>\n",
              "\t<tr><th scope=row>1</th><td>NBA</td><td>Quincy Acy      </td><td>SAC</td><td>SF</td><td>59</td><td> 877</td><td>119</td><td> 214</td><td> 19</td><td> 49</td><td>⋯</td><td> 29</td><td> 27</td><td>24</td><td>103</td><td>0</td><td> 307</td><td> 3</td><td>0</td><td>0</td><td>29</td></tr>\n",
              "\t<tr><th scope=row>15</th><td>NBA</td><td>James Anderson  </td><td>SAC</td><td>SG</td><td>51</td><td> 721</td><td> 67</td><td> 178</td><td> 23</td><td> 86</td><td>⋯</td><td> 21</td><td> 42</td><td>14</td><td> 54</td><td>0</td><td> 179</td><td> 0</td><td>0</td><td>0</td><td>15</td></tr>\n",
              "\t<tr><th scope=row>45</th><td>NBA</td><td>Marco Belinelli </td><td>SAC</td><td>SF</td><td>68</td><td>1670</td><td>245</td><td> 635</td><td> 91</td><td>297</td><td>⋯</td><td> 37</td><td> 80</td><td> 2</td><td> 91</td><td>0</td><td> 696</td><td> 0</td><td>0</td><td>0</td><td> 7</td></tr>\n",
              "\t<tr><th scope=row>72</th><td>NBA</td><td>Caron Butler    </td><td>SAC</td><td>SF</td><td>17</td><td> 176</td><td> 25</td><td>  59</td><td>  3</td><td> 18</td><td>⋯</td><td>  9</td><td>  3</td><td> 1</td><td> 19</td><td>0</td><td>  63</td><td> 0</td><td>0</td><td>0</td><td> 1</td></tr>\n",
              "\t<tr><th scope=row>83</th><td>NBA</td><td>Omri Casspi     </td><td>SAC</td><td>SF</td><td>69</td><td>1883</td><td>300</td><td> 623</td><td>112</td><td>274</td><td>⋯</td><td> 56</td><td> 94</td><td>17</td><td>154</td><td>1</td><td> 815</td><td> 4</td><td>0</td><td>0</td><td>21</td></tr>\n",
              "\t<tr><th scope=row>84</th><td>NBA</td><td>Wil Cauley-stein</td><td>SAC</td><td>C </td><td>66</td><td>1411</td><td>191</td><td> 339</td><td>  0</td><td>  2</td><td>⋯</td><td> 48</td><td> 46</td><td>66</td><td>146</td><td>1</td><td> 463</td><td> 0</td><td>0</td><td>0</td><td>39</td></tr>\n",
              "\t<tr><th scope=row>92</th><td>NBA</td><td>Darren Collison </td><td>SAC</td><td>PG</td><td>74</td><td>2216</td><td>377</td><td> 776</td><td> 87</td><td>217</td><td>⋯</td><td> 76</td><td>129</td><td> 4</td><td>142</td><td>0</td><td>1035</td><td> 1</td><td>0</td><td>0</td><td>15</td></tr>\n",
              "\t<tr><th scope=row>98</th><td>NBA</td><td>Demarcus Cousins</td><td>SAC</td><td>C </td><td>65</td><td>2245</td><td>601</td><td>1332</td><td> 70</td><td>210</td><td>⋯</td><td>101</td><td>249</td><td>91</td><td>236</td><td>7</td><td>1748</td><td>11</td><td>0</td><td>0</td><td>65</td></tr>\n",
              "\t<tr><th scope=row>105</th><td>NBA</td><td>Seth Curry      </td><td>SAC</td><td>SG</td><td>44</td><td> 694</td><td>102</td><td> 224</td><td> 50</td><td>111</td><td>⋯</td><td> 22</td><td> 36</td><td> 3</td><td> 41</td><td>0</td><td> 299</td><td> 0</td><td>0</td><td>0</td><td> 9</td></tr>\n",
              "\t<tr><th scope=row>124</th><td>NBA</td><td>Duje Dukan      </td><td>SAC</td><td>PF</td><td> 1</td><td>  24</td><td>  2</td><td>  10</td><td>  2</td><td>  5</td><td>⋯</td><td>  1</td><td>  0</td><td> 0</td><td>  2</td><td>0</td><td>   6</td><td> 0</td><td>0</td><td>0</td><td> 0</td></tr>\n",
              "\t<tr><th scope=row>152</th><td>NBA</td><td>Rudy Gay        </td><td>SAC</td><td>SF</td><td>70</td><td>2383</td><td>466</td><td>1007</td><td> 74</td><td>215</td><td>⋯</td><td>100</td><td>139</td><td>51</td><td>184</td><td>1</td><td>1204</td><td> 1</td><td>0</td><td>0</td><td>70</td></tr>\n",
              "\t<tr><th scope=row>254</th><td>NBA</td><td>Kosta Koufos    </td><td>SAC</td><td>C </td><td>78</td><td>1489</td><td>235</td><td> 443</td><td>  0</td><td>  0</td><td>⋯</td><td> 40</td><td> 48</td><td>70</td><td>185</td><td>1</td><td> 527</td><td> 2</td><td>0</td><td>0</td><td>14</td></tr>\n",
              "\t<tr><th scope=row>295</th><td>NBA</td><td>Ben Mclemore    </td><td>SAC</td><td>SG</td><td>68</td><td>1444</td><td>195</td><td> 455</td><td> 67</td><td>185</td><td>⋯</td><td> 52</td><td> 99</td><td>10</td><td>140</td><td>0</td><td> 531</td><td> 0</td><td>0</td><td>0</td><td>53</td></tr>\n",
              "\t<tr><th scope=row>313</th><td>NBA</td><td>Eric Moreland   </td><td>SAC</td><td>PF</td><td> 9</td><td>  47</td><td>  3</td><td>   6</td><td>  0</td><td>  0</td><td>⋯</td><td>  0</td><td>  3</td><td> 4</td><td>  4</td><td>0</td><td>   8</td><td> 0</td><td>0</td><td>0</td><td> 0</td></tr>\n",
              "\t<tr><th scope=row>379</th><td>NBA</td><td>Rajon Rondo     </td><td>SAC</td><td>PG</td><td>72</td><td>2537</td><td>355</td><td> 782</td><td> 62</td><td>170</td><td>⋯</td><td>142</td><td>279</td><td>10</td><td>175</td><td>1</td><td> 859</td><td> 3</td><td>0</td><td>0</td><td>72</td></tr>\n",
              "</tbody>\n",
              "</table>\n"
            ]
          },
          "metadata": {
            "tags": []
          }
        }
      ]
    },
    {
      "cell_type": "code",
      "metadata": {
        "id": "w_2o4L6jqIOi",
        "outputId": "f63498c8-4ea0-4c1a-a6ea-f722298895fa",
        "colab": {
          "base_uri": "https://localhost:8080/",
          "height": 461
        }
      },
      "source": [
        "subset(NBA1516,Team==\"SAC\")"
      ],
      "execution_count": 89,
      "outputs": [
        {
          "output_type": "display_data",
          "data": {
            "text/plain": [
              "    League Name             Team Position GamesPlayed TotalMinutesPlayed\n",
              "1   NBA    Quincy Acy       SAC  SF       59           877              \n",
              "15  NBA    James Anderson   SAC  SG       51           721              \n",
              "45  NBA    Marco Belinelli  SAC  SF       68          1670              \n",
              "72  NBA    Caron Butler     SAC  SF       17           176              \n",
              "83  NBA    Omri Casspi      SAC  SF       69          1883              \n",
              "84  NBA    Wil Cauley-stein SAC  C        66          1411              \n",
              "92  NBA    Darren Collison  SAC  PG       74          2216              \n",
              "98  NBA    Demarcus Cousins SAC  C        65          2245              \n",
              "105 NBA    Seth Curry       SAC  SG       44           694              \n",
              "124 NBA    Duje Dukan       SAC  PF        1            24              \n",
              "152 NBA    Rudy Gay         SAC  SF       70          2383              \n",
              "254 NBA    Kosta Koufos     SAC  C        78          1489              \n",
              "295 NBA    Ben Mclemore     SAC  SG       68          1444              \n",
              "313 NBA    Eric Moreland    SAC  PF        9            47              \n",
              "379 NBA    Rajon Rondo      SAC  PG       72          2537              \n",
              "    FieldGoalsMade FieldGoalsAttempted ThreesMade ThreesAttempted ⋯ Steals\n",
              "1   119             214                 19         49             ⋯  29   \n",
              "15   67             178                 23         86             ⋯  21   \n",
              "45  245             635                 91        297             ⋯  37   \n",
              "72   25              59                  3         18             ⋯   9   \n",
              "83  300             623                112        274             ⋯  56   \n",
              "84  191             339                  0          2             ⋯  48   \n",
              "92  377             776                 87        217             ⋯  76   \n",
              "98  601            1332                 70        210             ⋯ 101   \n",
              "105 102             224                 50        111             ⋯  22   \n",
              "124   2              10                  2          5             ⋯   1   \n",
              "152 466            1007                 74        215             ⋯ 100   \n",
              "254 235             443                  0          0             ⋯  40   \n",
              "295 195             455                 67        185             ⋯  52   \n",
              "313   3               6                  0          0             ⋯   0   \n",
              "379 355             782                 62        170             ⋯ 142   \n",
              "    Turnovers Blocks PersonalFouls Disqualifications TotalPoints Technicals\n",
              "1    27       24     103           0                  307         3        \n",
              "15   42       14      54           0                  179         0        \n",
              "45   80        2      91           0                  696         0        \n",
              "72    3        1      19           0                   63         0        \n",
              "83   94       17     154           1                  815         4        \n",
              "84   46       66     146           1                  463         0        \n",
              "92  129        4     142           0                 1035         1        \n",
              "98  249       91     236           7                 1748        11        \n",
              "105  36        3      41           0                  299         0        \n",
              "124   0        0       2           0                    6         0        \n",
              "152 139       51     184           1                 1204         1        \n",
              "254  48       70     185           1                  527         2        \n",
              "295  99       10     140           0                  531         0        \n",
              "313   3        4       4           0                    8         0        \n",
              "379 279       10     175           1                  859         3        \n",
              "    Ejections FlagrantFouls GamesStarted\n",
              "1   0         0             29          \n",
              "15  0         0             15          \n",
              "45  0         0              7          \n",
              "72  0         0              1          \n",
              "83  0         0             21          \n",
              "84  0         0             39          \n",
              "92  0         0             15          \n",
              "98  0         0             65          \n",
              "105 0         0              9          \n",
              "124 0         0              0          \n",
              "152 0         0             70          \n",
              "254 0         0             14          \n",
              "295 0         0             53          \n",
              "313 0         0              0          \n",
              "379 0         0             72          "
            ],
            "text/latex": "A data.frame: 15 × 25\n\\begin{tabular}{r|lllllllllllllllllllll}\n  & League & Name & Team & Position & GamesPlayed & TotalMinutesPlayed & FieldGoalsMade & FieldGoalsAttempted & ThreesMade & ThreesAttempted & ⋯ & Steals & Turnovers & Blocks & PersonalFouls & Disqualifications & TotalPoints & Technicals & Ejections & FlagrantFouls & GamesStarted\\\\\n  & <fct> & <chr> & <fct> & <fct> & <int> & <int> & <int> & <int> & <int> & <int> & ⋯ & <int> & <int> & <int> & <int> & <int> & <int> & <int> & <int> & <int> & <int>\\\\\n\\hline\n\t1 & NBA & Quincy Acy       & SAC & SF & 59 &  877 & 119 &  214 &  19 &  49 & ⋯ &  29 &  27 & 24 & 103 & 0 &  307 &  3 & 0 & 0 & 29\\\\\n\t15 & NBA & James Anderson   & SAC & SG & 51 &  721 &  67 &  178 &  23 &  86 & ⋯ &  21 &  42 & 14 &  54 & 0 &  179 &  0 & 0 & 0 & 15\\\\\n\t45 & NBA & Marco Belinelli  & SAC & SF & 68 & 1670 & 245 &  635 &  91 & 297 & ⋯ &  37 &  80 &  2 &  91 & 0 &  696 &  0 & 0 & 0 &  7\\\\\n\t72 & NBA & Caron Butler     & SAC & SF & 17 &  176 &  25 &   59 &   3 &  18 & ⋯ &   9 &   3 &  1 &  19 & 0 &   63 &  0 & 0 & 0 &  1\\\\\n\t83 & NBA & Omri Casspi      & SAC & SF & 69 & 1883 & 300 &  623 & 112 & 274 & ⋯ &  56 &  94 & 17 & 154 & 1 &  815 &  4 & 0 & 0 & 21\\\\\n\t84 & NBA & Wil Cauley-stein & SAC & C  & 66 & 1411 & 191 &  339 &   0 &   2 & ⋯ &  48 &  46 & 66 & 146 & 1 &  463 &  0 & 0 & 0 & 39\\\\\n\t92 & NBA & Darren Collison  & SAC & PG & 74 & 2216 & 377 &  776 &  87 & 217 & ⋯ &  76 & 129 &  4 & 142 & 0 & 1035 &  1 & 0 & 0 & 15\\\\\n\t98 & NBA & Demarcus Cousins & SAC & C  & 65 & 2245 & 601 & 1332 &  70 & 210 & ⋯ & 101 & 249 & 91 & 236 & 7 & 1748 & 11 & 0 & 0 & 65\\\\\n\t105 & NBA & Seth Curry       & SAC & SG & 44 &  694 & 102 &  224 &  50 & 111 & ⋯ &  22 &  36 &  3 &  41 & 0 &  299 &  0 & 0 & 0 &  9\\\\\n\t124 & NBA & Duje Dukan       & SAC & PF &  1 &   24 &   2 &   10 &   2 &   5 & ⋯ &   1 &   0 &  0 &   2 & 0 &    6 &  0 & 0 & 0 &  0\\\\\n\t152 & NBA & Rudy Gay         & SAC & SF & 70 & 2383 & 466 & 1007 &  74 & 215 & ⋯ & 100 & 139 & 51 & 184 & 1 & 1204 &  1 & 0 & 0 & 70\\\\\n\t254 & NBA & Kosta Koufos     & SAC & C  & 78 & 1489 & 235 &  443 &   0 &   0 & ⋯ &  40 &  48 & 70 & 185 & 1 &  527 &  2 & 0 & 0 & 14\\\\\n\t295 & NBA & Ben Mclemore     & SAC & SG & 68 & 1444 & 195 &  455 &  67 & 185 & ⋯ &  52 &  99 & 10 & 140 & 0 &  531 &  0 & 0 & 0 & 53\\\\\n\t313 & NBA & Eric Moreland    & SAC & PF &  9 &   47 &   3 &    6 &   0 &   0 & ⋯ &   0 &   3 &  4 &   4 & 0 &    8 &  0 & 0 & 0 &  0\\\\\n\t379 & NBA & Rajon Rondo      & SAC & PG & 72 & 2537 & 355 &  782 &  62 & 170 & ⋯ & 142 & 279 & 10 & 175 & 1 &  859 &  3 & 0 & 0 & 72\\\\\n\\end{tabular}\n",
            "text/markdown": "\nA data.frame: 15 × 25\n\n| <!--/--> | League &lt;fct&gt; | Name &lt;chr&gt; | Team &lt;fct&gt; | Position &lt;fct&gt; | GamesPlayed &lt;int&gt; | TotalMinutesPlayed &lt;int&gt; | FieldGoalsMade &lt;int&gt; | FieldGoalsAttempted &lt;int&gt; | ThreesMade &lt;int&gt; | ThreesAttempted &lt;int&gt; | ⋯ ⋯ | Steals &lt;int&gt; | Turnovers &lt;int&gt; | Blocks &lt;int&gt; | PersonalFouls &lt;int&gt; | Disqualifications &lt;int&gt; | TotalPoints &lt;int&gt; | Technicals &lt;int&gt; | Ejections &lt;int&gt; | FlagrantFouls &lt;int&gt; | GamesStarted &lt;int&gt; |\n|---|---|---|---|---|---|---|---|---|---|---|---|---|---|---|---|---|---|---|---|---|---|\n| 1 | NBA | Quincy Acy       | SAC | SF | 59 |  877 | 119 |  214 |  19 |  49 | ⋯ |  29 |  27 | 24 | 103 | 0 |  307 |  3 | 0 | 0 | 29 |\n| 15 | NBA | James Anderson   | SAC | SG | 51 |  721 |  67 |  178 |  23 |  86 | ⋯ |  21 |  42 | 14 |  54 | 0 |  179 |  0 | 0 | 0 | 15 |\n| 45 | NBA | Marco Belinelli  | SAC | SF | 68 | 1670 | 245 |  635 |  91 | 297 | ⋯ |  37 |  80 |  2 |  91 | 0 |  696 |  0 | 0 | 0 |  7 |\n| 72 | NBA | Caron Butler     | SAC | SF | 17 |  176 |  25 |   59 |   3 |  18 | ⋯ |   9 |   3 |  1 |  19 | 0 |   63 |  0 | 0 | 0 |  1 |\n| 83 | NBA | Omri Casspi      | SAC | SF | 69 | 1883 | 300 |  623 | 112 | 274 | ⋯ |  56 |  94 | 17 | 154 | 1 |  815 |  4 | 0 | 0 | 21 |\n| 84 | NBA | Wil Cauley-stein | SAC | C  | 66 | 1411 | 191 |  339 |   0 |   2 | ⋯ |  48 |  46 | 66 | 146 | 1 |  463 |  0 | 0 | 0 | 39 |\n| 92 | NBA | Darren Collison  | SAC | PG | 74 | 2216 | 377 |  776 |  87 | 217 | ⋯ |  76 | 129 |  4 | 142 | 0 | 1035 |  1 | 0 | 0 | 15 |\n| 98 | NBA | Demarcus Cousins | SAC | C  | 65 | 2245 | 601 | 1332 |  70 | 210 | ⋯ | 101 | 249 | 91 | 236 | 7 | 1748 | 11 | 0 | 0 | 65 |\n| 105 | NBA | Seth Curry       | SAC | SG | 44 |  694 | 102 |  224 |  50 | 111 | ⋯ |  22 |  36 |  3 |  41 | 0 |  299 |  0 | 0 | 0 |  9 |\n| 124 | NBA | Duje Dukan       | SAC | PF |  1 |   24 |   2 |   10 |   2 |   5 | ⋯ |   1 |   0 |  0 |   2 | 0 |    6 |  0 | 0 | 0 |  0 |\n| 152 | NBA | Rudy Gay         | SAC | SF | 70 | 2383 | 466 | 1007 |  74 | 215 | ⋯ | 100 | 139 | 51 | 184 | 1 | 1204 |  1 | 0 | 0 | 70 |\n| 254 | NBA | Kosta Koufos     | SAC | C  | 78 | 1489 | 235 |  443 |   0 |   0 | ⋯ |  40 |  48 | 70 | 185 | 1 |  527 |  2 | 0 | 0 | 14 |\n| 295 | NBA | Ben Mclemore     | SAC | SG | 68 | 1444 | 195 |  455 |  67 | 185 | ⋯ |  52 |  99 | 10 | 140 | 0 |  531 |  0 | 0 | 0 | 53 |\n| 313 | NBA | Eric Moreland    | SAC | PF |  9 |   47 |   3 |    6 |   0 |   0 | ⋯ |   0 |   3 |  4 |   4 | 0 |    8 |  0 | 0 | 0 |  0 |\n| 379 | NBA | Rajon Rondo      | SAC | PG | 72 | 2537 | 355 |  782 |  62 | 170 | ⋯ | 142 | 279 | 10 | 175 | 1 |  859 |  3 | 0 | 0 | 72 |\n\n",
            "text/html": [
              "<table>\n",
              "<caption>A data.frame: 15 × 25</caption>\n",
              "<thead>\n",
              "\t<tr><th></th><th scope=col>League</th><th scope=col>Name</th><th scope=col>Team</th><th scope=col>Position</th><th scope=col>GamesPlayed</th><th scope=col>TotalMinutesPlayed</th><th scope=col>FieldGoalsMade</th><th scope=col>FieldGoalsAttempted</th><th scope=col>ThreesMade</th><th scope=col>ThreesAttempted</th><th scope=col>⋯</th><th scope=col>Steals</th><th scope=col>Turnovers</th><th scope=col>Blocks</th><th scope=col>PersonalFouls</th><th scope=col>Disqualifications</th><th scope=col>TotalPoints</th><th scope=col>Technicals</th><th scope=col>Ejections</th><th scope=col>FlagrantFouls</th><th scope=col>GamesStarted</th></tr>\n",
              "\t<tr><th></th><th scope=col>&lt;fct&gt;</th><th scope=col>&lt;chr&gt;</th><th scope=col>&lt;fct&gt;</th><th scope=col>&lt;fct&gt;</th><th scope=col>&lt;int&gt;</th><th scope=col>&lt;int&gt;</th><th scope=col>&lt;int&gt;</th><th scope=col>&lt;int&gt;</th><th scope=col>&lt;int&gt;</th><th scope=col>&lt;int&gt;</th><th scope=col>⋯</th><th scope=col>&lt;int&gt;</th><th scope=col>&lt;int&gt;</th><th scope=col>&lt;int&gt;</th><th scope=col>&lt;int&gt;</th><th scope=col>&lt;int&gt;</th><th scope=col>&lt;int&gt;</th><th scope=col>&lt;int&gt;</th><th scope=col>&lt;int&gt;</th><th scope=col>&lt;int&gt;</th><th scope=col>&lt;int&gt;</th></tr>\n",
              "</thead>\n",
              "<tbody>\n",
              "\t<tr><th scope=row>1</th><td>NBA</td><td>Quincy Acy      </td><td>SAC</td><td>SF</td><td>59</td><td> 877</td><td>119</td><td> 214</td><td> 19</td><td> 49</td><td>⋯</td><td> 29</td><td> 27</td><td>24</td><td>103</td><td>0</td><td> 307</td><td> 3</td><td>0</td><td>0</td><td>29</td></tr>\n",
              "\t<tr><th scope=row>15</th><td>NBA</td><td>James Anderson  </td><td>SAC</td><td>SG</td><td>51</td><td> 721</td><td> 67</td><td> 178</td><td> 23</td><td> 86</td><td>⋯</td><td> 21</td><td> 42</td><td>14</td><td> 54</td><td>0</td><td> 179</td><td> 0</td><td>0</td><td>0</td><td>15</td></tr>\n",
              "\t<tr><th scope=row>45</th><td>NBA</td><td>Marco Belinelli </td><td>SAC</td><td>SF</td><td>68</td><td>1670</td><td>245</td><td> 635</td><td> 91</td><td>297</td><td>⋯</td><td> 37</td><td> 80</td><td> 2</td><td> 91</td><td>0</td><td> 696</td><td> 0</td><td>0</td><td>0</td><td> 7</td></tr>\n",
              "\t<tr><th scope=row>72</th><td>NBA</td><td>Caron Butler    </td><td>SAC</td><td>SF</td><td>17</td><td> 176</td><td> 25</td><td>  59</td><td>  3</td><td> 18</td><td>⋯</td><td>  9</td><td>  3</td><td> 1</td><td> 19</td><td>0</td><td>  63</td><td> 0</td><td>0</td><td>0</td><td> 1</td></tr>\n",
              "\t<tr><th scope=row>83</th><td>NBA</td><td>Omri Casspi     </td><td>SAC</td><td>SF</td><td>69</td><td>1883</td><td>300</td><td> 623</td><td>112</td><td>274</td><td>⋯</td><td> 56</td><td> 94</td><td>17</td><td>154</td><td>1</td><td> 815</td><td> 4</td><td>0</td><td>0</td><td>21</td></tr>\n",
              "\t<tr><th scope=row>84</th><td>NBA</td><td>Wil Cauley-stein</td><td>SAC</td><td>C </td><td>66</td><td>1411</td><td>191</td><td> 339</td><td>  0</td><td>  2</td><td>⋯</td><td> 48</td><td> 46</td><td>66</td><td>146</td><td>1</td><td> 463</td><td> 0</td><td>0</td><td>0</td><td>39</td></tr>\n",
              "\t<tr><th scope=row>92</th><td>NBA</td><td>Darren Collison </td><td>SAC</td><td>PG</td><td>74</td><td>2216</td><td>377</td><td> 776</td><td> 87</td><td>217</td><td>⋯</td><td> 76</td><td>129</td><td> 4</td><td>142</td><td>0</td><td>1035</td><td> 1</td><td>0</td><td>0</td><td>15</td></tr>\n",
              "\t<tr><th scope=row>98</th><td>NBA</td><td>Demarcus Cousins</td><td>SAC</td><td>C </td><td>65</td><td>2245</td><td>601</td><td>1332</td><td> 70</td><td>210</td><td>⋯</td><td>101</td><td>249</td><td>91</td><td>236</td><td>7</td><td>1748</td><td>11</td><td>0</td><td>0</td><td>65</td></tr>\n",
              "\t<tr><th scope=row>105</th><td>NBA</td><td>Seth Curry      </td><td>SAC</td><td>SG</td><td>44</td><td> 694</td><td>102</td><td> 224</td><td> 50</td><td>111</td><td>⋯</td><td> 22</td><td> 36</td><td> 3</td><td> 41</td><td>0</td><td> 299</td><td> 0</td><td>0</td><td>0</td><td> 9</td></tr>\n",
              "\t<tr><th scope=row>124</th><td>NBA</td><td>Duje Dukan      </td><td>SAC</td><td>PF</td><td> 1</td><td>  24</td><td>  2</td><td>  10</td><td>  2</td><td>  5</td><td>⋯</td><td>  1</td><td>  0</td><td> 0</td><td>  2</td><td>0</td><td>   6</td><td> 0</td><td>0</td><td>0</td><td> 0</td></tr>\n",
              "\t<tr><th scope=row>152</th><td>NBA</td><td>Rudy Gay        </td><td>SAC</td><td>SF</td><td>70</td><td>2383</td><td>466</td><td>1007</td><td> 74</td><td>215</td><td>⋯</td><td>100</td><td>139</td><td>51</td><td>184</td><td>1</td><td>1204</td><td> 1</td><td>0</td><td>0</td><td>70</td></tr>\n",
              "\t<tr><th scope=row>254</th><td>NBA</td><td>Kosta Koufos    </td><td>SAC</td><td>C </td><td>78</td><td>1489</td><td>235</td><td> 443</td><td>  0</td><td>  0</td><td>⋯</td><td> 40</td><td> 48</td><td>70</td><td>185</td><td>1</td><td> 527</td><td> 2</td><td>0</td><td>0</td><td>14</td></tr>\n",
              "\t<tr><th scope=row>295</th><td>NBA</td><td>Ben Mclemore    </td><td>SAC</td><td>SG</td><td>68</td><td>1444</td><td>195</td><td> 455</td><td> 67</td><td>185</td><td>⋯</td><td> 52</td><td> 99</td><td>10</td><td>140</td><td>0</td><td> 531</td><td> 0</td><td>0</td><td>0</td><td>53</td></tr>\n",
              "\t<tr><th scope=row>313</th><td>NBA</td><td>Eric Moreland   </td><td>SAC</td><td>PF</td><td> 9</td><td>  47</td><td>  3</td><td>   6</td><td>  0</td><td>  0</td><td>⋯</td><td>  0</td><td>  3</td><td> 4</td><td>  4</td><td>0</td><td>   8</td><td> 0</td><td>0</td><td>0</td><td> 0</td></tr>\n",
              "\t<tr><th scope=row>379</th><td>NBA</td><td>Rajon Rondo     </td><td>SAC</td><td>PG</td><td>72</td><td>2537</td><td>355</td><td> 782</td><td> 62</td><td>170</td><td>⋯</td><td>142</td><td>279</td><td>10</td><td>175</td><td>1</td><td> 859</td><td> 3</td><td>0</td><td>0</td><td>72</td></tr>\n",
              "</tbody>\n",
              "</table>\n"
            ]
          },
          "metadata": {
            "tags": []
          }
        }
      ]
    },
    {
      "cell_type": "code",
      "metadata": {
        "id": "OPRxh2LKqTY7",
        "outputId": "4f982a4e-3103-4816-a392-e79e03922286",
        "colab": {
          "base_uri": "https://localhost:8080/",
          "height": 1000
        }
      },
      "source": [
        "subset(NBA1516,Position==\"SF\")"
      ],
      "execution_count": 90,
      "outputs": [
        {
          "output_type": "display_data",
          "data": {
            "text/plain": [
              "    League Name             Team Position GamesPlayed TotalMinutesPlayed\n",
              "1   NBA    Quincy Acy       SAC  SF       59           877              \n",
              "11  NBA    Al-farouq Aminu  POR  SF       82          2342              \n",
              "17  NBA    Kyle Anderson    SAN  SF       78          1247              \n",
              "19  NBA    Gi Antetokounmpo MIL  SF       80          2825              \n",
              "20  NBA    Th Antetokounmpo NYK  SF        3             7              \n",
              "21  NBA    Carmelo Anthony  NYK  SF       72          2529              \n",
              "24  NBA    Trevor Ariza     HOU  SF       81          2860              \n",
              "25  NBA    Ron Artest       LAL  SF       35           588              \n",
              "30  NBA    Luke Babbitt     NOR  SF       47           847              \n",
              "35  NBA    Harrison Barnes  GSW  SF       66          2043              \n",
              "36  NBA    Matt Barnes      MEM  SF       76          2190              \n",
              "39  NBA    Nicolas Batum    CHA  SF       70          2453              \n",
              "45  NBA    Marco Belinelli  SAC  SF       68          1670              \n",
              "64  NBA    Anthony Brown    LAL  SF       29           596              \n",
              "68  NBA    Chase Budinger   PHO  SF       66           931              \n",
              "69  NBA    Reggie Bullock   DET  SF       37           427              \n",
              "72  NBA    Caron Butler     SAC  SF       17           176              \n",
              "74  NBA    Rasual Butler    SAN  SF       46           432              \n",
              "75  NBA    Bruno Caboclo    TOR  SF        6            43              \n",
              "80  NBA    Demarre Carroll  TOR  SF       26           787              \n",
              "83  NBA    Omri Casspi      SAC  SF       69          1883              \n",
              "96  NBA    Chris Copeland   MIL  SF       24           159              \n",
              "99  NBA    Robert Covington PHI  SF       67          1902              \n",
              "100 NBA    Allen Crabbe     POR  SF       81          2111              \n",
              "102 NBA    Jae Crowder      BOS  SF       73          2310              \n",
              "110 NBA    Branden Dawson   LAC  SF        6            28              \n",
              "113 NBA    Sam Dekker       HOU  SF        3             7              \n",
              "115 NBA    Luol Deng        MIA  SF       74          2395              \n",
              "127 NBA    Kevin Durant     OKL  SF       72          2577              \n",
              "128 NBA    Cleanthony Early NYK  SF       17           155              \n",
              "⋮   ⋮      ⋮                ⋮    ⋮        ⋮           ⋮                 \n",
              "278 NBA    Devyn Marble     ORL  SF       28           249              \n",
              "285 NBA    Luc Mbah_a_moute LAC  SF       75          1278              \n",
              "292 NBA    Doug Mcdermott   CHI  SF       81          1860              \n",
              "301 NBA    Khris Middleton  MIL  SF       79          2855              \n",
              "304 NBA    Mike Miller      DEN  SF       47           378              \n",
              "314 NBA    Marcus Morris    DET  SF       80          2852              \n",
              "320 NBA    Shabazz Muhammad MIN  SF       82          1678              \n",
              "332 NBA    Steve Novak      MIL  SF       10            43              \n",
              "335 NBA    J.j. O'brien     UTA  SF        1             2              \n",
              "343 NBA    Kos Papanikolaou DEN  SF       26           294              \n",
              "344 NBA    Jabari Parker    MIL  SF       76          2407              \n",
              "346 NBA    Chandler Parsons DAL  SF       61          1801              \n",
              "355 NBA    Paul Pierce      LAC  SF       68          1235              \n",
              "359 NBA    Otto Porter      WAS  SF       75          2272              \n",
              "367 NBA    Tayshaun Prince  MIN  SF       77          1462              \n",
              "376 NBA    Glenn Robinson   IND  SF       45           511              \n",
              "381 NBA    Terrence Ross    TOR  SF       73          1751              \n",
              "384 NBA    Damjan Rudez     MIN  SF       33           278              \n",
              "398 NBA    Kyle Singler     OKL  SF       68           983              \n",
              "405 NBA    Josh Smith       HOU  SF       55           878              \n",
              "407 NBA    Tony Snell       CHI  SF       64          1300              \n",
              "411 NBA    Lance Stephenson MEM  SF       69          1371              \n",
              "412 NBA    Alex Stepheson   MEM  SF        8            72              \n",
              "423 NBA    Lance Thomas     NYK  SF       59          1323              \n",
              "432 NBA    P.j. Tucker      PHO  SF       82          2540              \n",
              "448 NBA    T.j. Warren      PHO  SF       47          1065              \n",
              "456 NBA    Andrew Wiggins   MIN  SF       81          2844              \n",
              "465 NBA    Justise Winslow  MIA  SF       78          2237              \n",
              "473 NBA    Nick Young       LAL  SF       54          1036              \n",
              "474 NBA    Thaddeus Young   BRO  SF       73          2413              \n",
              "    FieldGoalsMade FieldGoalsAttempted ThreesMade ThreesAttempted ⋯ Steals\n",
              "1   119             214                 19         49             ⋯  29   \n",
              "11  299             719                126        349             ⋯  72   \n",
              "17  138             296                 12         37             ⋯  60   \n",
              "19  513            1012                 28        110             ⋯  94   \n",
              "20    3               4                  0          1             ⋯   0   \n",
              "21  567            1307                105        310             ⋯  62   \n",
              "24  357             858                185        497             ⋯ 161   \n",
              "25   55             177                 26         84             ⋯  22   \n",
              "30  122             289                 44        109             ⋯  11   \n",
              "35  295             633                 82        214             ⋯  41   \n",
              "36  264             693                119        370             ⋯  78   \n",
              "39  372             872                139        399             ⋯  65   \n",
              "45  245             635                 91        297             ⋯  37   \n",
              "64   39             126                 20         70             ⋯  14   \n",
              "68  104             239                 24         86             ⋯  32   \n",
              "69   43              98                 22         53             ⋯  10   \n",
              "72   25              59                  3         18             ⋯   9   \n",
              "74   49             105                 15         49             ⋯  13   \n",
              "75    1              12                  1          7             ⋯   2   \n",
              "80  105             270                 46        118             ⋯  44   \n",
              "83  300             623                112        274             ⋯  56   \n",
              "96   17              51                 10         36             ⋯   2   \n",
              "99  274             712                170        482             ⋯ 105   \n",
              "100 312             678                112        284             ⋯  63   \n",
              "102 359             812                122        363             ⋯ 126   \n",
              "110   2               5                  0          0             ⋯   0   \n",
              "113   0               0                  0          0             ⋯   1   \n",
              "115 339             747                 88        256             ⋯  74   \n",
              "127 698            1381                186        480             ⋯  68   \n",
              "128  12              40                  4         15             ⋯   2   \n",
              "⋮   ⋮              ⋮                   ⋮          ⋮               ⋱ ⋮     \n",
              "278  21              71                  8         32             ⋯  13   \n",
              "285  94             207                 13         40             ⋯  44   \n",
              "292 291             644                110        259             ⋯  14   \n",
              "301 507            1144                143        362             ⋯ 131   \n",
              "304  22              62                 19         52             ⋯  13   \n",
              "314 410             945                108        297             ⋯  67   \n",
              "320 317             681                 44        152             ⋯  24   \n",
              "332   8              18                  7         15             ⋯   0   \n",
              "335   0               1                  0          0             ⋯   0   \n",
              "343  24              66                 10         32             ⋯  13   \n",
              "344 443             899                  9         35             ⋯  69   \n",
              "346 320             651                104        250             ⋯  46   \n",
              "355 144             397                 75        242             ⋯  33   \n",
              "359 339             718                 98        267             ⋯ 105   \n",
              "367 102             229                  4         23             ⋯  36   \n",
              "376  65             151                 14         37             ⋯  17   \n",
              "381 270             626                131        338             ⋯  54   \n",
              "384  25              62                 17         50             ⋯   3   \n",
              "398  86             221                 30         97             ⋯  30   \n",
              "405 127             349                 41        143             ⋯  34   \n",
              "407 126             339                 56        155             ⋯  16   \n",
              "411 228             474                 30         78             ⋯  43   \n",
              "412   9              27                  0          0             ⋯   1   \n",
              "423 169             382                 44        109             ⋯  22   \n",
              "432 239             582                 68        206             ⋯ 106   \n",
              "448 221             441                 28         70             ⋯  37   \n",
              "456 594            1294                 57        190             ⋯  78   \n",
              "465 196             463                 32        116             ⋯  68   \n",
              "473 126             372                 77        237             ⋯  23   \n",
              "474 495             963                  7         30             ⋯ 112   \n",
              "    Turnovers Blocks PersonalFouls Disqualifications TotalPoints Technicals\n",
              "1    27        24    103           0                  307        3         \n",
              "11  120        53    171           0                  839        3         \n",
              "17   59        29     97           0                  350        0         \n",
              "19  208       113    258           7                 1350        1         \n",
              "20    0         0      2           0                    6        0         \n",
              "21  176        38    180           1                 1573        4         \n",
              "24  113        26    177           0                 1025        2         \n",
              "25   15        11     67           1                  176        1         \n",
              "30   23         7     90           0                  327        1         \n",
              "35   58        10    136           1                  774        0         \n",
              "36  121        57    234           1                  758        4         \n",
              "39  205        43    114           0                 1046        1         \n",
              "45   80         2     91           0                  696        0         \n",
              "64   15         5     34           0                  115        0         \n",
              "68   44        10     62           0                  271        0         \n",
              "69    8         2     29           0                  122        0         \n",
              "72    3         1     19           0                   63        0         \n",
              "74    8        23     11           0                  124        0         \n",
              "75    4         1      2           0                    3        0         \n",
              "80   29         6     63           0                  286        0         \n",
              "83   94        17    154           1                  815        4         \n",
              "96    6         0     17           0                   50        0         \n",
              "99  143        40    232           4                  858        0         \n",
              "100  64        16    192           2                  834        0         \n",
              "102  83        35    198           4                 1036        3         \n",
              "110   0         1      2           0                    5        0         \n",
              "113   0         0      0           0                    0        0         \n",
              "115  80        29    122           0                  911        2         \n",
              "127 250        85    137           1                 2029        6         \n",
              "128   9         3     16           1                   31        0         \n",
              "⋮   ⋮         ⋮      ⋮             ⋮                 ⋮           ⋮         \n",
              "278   7        1      25           0                   60         0        \n",
              "285  34       19     100           0                  231         0        \n",
              "292  52        6     127           0                  764         0        \n",
              "301 180       19     204           1                 1434         5        \n",
              "304  17        4      53           0                   63         1        \n",
              "314 140       23     170           1                 1131        11        \n",
              "320  70        7      94           0                  863         0        \n",
              "332   1        0       3           0                   24         0        \n",
              "335   0        0       0           0                    0         0        \n",
              "343  21        5      24           0                   67         0        \n",
              "344 116       29     154           0                 1070         0        \n",
              "346  95       21     114           0                  837         1        \n",
              "355  58       17     129           0                  417         1        \n",
              "359  70       32     163           0                  871         0        \n",
              "367  27       13      62           0                  221         0        \n",
              "376  18        9      21           0                  171         0        \n",
              "381  46       25     120           1                  720         0        \n",
              "384  13        1      33           0                   75         0        \n",
              "398  32        9     120           0                  231         0        \n",
              "405  77       47     118           1                  332         1        \n",
              "407  52       17     100           0                  338         0        \n",
              "411  94        9     135           1                  573         2        \n",
              "412   0        5      12           1                   22         0        \n",
              "423  57        7     109           2                  484         0        \n",
              "432 111       20     202           3                  652         4        \n",
              "448  32       16      94           0                  515         0        \n",
              "456 182       46     165           1                 1675         1        \n",
              "465  95       26     184           0                  504         0        \n",
              "473  30        7      50           0                  392         1        \n",
              "474 136       37     182           3                 1102         1        \n",
              "    Ejections FlagrantFouls GamesStarted\n",
              "1   0         0             29          \n",
              "11  0         0             82          \n",
              "17  0         0             11          \n",
              "19  0         0             79          \n",
              "20  0         0              0          \n",
              "21  0         0             72          \n",
              "24  0         0             81          \n",
              "25  0         0              5          \n",
              "30  0         0             13          \n",
              "35  0         0             59          \n",
              "36  0         0             45          \n",
              "39  0         0             70          \n",
              "45  0         0              7          \n",
              "64  0         0             11          \n",
              "68  0         0              2          \n",
              "69  0         0              0          \n",
              "72  0         0              1          \n",
              "74  0         0              0          \n",
              "75  0         0              1          \n",
              "80  0         0             22          \n",
              "83  0         0             21          \n",
              "96  0         0              1          \n",
              "99  0         0             49          \n",
              "100 0         0              8          \n",
              "102 0         0             73          \n",
              "110 0         0              0          \n",
              "113 0         0              0          \n",
              "115 0         0             73          \n",
              "127 0         0             72          \n",
              "128 0         0              2          \n",
              "⋮   ⋮         ⋮             ⋮           \n",
              "278 0         0              0          \n",
              "285 0         0             61          \n",
              "292 0         0              4          \n",
              "301 0         0             79          \n",
              "304 0         0              2          \n",
              "314 0         0             80          \n",
              "320 0         0              0          \n",
              "332 0         0              0          \n",
              "335 0         0              0          \n",
              "343 0         0              6          \n",
              "344 0         0             72          \n",
              "346 0         0             51          \n",
              "355 0         0             38          \n",
              "359 0         0             73          \n",
              "367 0         0             44          \n",
              "376 0         0              4          \n",
              "381 0         0              7          \n",
              "384 0         0              0          \n",
              "398 0         0              2          \n",
              "405 0         0              7          \n",
              "407 0         0             33          \n",
              "411 0         0             13          \n",
              "412 0         0              0          \n",
              "423 0         0              5          \n",
              "432 0         0             80          \n",
              "448 0         0              4          \n",
              "456 0         0             81          \n",
              "465 0         0              8          \n",
              "473 0         0              2          \n",
              "474 0         0             73          "
            ],
            "text/latex": "A data.frame: 86 × 25\n\\begin{tabular}{r|lllllllllllllllllllll}\n  & League & Name & Team & Position & GamesPlayed & TotalMinutesPlayed & FieldGoalsMade & FieldGoalsAttempted & ThreesMade & ThreesAttempted & ⋯ & Steals & Turnovers & Blocks & PersonalFouls & Disqualifications & TotalPoints & Technicals & Ejections & FlagrantFouls & GamesStarted\\\\\n  & <fct> & <chr> & <fct> & <fct> & <int> & <int> & <int> & <int> & <int> & <int> & ⋯ & <int> & <int> & <int> & <int> & <int> & <int> & <int> & <int> & <int> & <int>\\\\\n\\hline\n\t1 & NBA & Quincy Acy       & SAC & SF & 59 &  877 & 119 &  214 &  19 &  49 & ⋯ &  29 &  27 &  24 & 103 & 0 &  307 & 3 & 0 & 0 & 29\\\\\n\t11 & NBA & Al-farouq Aminu  & POR & SF & 82 & 2342 & 299 &  719 & 126 & 349 & ⋯ &  72 & 120 &  53 & 171 & 0 &  839 & 3 & 0 & 0 & 82\\\\\n\t17 & NBA & Kyle Anderson    & SAN & SF & 78 & 1247 & 138 &  296 &  12 &  37 & ⋯ &  60 &  59 &  29 &  97 & 0 &  350 & 0 & 0 & 0 & 11\\\\\n\t19 & NBA & Gi Antetokounmpo & MIL & SF & 80 & 2825 & 513 & 1012 &  28 & 110 & ⋯ &  94 & 208 & 113 & 258 & 7 & 1350 & 1 & 0 & 0 & 79\\\\\n\t20 & NBA & Th Antetokounmpo & NYK & SF &  3 &    7 &   3 &    4 &   0 &   1 & ⋯ &   0 &   0 &   0 &   2 & 0 &    6 & 0 & 0 & 0 &  0\\\\\n\t21 & NBA & Carmelo Anthony  & NYK & SF & 72 & 2529 & 567 & 1307 & 105 & 310 & ⋯ &  62 & 176 &  38 & 180 & 1 & 1573 & 4 & 0 & 0 & 72\\\\\n\t24 & NBA & Trevor Ariza     & HOU & SF & 81 & 2860 & 357 &  858 & 185 & 497 & ⋯ & 161 & 113 &  26 & 177 & 0 & 1025 & 2 & 0 & 0 & 81\\\\\n\t25 & NBA & Ron Artest       & LAL & SF & 35 &  588 &  55 &  177 &  26 &  84 & ⋯ &  22 &  15 &  11 &  67 & 1 &  176 & 1 & 0 & 0 &  5\\\\\n\t30 & NBA & Luke Babbitt     & NOR & SF & 47 &  847 & 122 &  289 &  44 & 109 & ⋯ &  11 &  23 &   7 &  90 & 0 &  327 & 1 & 0 & 0 & 13\\\\\n\t35 & NBA & Harrison Barnes  & GSW & SF & 66 & 2043 & 295 &  633 &  82 & 214 & ⋯ &  41 &  58 &  10 & 136 & 1 &  774 & 0 & 0 & 0 & 59\\\\\n\t36 & NBA & Matt Barnes      & MEM & SF & 76 & 2190 & 264 &  693 & 119 & 370 & ⋯ &  78 & 121 &  57 & 234 & 1 &  758 & 4 & 0 & 0 & 45\\\\\n\t39 & NBA & Nicolas Batum    & CHA & SF & 70 & 2453 & 372 &  872 & 139 & 399 & ⋯ &  65 & 205 &  43 & 114 & 0 & 1046 & 1 & 0 & 0 & 70\\\\\n\t45 & NBA & Marco Belinelli  & SAC & SF & 68 & 1670 & 245 &  635 &  91 & 297 & ⋯ &  37 &  80 &   2 &  91 & 0 &  696 & 0 & 0 & 0 &  7\\\\\n\t64 & NBA & Anthony Brown    & LAL & SF & 29 &  596 &  39 &  126 &  20 &  70 & ⋯ &  14 &  15 &   5 &  34 & 0 &  115 & 0 & 0 & 0 & 11\\\\\n\t68 & NBA & Chase Budinger   & PHO & SF & 66 &  931 & 104 &  239 &  24 &  86 & ⋯ &  32 &  44 &  10 &  62 & 0 &  271 & 0 & 0 & 0 &  2\\\\\n\t69 & NBA & Reggie Bullock   & DET & SF & 37 &  427 &  43 &   98 &  22 &  53 & ⋯ &  10 &   8 &   2 &  29 & 0 &  122 & 0 & 0 & 0 &  0\\\\\n\t72 & NBA & Caron Butler     & SAC & SF & 17 &  176 &  25 &   59 &   3 &  18 & ⋯ &   9 &   3 &   1 &  19 & 0 &   63 & 0 & 0 & 0 &  1\\\\\n\t74 & NBA & Rasual Butler    & SAN & SF & 46 &  432 &  49 &  105 &  15 &  49 & ⋯ &  13 &   8 &  23 &  11 & 0 &  124 & 0 & 0 & 0 &  0\\\\\n\t75 & NBA & Bruno Caboclo    & TOR & SF &  6 &   43 &   1 &   12 &   1 &   7 & ⋯ &   2 &   4 &   1 &   2 & 0 &    3 & 0 & 0 & 0 &  1\\\\\n\t80 & NBA & Demarre Carroll  & TOR & SF & 26 &  787 & 105 &  270 &  46 & 118 & ⋯ &  44 &  29 &   6 &  63 & 0 &  286 & 0 & 0 & 0 & 22\\\\\n\t83 & NBA & Omri Casspi      & SAC & SF & 69 & 1883 & 300 &  623 & 112 & 274 & ⋯ &  56 &  94 &  17 & 154 & 1 &  815 & 4 & 0 & 0 & 21\\\\\n\t96 & NBA & Chris Copeland   & MIL & SF & 24 &  159 &  17 &   51 &  10 &  36 & ⋯ &   2 &   6 &   0 &  17 & 0 &   50 & 0 & 0 & 0 &  1\\\\\n\t99 & NBA & Robert Covington & PHI & SF & 67 & 1902 & 274 &  712 & 170 & 482 & ⋯ & 105 & 143 &  40 & 232 & 4 &  858 & 0 & 0 & 0 & 49\\\\\n\t100 & NBA & Allen Crabbe     & POR & SF & 81 & 2111 & 312 &  678 & 112 & 284 & ⋯ &  63 &  64 &  16 & 192 & 2 &  834 & 0 & 0 & 0 &  8\\\\\n\t102 & NBA & Jae Crowder      & BOS & SF & 73 & 2310 & 359 &  812 & 122 & 363 & ⋯ & 126 &  83 &  35 & 198 & 4 & 1036 & 3 & 0 & 0 & 73\\\\\n\t110 & NBA & Branden Dawson   & LAC & SF &  6 &   28 &   2 &    5 &   0 &   0 & ⋯ &   0 &   0 &   1 &   2 & 0 &    5 & 0 & 0 & 0 &  0\\\\\n\t113 & NBA & Sam Dekker       & HOU & SF &  3 &    7 &   0 &    0 &   0 &   0 & ⋯ &   1 &   0 &   0 &   0 & 0 &    0 & 0 & 0 & 0 &  0\\\\\n\t115 & NBA & Luol Deng        & MIA & SF & 74 & 2395 & 339 &  747 &  88 & 256 & ⋯ &  74 &  80 &  29 & 122 & 0 &  911 & 2 & 0 & 0 & 73\\\\\n\t127 & NBA & Kevin Durant     & OKL & SF & 72 & 2577 & 698 & 1381 & 186 & 480 & ⋯ &  68 & 250 &  85 & 137 & 1 & 2029 & 6 & 0 & 0 & 72\\\\\n\t128 & NBA & Cleanthony Early & NYK & SF & 17 &  155 &  12 &   40 &   4 &  15 & ⋯ &   2 &   9 &   3 &  16 & 1 &   31 & 0 & 0 & 0 &  2\\\\\n\t⋮ & ⋮ & ⋮ & ⋮ & ⋮ & ⋮ & ⋮ & ⋮ & ⋮ & ⋮ & ⋮ & ⋱ & ⋮ & ⋮ & ⋮ & ⋮ & ⋮ & ⋮ & ⋮ & ⋮ & ⋮ & ⋮\\\\\n\t278 & NBA & Devyn Marble     & ORL & SF & 28 &  249 &  21 &   71 &   8 &  32 & ⋯ &  13 &   7 &  1 &  25 & 0 &   60 &  0 & 0 & 0 &  0\\\\\n\t285 & NBA & Luc Mbah\\_a\\_moute & LAC & SF & 75 & 1278 &  94 &  207 &  13 &  40 & ⋯ &  44 &  34 & 19 & 100 & 0 &  231 &  0 & 0 & 0 & 61\\\\\n\t292 & NBA & Doug Mcdermott   & CHI & SF & 81 & 1860 & 291 &  644 & 110 & 259 & ⋯ &  14 &  52 &  6 & 127 & 0 &  764 &  0 & 0 & 0 &  4\\\\\n\t301 & NBA & Khris Middleton  & MIL & SF & 79 & 2855 & 507 & 1144 & 143 & 362 & ⋯ & 131 & 180 & 19 & 204 & 1 & 1434 &  5 & 0 & 0 & 79\\\\\n\t304 & NBA & Mike Miller      & DEN & SF & 47 &  378 &  22 &   62 &  19 &  52 & ⋯ &  13 &  17 &  4 &  53 & 0 &   63 &  1 & 0 & 0 &  2\\\\\n\t314 & NBA & Marcus Morris    & DET & SF & 80 & 2852 & 410 &  945 & 108 & 297 & ⋯ &  67 & 140 & 23 & 170 & 1 & 1131 & 11 & 0 & 0 & 80\\\\\n\t320 & NBA & Shabazz Muhammad & MIN & SF & 82 & 1678 & 317 &  681 &  44 & 152 & ⋯ &  24 &  70 &  7 &  94 & 0 &  863 &  0 & 0 & 0 &  0\\\\\n\t332 & NBA & Steve Novak      & MIL & SF & 10 &   43 &   8 &   18 &   7 &  15 & ⋯ &   0 &   1 &  0 &   3 & 0 &   24 &  0 & 0 & 0 &  0\\\\\n\t335 & NBA & J.j. O'brien     & UTA & SF &  1 &    2 &   0 &    1 &   0 &   0 & ⋯ &   0 &   0 &  0 &   0 & 0 &    0 &  0 & 0 & 0 &  0\\\\\n\t343 & NBA & Kos Papanikolaou & DEN & SF & 26 &  294 &  24 &   66 &  10 &  32 & ⋯ &  13 &  21 &  5 &  24 & 0 &   67 &  0 & 0 & 0 &  6\\\\\n\t344 & NBA & Jabari Parker    & MIL & SF & 76 & 2407 & 443 &  899 &   9 &  35 & ⋯ &  69 & 116 & 29 & 154 & 0 & 1070 &  0 & 0 & 0 & 72\\\\\n\t346 & NBA & Chandler Parsons & DAL & SF & 61 & 1801 & 320 &  651 & 104 & 250 & ⋯ &  46 &  95 & 21 & 114 & 0 &  837 &  1 & 0 & 0 & 51\\\\\n\t355 & NBA & Paul Pierce      & LAC & SF & 68 & 1235 & 144 &  397 &  75 & 242 & ⋯ &  33 &  58 & 17 & 129 & 0 &  417 &  1 & 0 & 0 & 38\\\\\n\t359 & NBA & Otto Porter      & WAS & SF & 75 & 2272 & 339 &  718 &  98 & 267 & ⋯ & 105 &  70 & 32 & 163 & 0 &  871 &  0 & 0 & 0 & 73\\\\\n\t367 & NBA & Tayshaun Prince  & MIN & SF & 77 & 1462 & 102 &  229 &   4 &  23 & ⋯ &  36 &  27 & 13 &  62 & 0 &  221 &  0 & 0 & 0 & 44\\\\\n\t376 & NBA & Glenn Robinson   & IND & SF & 45 &  511 &  65 &  151 &  14 &  37 & ⋯ &  17 &  18 &  9 &  21 & 0 &  171 &  0 & 0 & 0 &  4\\\\\n\t381 & NBA & Terrence Ross    & TOR & SF & 73 & 1751 & 270 &  626 & 131 & 338 & ⋯ &  54 &  46 & 25 & 120 & 1 &  720 &  0 & 0 & 0 &  7\\\\\n\t384 & NBA & Damjan Rudez     & MIN & SF & 33 &  278 &  25 &   62 &  17 &  50 & ⋯ &   3 &  13 &  1 &  33 & 0 &   75 &  0 & 0 & 0 &  0\\\\\n\t398 & NBA & Kyle Singler     & OKL & SF & 68 &  983 &  86 &  221 &  30 &  97 & ⋯ &  30 &  32 &  9 & 120 & 0 &  231 &  0 & 0 & 0 &  2\\\\\n\t405 & NBA & Josh Smith       & HOU & SF & 55 &  878 & 127 &  349 &  41 & 143 & ⋯ &  34 &  77 & 47 & 118 & 1 &  332 &  1 & 0 & 0 &  7\\\\\n\t407 & NBA & Tony Snell       & CHI & SF & 64 & 1300 & 126 &  339 &  56 & 155 & ⋯ &  16 &  52 & 17 & 100 & 0 &  338 &  0 & 0 & 0 & 33\\\\\n\t411 & NBA & Lance Stephenson & MEM & SF & 69 & 1371 & 228 &  474 &  30 &  78 & ⋯ &  43 &  94 &  9 & 135 & 1 &  573 &  2 & 0 & 0 & 13\\\\\n\t412 & NBA & Alex Stepheson   & MEM & SF &  8 &   72 &   9 &   27 &   0 &   0 & ⋯ &   1 &   0 &  5 &  12 & 1 &   22 &  0 & 0 & 0 &  0\\\\\n\t423 & NBA & Lance Thomas     & NYK & SF & 59 & 1323 & 169 &  382 &  44 & 109 & ⋯ &  22 &  57 &  7 & 109 & 2 &  484 &  0 & 0 & 0 &  5\\\\\n\t432 & NBA & P.j. Tucker      & PHO & SF & 82 & 2540 & 239 &  582 &  68 & 206 & ⋯ & 106 & 111 & 20 & 202 & 3 &  652 &  4 & 0 & 0 & 80\\\\\n\t448 & NBA & T.j. Warren      & PHO & SF & 47 & 1065 & 221 &  441 &  28 &  70 & ⋯ &  37 &  32 & 16 &  94 & 0 &  515 &  0 & 0 & 0 &  4\\\\\n\t456 & NBA & Andrew Wiggins   & MIN & SF & 81 & 2844 & 594 & 1294 &  57 & 190 & ⋯ &  78 & 182 & 46 & 165 & 1 & 1675 &  1 & 0 & 0 & 81\\\\\n\t465 & NBA & Justise Winslow  & MIA & SF & 78 & 2237 & 196 &  463 &  32 & 116 & ⋯ &  68 &  95 & 26 & 184 & 0 &  504 &  0 & 0 & 0 &  8\\\\\n\t473 & NBA & Nick Young       & LAL & SF & 54 & 1036 & 126 &  372 &  77 & 237 & ⋯ &  23 &  30 &  7 &  50 & 0 &  392 &  1 & 0 & 0 &  2\\\\\n\t474 & NBA & Thaddeus Young   & BRO & SF & 73 & 2413 & 495 &  963 &   7 &  30 & ⋯ & 112 & 136 & 37 & 182 & 3 & 1102 &  1 & 0 & 0 & 73\\\\\n\\end{tabular}\n",
            "text/markdown": "\nA data.frame: 86 × 25\n\n| <!--/--> | League &lt;fct&gt; | Name &lt;chr&gt; | Team &lt;fct&gt; | Position &lt;fct&gt; | GamesPlayed &lt;int&gt; | TotalMinutesPlayed &lt;int&gt; | FieldGoalsMade &lt;int&gt; | FieldGoalsAttempted &lt;int&gt; | ThreesMade &lt;int&gt; | ThreesAttempted &lt;int&gt; | ⋯ ⋯ | Steals &lt;int&gt; | Turnovers &lt;int&gt; | Blocks &lt;int&gt; | PersonalFouls &lt;int&gt; | Disqualifications &lt;int&gt; | TotalPoints &lt;int&gt; | Technicals &lt;int&gt; | Ejections &lt;int&gt; | FlagrantFouls &lt;int&gt; | GamesStarted &lt;int&gt; |\n|---|---|---|---|---|---|---|---|---|---|---|---|---|---|---|---|---|---|---|---|---|---|\n| 1 | NBA | Quincy Acy       | SAC | SF | 59 |  877 | 119 |  214 |  19 |  49 | ⋯ |  29 |  27 |  24 | 103 | 0 |  307 | 3 | 0 | 0 | 29 |\n| 11 | NBA | Al-farouq Aminu  | POR | SF | 82 | 2342 | 299 |  719 | 126 | 349 | ⋯ |  72 | 120 |  53 | 171 | 0 |  839 | 3 | 0 | 0 | 82 |\n| 17 | NBA | Kyle Anderson    | SAN | SF | 78 | 1247 | 138 |  296 |  12 |  37 | ⋯ |  60 |  59 |  29 |  97 | 0 |  350 | 0 | 0 | 0 | 11 |\n| 19 | NBA | Gi Antetokounmpo | MIL | SF | 80 | 2825 | 513 | 1012 |  28 | 110 | ⋯ |  94 | 208 | 113 | 258 | 7 | 1350 | 1 | 0 | 0 | 79 |\n| 20 | NBA | Th Antetokounmpo | NYK | SF |  3 |    7 |   3 |    4 |   0 |   1 | ⋯ |   0 |   0 |   0 |   2 | 0 |    6 | 0 | 0 | 0 |  0 |\n| 21 | NBA | Carmelo Anthony  | NYK | SF | 72 | 2529 | 567 | 1307 | 105 | 310 | ⋯ |  62 | 176 |  38 | 180 | 1 | 1573 | 4 | 0 | 0 | 72 |\n| 24 | NBA | Trevor Ariza     | HOU | SF | 81 | 2860 | 357 |  858 | 185 | 497 | ⋯ | 161 | 113 |  26 | 177 | 0 | 1025 | 2 | 0 | 0 | 81 |\n| 25 | NBA | Ron Artest       | LAL | SF | 35 |  588 |  55 |  177 |  26 |  84 | ⋯ |  22 |  15 |  11 |  67 | 1 |  176 | 1 | 0 | 0 |  5 |\n| 30 | NBA | Luke Babbitt     | NOR | SF | 47 |  847 | 122 |  289 |  44 | 109 | ⋯ |  11 |  23 |   7 |  90 | 0 |  327 | 1 | 0 | 0 | 13 |\n| 35 | NBA | Harrison Barnes  | GSW | SF | 66 | 2043 | 295 |  633 |  82 | 214 | ⋯ |  41 |  58 |  10 | 136 | 1 |  774 | 0 | 0 | 0 | 59 |\n| 36 | NBA | Matt Barnes      | MEM | SF | 76 | 2190 | 264 |  693 | 119 | 370 | ⋯ |  78 | 121 |  57 | 234 | 1 |  758 | 4 | 0 | 0 | 45 |\n| 39 | NBA | Nicolas Batum    | CHA | SF | 70 | 2453 | 372 |  872 | 139 | 399 | ⋯ |  65 | 205 |  43 | 114 | 0 | 1046 | 1 | 0 | 0 | 70 |\n| 45 | NBA | Marco Belinelli  | SAC | SF | 68 | 1670 | 245 |  635 |  91 | 297 | ⋯ |  37 |  80 |   2 |  91 | 0 |  696 | 0 | 0 | 0 |  7 |\n| 64 | NBA | Anthony Brown    | LAL | SF | 29 |  596 |  39 |  126 |  20 |  70 | ⋯ |  14 |  15 |   5 |  34 | 0 |  115 | 0 | 0 | 0 | 11 |\n| 68 | NBA | Chase Budinger   | PHO | SF | 66 |  931 | 104 |  239 |  24 |  86 | ⋯ |  32 |  44 |  10 |  62 | 0 |  271 | 0 | 0 | 0 |  2 |\n| 69 | NBA | Reggie Bullock   | DET | SF | 37 |  427 |  43 |   98 |  22 |  53 | ⋯ |  10 |   8 |   2 |  29 | 0 |  122 | 0 | 0 | 0 |  0 |\n| 72 | NBA | Caron Butler     | SAC | SF | 17 |  176 |  25 |   59 |   3 |  18 | ⋯ |   9 |   3 |   1 |  19 | 0 |   63 | 0 | 0 | 0 |  1 |\n| 74 | NBA | Rasual Butler    | SAN | SF | 46 |  432 |  49 |  105 |  15 |  49 | ⋯ |  13 |   8 |  23 |  11 | 0 |  124 | 0 | 0 | 0 |  0 |\n| 75 | NBA | Bruno Caboclo    | TOR | SF |  6 |   43 |   1 |   12 |   1 |   7 | ⋯ |   2 |   4 |   1 |   2 | 0 |    3 | 0 | 0 | 0 |  1 |\n| 80 | NBA | Demarre Carroll  | TOR | SF | 26 |  787 | 105 |  270 |  46 | 118 | ⋯ |  44 |  29 |   6 |  63 | 0 |  286 | 0 | 0 | 0 | 22 |\n| 83 | NBA | Omri Casspi      | SAC | SF | 69 | 1883 | 300 |  623 | 112 | 274 | ⋯ |  56 |  94 |  17 | 154 | 1 |  815 | 4 | 0 | 0 | 21 |\n| 96 | NBA | Chris Copeland   | MIL | SF | 24 |  159 |  17 |   51 |  10 |  36 | ⋯ |   2 |   6 |   0 |  17 | 0 |   50 | 0 | 0 | 0 |  1 |\n| 99 | NBA | Robert Covington | PHI | SF | 67 | 1902 | 274 |  712 | 170 | 482 | ⋯ | 105 | 143 |  40 | 232 | 4 |  858 | 0 | 0 | 0 | 49 |\n| 100 | NBA | Allen Crabbe     | POR | SF | 81 | 2111 | 312 |  678 | 112 | 284 | ⋯ |  63 |  64 |  16 | 192 | 2 |  834 | 0 | 0 | 0 |  8 |\n| 102 | NBA | Jae Crowder      | BOS | SF | 73 | 2310 | 359 |  812 | 122 | 363 | ⋯ | 126 |  83 |  35 | 198 | 4 | 1036 | 3 | 0 | 0 | 73 |\n| 110 | NBA | Branden Dawson   | LAC | SF |  6 |   28 |   2 |    5 |   0 |   0 | ⋯ |   0 |   0 |   1 |   2 | 0 |    5 | 0 | 0 | 0 |  0 |\n| 113 | NBA | Sam Dekker       | HOU | SF |  3 |    7 |   0 |    0 |   0 |   0 | ⋯ |   1 |   0 |   0 |   0 | 0 |    0 | 0 | 0 | 0 |  0 |\n| 115 | NBA | Luol Deng        | MIA | SF | 74 | 2395 | 339 |  747 |  88 | 256 | ⋯ |  74 |  80 |  29 | 122 | 0 |  911 | 2 | 0 | 0 | 73 |\n| 127 | NBA | Kevin Durant     | OKL | SF | 72 | 2577 | 698 | 1381 | 186 | 480 | ⋯ |  68 | 250 |  85 | 137 | 1 | 2029 | 6 | 0 | 0 | 72 |\n| 128 | NBA | Cleanthony Early | NYK | SF | 17 |  155 |  12 |   40 |   4 |  15 | ⋯ |   2 |   9 |   3 |  16 | 1 |   31 | 0 | 0 | 0 |  2 |\n| ⋮ | ⋮ | ⋮ | ⋮ | ⋮ | ⋮ | ⋮ | ⋮ | ⋮ | ⋮ | ⋮ | ⋱ | ⋮ | ⋮ | ⋮ | ⋮ | ⋮ | ⋮ | ⋮ | ⋮ | ⋮ | ⋮ |\n| 278 | NBA | Devyn Marble     | ORL | SF | 28 |  249 |  21 |   71 |   8 |  32 | ⋯ |  13 |   7 |  1 |  25 | 0 |   60 |  0 | 0 | 0 |  0 |\n| 285 | NBA | Luc Mbah_a_moute | LAC | SF | 75 | 1278 |  94 |  207 |  13 |  40 | ⋯ |  44 |  34 | 19 | 100 | 0 |  231 |  0 | 0 | 0 | 61 |\n| 292 | NBA | Doug Mcdermott   | CHI | SF | 81 | 1860 | 291 |  644 | 110 | 259 | ⋯ |  14 |  52 |  6 | 127 | 0 |  764 |  0 | 0 | 0 |  4 |\n| 301 | NBA | Khris Middleton  | MIL | SF | 79 | 2855 | 507 | 1144 | 143 | 362 | ⋯ | 131 | 180 | 19 | 204 | 1 | 1434 |  5 | 0 | 0 | 79 |\n| 304 | NBA | Mike Miller      | DEN | SF | 47 |  378 |  22 |   62 |  19 |  52 | ⋯ |  13 |  17 |  4 |  53 | 0 |   63 |  1 | 0 | 0 |  2 |\n| 314 | NBA | Marcus Morris    | DET | SF | 80 | 2852 | 410 |  945 | 108 | 297 | ⋯ |  67 | 140 | 23 | 170 | 1 | 1131 | 11 | 0 | 0 | 80 |\n| 320 | NBA | Shabazz Muhammad | MIN | SF | 82 | 1678 | 317 |  681 |  44 | 152 | ⋯ |  24 |  70 |  7 |  94 | 0 |  863 |  0 | 0 | 0 |  0 |\n| 332 | NBA | Steve Novak      | MIL | SF | 10 |   43 |   8 |   18 |   7 |  15 | ⋯ |   0 |   1 |  0 |   3 | 0 |   24 |  0 | 0 | 0 |  0 |\n| 335 | NBA | J.j. O'brien     | UTA | SF |  1 |    2 |   0 |    1 |   0 |   0 | ⋯ |   0 |   0 |  0 |   0 | 0 |    0 |  0 | 0 | 0 |  0 |\n| 343 | NBA | Kos Papanikolaou | DEN | SF | 26 |  294 |  24 |   66 |  10 |  32 | ⋯ |  13 |  21 |  5 |  24 | 0 |   67 |  0 | 0 | 0 |  6 |\n| 344 | NBA | Jabari Parker    | MIL | SF | 76 | 2407 | 443 |  899 |   9 |  35 | ⋯ |  69 | 116 | 29 | 154 | 0 | 1070 |  0 | 0 | 0 | 72 |\n| 346 | NBA | Chandler Parsons | DAL | SF | 61 | 1801 | 320 |  651 | 104 | 250 | ⋯ |  46 |  95 | 21 | 114 | 0 |  837 |  1 | 0 | 0 | 51 |\n| 355 | NBA | Paul Pierce      | LAC | SF | 68 | 1235 | 144 |  397 |  75 | 242 | ⋯ |  33 |  58 | 17 | 129 | 0 |  417 |  1 | 0 | 0 | 38 |\n| 359 | NBA | Otto Porter      | WAS | SF | 75 | 2272 | 339 |  718 |  98 | 267 | ⋯ | 105 |  70 | 32 | 163 | 0 |  871 |  0 | 0 | 0 | 73 |\n| 367 | NBA | Tayshaun Prince  | MIN | SF | 77 | 1462 | 102 |  229 |   4 |  23 | ⋯ |  36 |  27 | 13 |  62 | 0 |  221 |  0 | 0 | 0 | 44 |\n| 376 | NBA | Glenn Robinson   | IND | SF | 45 |  511 |  65 |  151 |  14 |  37 | ⋯ |  17 |  18 |  9 |  21 | 0 |  171 |  0 | 0 | 0 |  4 |\n| 381 | NBA | Terrence Ross    | TOR | SF | 73 | 1751 | 270 |  626 | 131 | 338 | ⋯ |  54 |  46 | 25 | 120 | 1 |  720 |  0 | 0 | 0 |  7 |\n| 384 | NBA | Damjan Rudez     | MIN | SF | 33 |  278 |  25 |   62 |  17 |  50 | ⋯ |   3 |  13 |  1 |  33 | 0 |   75 |  0 | 0 | 0 |  0 |\n| 398 | NBA | Kyle Singler     | OKL | SF | 68 |  983 |  86 |  221 |  30 |  97 | ⋯ |  30 |  32 |  9 | 120 | 0 |  231 |  0 | 0 | 0 |  2 |\n| 405 | NBA | Josh Smith       | HOU | SF | 55 |  878 | 127 |  349 |  41 | 143 | ⋯ |  34 |  77 | 47 | 118 | 1 |  332 |  1 | 0 | 0 |  7 |\n| 407 | NBA | Tony Snell       | CHI | SF | 64 | 1300 | 126 |  339 |  56 | 155 | ⋯ |  16 |  52 | 17 | 100 | 0 |  338 |  0 | 0 | 0 | 33 |\n| 411 | NBA | Lance Stephenson | MEM | SF | 69 | 1371 | 228 |  474 |  30 |  78 | ⋯ |  43 |  94 |  9 | 135 | 1 |  573 |  2 | 0 | 0 | 13 |\n| 412 | NBA | Alex Stepheson   | MEM | SF |  8 |   72 |   9 |   27 |   0 |   0 | ⋯ |   1 |   0 |  5 |  12 | 1 |   22 |  0 | 0 | 0 |  0 |\n| 423 | NBA | Lance Thomas     | NYK | SF | 59 | 1323 | 169 |  382 |  44 | 109 | ⋯ |  22 |  57 |  7 | 109 | 2 |  484 |  0 | 0 | 0 |  5 |\n| 432 | NBA | P.j. Tucker      | PHO | SF | 82 | 2540 | 239 |  582 |  68 | 206 | ⋯ | 106 | 111 | 20 | 202 | 3 |  652 |  4 | 0 | 0 | 80 |\n| 448 | NBA | T.j. Warren      | PHO | SF | 47 | 1065 | 221 |  441 |  28 |  70 | ⋯ |  37 |  32 | 16 |  94 | 0 |  515 |  0 | 0 | 0 |  4 |\n| 456 | NBA | Andrew Wiggins   | MIN | SF | 81 | 2844 | 594 | 1294 |  57 | 190 | ⋯ |  78 | 182 | 46 | 165 | 1 | 1675 |  1 | 0 | 0 | 81 |\n| 465 | NBA | Justise Winslow  | MIA | SF | 78 | 2237 | 196 |  463 |  32 | 116 | ⋯ |  68 |  95 | 26 | 184 | 0 |  504 |  0 | 0 | 0 |  8 |\n| 473 | NBA | Nick Young       | LAL | SF | 54 | 1036 | 126 |  372 |  77 | 237 | ⋯ |  23 |  30 |  7 |  50 | 0 |  392 |  1 | 0 | 0 |  2 |\n| 474 | NBA | Thaddeus Young   | BRO | SF | 73 | 2413 | 495 |  963 |   7 |  30 | ⋯ | 112 | 136 | 37 | 182 | 3 | 1102 |  1 | 0 | 0 | 73 |\n\n",
            "text/html": [
              "<table>\n",
              "<caption>A data.frame: 86 × 25</caption>\n",
              "<thead>\n",
              "\t<tr><th></th><th scope=col>League</th><th scope=col>Name</th><th scope=col>Team</th><th scope=col>Position</th><th scope=col>GamesPlayed</th><th scope=col>TotalMinutesPlayed</th><th scope=col>FieldGoalsMade</th><th scope=col>FieldGoalsAttempted</th><th scope=col>ThreesMade</th><th scope=col>ThreesAttempted</th><th scope=col>⋯</th><th scope=col>Steals</th><th scope=col>Turnovers</th><th scope=col>Blocks</th><th scope=col>PersonalFouls</th><th scope=col>Disqualifications</th><th scope=col>TotalPoints</th><th scope=col>Technicals</th><th scope=col>Ejections</th><th scope=col>FlagrantFouls</th><th scope=col>GamesStarted</th></tr>\n",
              "\t<tr><th></th><th scope=col>&lt;fct&gt;</th><th scope=col>&lt;chr&gt;</th><th scope=col>&lt;fct&gt;</th><th scope=col>&lt;fct&gt;</th><th scope=col>&lt;int&gt;</th><th scope=col>&lt;int&gt;</th><th scope=col>&lt;int&gt;</th><th scope=col>&lt;int&gt;</th><th scope=col>&lt;int&gt;</th><th scope=col>&lt;int&gt;</th><th scope=col>⋯</th><th scope=col>&lt;int&gt;</th><th scope=col>&lt;int&gt;</th><th scope=col>&lt;int&gt;</th><th scope=col>&lt;int&gt;</th><th scope=col>&lt;int&gt;</th><th scope=col>&lt;int&gt;</th><th scope=col>&lt;int&gt;</th><th scope=col>&lt;int&gt;</th><th scope=col>&lt;int&gt;</th><th scope=col>&lt;int&gt;</th></tr>\n",
              "</thead>\n",
              "<tbody>\n",
              "\t<tr><th scope=row>1</th><td>NBA</td><td>Quincy Acy      </td><td>SAC</td><td>SF</td><td>59</td><td> 877</td><td>119</td><td> 214</td><td> 19</td><td> 49</td><td>⋯</td><td> 29</td><td> 27</td><td> 24</td><td>103</td><td>0</td><td> 307</td><td>3</td><td>0</td><td>0</td><td>29</td></tr>\n",
              "\t<tr><th scope=row>11</th><td>NBA</td><td>Al-farouq Aminu </td><td>POR</td><td>SF</td><td>82</td><td>2342</td><td>299</td><td> 719</td><td>126</td><td>349</td><td>⋯</td><td> 72</td><td>120</td><td> 53</td><td>171</td><td>0</td><td> 839</td><td>3</td><td>0</td><td>0</td><td>82</td></tr>\n",
              "\t<tr><th scope=row>17</th><td>NBA</td><td>Kyle Anderson   </td><td>SAN</td><td>SF</td><td>78</td><td>1247</td><td>138</td><td> 296</td><td> 12</td><td> 37</td><td>⋯</td><td> 60</td><td> 59</td><td> 29</td><td> 97</td><td>0</td><td> 350</td><td>0</td><td>0</td><td>0</td><td>11</td></tr>\n",
              "\t<tr><th scope=row>19</th><td>NBA</td><td>Gi Antetokounmpo</td><td>MIL</td><td>SF</td><td>80</td><td>2825</td><td>513</td><td>1012</td><td> 28</td><td>110</td><td>⋯</td><td> 94</td><td>208</td><td>113</td><td>258</td><td>7</td><td>1350</td><td>1</td><td>0</td><td>0</td><td>79</td></tr>\n",
              "\t<tr><th scope=row>20</th><td>NBA</td><td>Th Antetokounmpo</td><td>NYK</td><td>SF</td><td> 3</td><td>   7</td><td>  3</td><td>   4</td><td>  0</td><td>  1</td><td>⋯</td><td>  0</td><td>  0</td><td>  0</td><td>  2</td><td>0</td><td>   6</td><td>0</td><td>0</td><td>0</td><td> 0</td></tr>\n",
              "\t<tr><th scope=row>21</th><td>NBA</td><td>Carmelo Anthony </td><td>NYK</td><td>SF</td><td>72</td><td>2529</td><td>567</td><td>1307</td><td>105</td><td>310</td><td>⋯</td><td> 62</td><td>176</td><td> 38</td><td>180</td><td>1</td><td>1573</td><td>4</td><td>0</td><td>0</td><td>72</td></tr>\n",
              "\t<tr><th scope=row>24</th><td>NBA</td><td>Trevor Ariza    </td><td>HOU</td><td>SF</td><td>81</td><td>2860</td><td>357</td><td> 858</td><td>185</td><td>497</td><td>⋯</td><td>161</td><td>113</td><td> 26</td><td>177</td><td>0</td><td>1025</td><td>2</td><td>0</td><td>0</td><td>81</td></tr>\n",
              "\t<tr><th scope=row>25</th><td>NBA</td><td>Ron Artest      </td><td>LAL</td><td>SF</td><td>35</td><td> 588</td><td> 55</td><td> 177</td><td> 26</td><td> 84</td><td>⋯</td><td> 22</td><td> 15</td><td> 11</td><td> 67</td><td>1</td><td> 176</td><td>1</td><td>0</td><td>0</td><td> 5</td></tr>\n",
              "\t<tr><th scope=row>30</th><td>NBA</td><td>Luke Babbitt    </td><td>NOR</td><td>SF</td><td>47</td><td> 847</td><td>122</td><td> 289</td><td> 44</td><td>109</td><td>⋯</td><td> 11</td><td> 23</td><td>  7</td><td> 90</td><td>0</td><td> 327</td><td>1</td><td>0</td><td>0</td><td>13</td></tr>\n",
              "\t<tr><th scope=row>35</th><td>NBA</td><td>Harrison Barnes </td><td>GSW</td><td>SF</td><td>66</td><td>2043</td><td>295</td><td> 633</td><td> 82</td><td>214</td><td>⋯</td><td> 41</td><td> 58</td><td> 10</td><td>136</td><td>1</td><td> 774</td><td>0</td><td>0</td><td>0</td><td>59</td></tr>\n",
              "\t<tr><th scope=row>36</th><td>NBA</td><td>Matt Barnes     </td><td>MEM</td><td>SF</td><td>76</td><td>2190</td><td>264</td><td> 693</td><td>119</td><td>370</td><td>⋯</td><td> 78</td><td>121</td><td> 57</td><td>234</td><td>1</td><td> 758</td><td>4</td><td>0</td><td>0</td><td>45</td></tr>\n",
              "\t<tr><th scope=row>39</th><td>NBA</td><td>Nicolas Batum   </td><td>CHA</td><td>SF</td><td>70</td><td>2453</td><td>372</td><td> 872</td><td>139</td><td>399</td><td>⋯</td><td> 65</td><td>205</td><td> 43</td><td>114</td><td>0</td><td>1046</td><td>1</td><td>0</td><td>0</td><td>70</td></tr>\n",
              "\t<tr><th scope=row>45</th><td>NBA</td><td>Marco Belinelli </td><td>SAC</td><td>SF</td><td>68</td><td>1670</td><td>245</td><td> 635</td><td> 91</td><td>297</td><td>⋯</td><td> 37</td><td> 80</td><td>  2</td><td> 91</td><td>0</td><td> 696</td><td>0</td><td>0</td><td>0</td><td> 7</td></tr>\n",
              "\t<tr><th scope=row>64</th><td>NBA</td><td>Anthony Brown   </td><td>LAL</td><td>SF</td><td>29</td><td> 596</td><td> 39</td><td> 126</td><td> 20</td><td> 70</td><td>⋯</td><td> 14</td><td> 15</td><td>  5</td><td> 34</td><td>0</td><td> 115</td><td>0</td><td>0</td><td>0</td><td>11</td></tr>\n",
              "\t<tr><th scope=row>68</th><td>NBA</td><td>Chase Budinger  </td><td>PHO</td><td>SF</td><td>66</td><td> 931</td><td>104</td><td> 239</td><td> 24</td><td> 86</td><td>⋯</td><td> 32</td><td> 44</td><td> 10</td><td> 62</td><td>0</td><td> 271</td><td>0</td><td>0</td><td>0</td><td> 2</td></tr>\n",
              "\t<tr><th scope=row>69</th><td>NBA</td><td>Reggie Bullock  </td><td>DET</td><td>SF</td><td>37</td><td> 427</td><td> 43</td><td>  98</td><td> 22</td><td> 53</td><td>⋯</td><td> 10</td><td>  8</td><td>  2</td><td> 29</td><td>0</td><td> 122</td><td>0</td><td>0</td><td>0</td><td> 0</td></tr>\n",
              "\t<tr><th scope=row>72</th><td>NBA</td><td>Caron Butler    </td><td>SAC</td><td>SF</td><td>17</td><td> 176</td><td> 25</td><td>  59</td><td>  3</td><td> 18</td><td>⋯</td><td>  9</td><td>  3</td><td>  1</td><td> 19</td><td>0</td><td>  63</td><td>0</td><td>0</td><td>0</td><td> 1</td></tr>\n",
              "\t<tr><th scope=row>74</th><td>NBA</td><td>Rasual Butler   </td><td>SAN</td><td>SF</td><td>46</td><td> 432</td><td> 49</td><td> 105</td><td> 15</td><td> 49</td><td>⋯</td><td> 13</td><td>  8</td><td> 23</td><td> 11</td><td>0</td><td> 124</td><td>0</td><td>0</td><td>0</td><td> 0</td></tr>\n",
              "\t<tr><th scope=row>75</th><td>NBA</td><td>Bruno Caboclo   </td><td>TOR</td><td>SF</td><td> 6</td><td>  43</td><td>  1</td><td>  12</td><td>  1</td><td>  7</td><td>⋯</td><td>  2</td><td>  4</td><td>  1</td><td>  2</td><td>0</td><td>   3</td><td>0</td><td>0</td><td>0</td><td> 1</td></tr>\n",
              "\t<tr><th scope=row>80</th><td>NBA</td><td>Demarre Carroll </td><td>TOR</td><td>SF</td><td>26</td><td> 787</td><td>105</td><td> 270</td><td> 46</td><td>118</td><td>⋯</td><td> 44</td><td> 29</td><td>  6</td><td> 63</td><td>0</td><td> 286</td><td>0</td><td>0</td><td>0</td><td>22</td></tr>\n",
              "\t<tr><th scope=row>83</th><td>NBA</td><td>Omri Casspi     </td><td>SAC</td><td>SF</td><td>69</td><td>1883</td><td>300</td><td> 623</td><td>112</td><td>274</td><td>⋯</td><td> 56</td><td> 94</td><td> 17</td><td>154</td><td>1</td><td> 815</td><td>4</td><td>0</td><td>0</td><td>21</td></tr>\n",
              "\t<tr><th scope=row>96</th><td>NBA</td><td>Chris Copeland  </td><td>MIL</td><td>SF</td><td>24</td><td> 159</td><td> 17</td><td>  51</td><td> 10</td><td> 36</td><td>⋯</td><td>  2</td><td>  6</td><td>  0</td><td> 17</td><td>0</td><td>  50</td><td>0</td><td>0</td><td>0</td><td> 1</td></tr>\n",
              "\t<tr><th scope=row>99</th><td>NBA</td><td>Robert Covington</td><td>PHI</td><td>SF</td><td>67</td><td>1902</td><td>274</td><td> 712</td><td>170</td><td>482</td><td>⋯</td><td>105</td><td>143</td><td> 40</td><td>232</td><td>4</td><td> 858</td><td>0</td><td>0</td><td>0</td><td>49</td></tr>\n",
              "\t<tr><th scope=row>100</th><td>NBA</td><td>Allen Crabbe    </td><td>POR</td><td>SF</td><td>81</td><td>2111</td><td>312</td><td> 678</td><td>112</td><td>284</td><td>⋯</td><td> 63</td><td> 64</td><td> 16</td><td>192</td><td>2</td><td> 834</td><td>0</td><td>0</td><td>0</td><td> 8</td></tr>\n",
              "\t<tr><th scope=row>102</th><td>NBA</td><td>Jae Crowder     </td><td>BOS</td><td>SF</td><td>73</td><td>2310</td><td>359</td><td> 812</td><td>122</td><td>363</td><td>⋯</td><td>126</td><td> 83</td><td> 35</td><td>198</td><td>4</td><td>1036</td><td>3</td><td>0</td><td>0</td><td>73</td></tr>\n",
              "\t<tr><th scope=row>110</th><td>NBA</td><td>Branden Dawson  </td><td>LAC</td><td>SF</td><td> 6</td><td>  28</td><td>  2</td><td>   5</td><td>  0</td><td>  0</td><td>⋯</td><td>  0</td><td>  0</td><td>  1</td><td>  2</td><td>0</td><td>   5</td><td>0</td><td>0</td><td>0</td><td> 0</td></tr>\n",
              "\t<tr><th scope=row>113</th><td>NBA</td><td>Sam Dekker      </td><td>HOU</td><td>SF</td><td> 3</td><td>   7</td><td>  0</td><td>   0</td><td>  0</td><td>  0</td><td>⋯</td><td>  1</td><td>  0</td><td>  0</td><td>  0</td><td>0</td><td>   0</td><td>0</td><td>0</td><td>0</td><td> 0</td></tr>\n",
              "\t<tr><th scope=row>115</th><td>NBA</td><td>Luol Deng       </td><td>MIA</td><td>SF</td><td>74</td><td>2395</td><td>339</td><td> 747</td><td> 88</td><td>256</td><td>⋯</td><td> 74</td><td> 80</td><td> 29</td><td>122</td><td>0</td><td> 911</td><td>2</td><td>0</td><td>0</td><td>73</td></tr>\n",
              "\t<tr><th scope=row>127</th><td>NBA</td><td>Kevin Durant    </td><td>OKL</td><td>SF</td><td>72</td><td>2577</td><td>698</td><td>1381</td><td>186</td><td>480</td><td>⋯</td><td> 68</td><td>250</td><td> 85</td><td>137</td><td>1</td><td>2029</td><td>6</td><td>0</td><td>0</td><td>72</td></tr>\n",
              "\t<tr><th scope=row>128</th><td>NBA</td><td>Cleanthony Early</td><td>NYK</td><td>SF</td><td>17</td><td> 155</td><td> 12</td><td>  40</td><td>  4</td><td> 15</td><td>⋯</td><td>  2</td><td>  9</td><td>  3</td><td> 16</td><td>1</td><td>  31</td><td>0</td><td>0</td><td>0</td><td> 2</td></tr>\n",
              "\t<tr><th scope=row>⋮</th><td>⋮</td><td>⋮</td><td>⋮</td><td>⋮</td><td>⋮</td><td>⋮</td><td>⋮</td><td>⋮</td><td>⋮</td><td>⋮</td><td>⋱</td><td>⋮</td><td>⋮</td><td>⋮</td><td>⋮</td><td>⋮</td><td>⋮</td><td>⋮</td><td>⋮</td><td>⋮</td><td>⋮</td></tr>\n",
              "\t<tr><th scope=row>278</th><td>NBA</td><td>Devyn Marble    </td><td>ORL</td><td>SF</td><td>28</td><td> 249</td><td> 21</td><td>  71</td><td>  8</td><td> 32</td><td>⋯</td><td> 13</td><td>  7</td><td> 1</td><td> 25</td><td>0</td><td>  60</td><td> 0</td><td>0</td><td>0</td><td> 0</td></tr>\n",
              "\t<tr><th scope=row>285</th><td>NBA</td><td>Luc Mbah_a_moute</td><td>LAC</td><td>SF</td><td>75</td><td>1278</td><td> 94</td><td> 207</td><td> 13</td><td> 40</td><td>⋯</td><td> 44</td><td> 34</td><td>19</td><td>100</td><td>0</td><td> 231</td><td> 0</td><td>0</td><td>0</td><td>61</td></tr>\n",
              "\t<tr><th scope=row>292</th><td>NBA</td><td>Doug Mcdermott  </td><td>CHI</td><td>SF</td><td>81</td><td>1860</td><td>291</td><td> 644</td><td>110</td><td>259</td><td>⋯</td><td> 14</td><td> 52</td><td> 6</td><td>127</td><td>0</td><td> 764</td><td> 0</td><td>0</td><td>0</td><td> 4</td></tr>\n",
              "\t<tr><th scope=row>301</th><td>NBA</td><td>Khris Middleton </td><td>MIL</td><td>SF</td><td>79</td><td>2855</td><td>507</td><td>1144</td><td>143</td><td>362</td><td>⋯</td><td>131</td><td>180</td><td>19</td><td>204</td><td>1</td><td>1434</td><td> 5</td><td>0</td><td>0</td><td>79</td></tr>\n",
              "\t<tr><th scope=row>304</th><td>NBA</td><td>Mike Miller     </td><td>DEN</td><td>SF</td><td>47</td><td> 378</td><td> 22</td><td>  62</td><td> 19</td><td> 52</td><td>⋯</td><td> 13</td><td> 17</td><td> 4</td><td> 53</td><td>0</td><td>  63</td><td> 1</td><td>0</td><td>0</td><td> 2</td></tr>\n",
              "\t<tr><th scope=row>314</th><td>NBA</td><td>Marcus Morris   </td><td>DET</td><td>SF</td><td>80</td><td>2852</td><td>410</td><td> 945</td><td>108</td><td>297</td><td>⋯</td><td> 67</td><td>140</td><td>23</td><td>170</td><td>1</td><td>1131</td><td>11</td><td>0</td><td>0</td><td>80</td></tr>\n",
              "\t<tr><th scope=row>320</th><td>NBA</td><td>Shabazz Muhammad</td><td>MIN</td><td>SF</td><td>82</td><td>1678</td><td>317</td><td> 681</td><td> 44</td><td>152</td><td>⋯</td><td> 24</td><td> 70</td><td> 7</td><td> 94</td><td>0</td><td> 863</td><td> 0</td><td>0</td><td>0</td><td> 0</td></tr>\n",
              "\t<tr><th scope=row>332</th><td>NBA</td><td>Steve Novak     </td><td>MIL</td><td>SF</td><td>10</td><td>  43</td><td>  8</td><td>  18</td><td>  7</td><td> 15</td><td>⋯</td><td>  0</td><td>  1</td><td> 0</td><td>  3</td><td>0</td><td>  24</td><td> 0</td><td>0</td><td>0</td><td> 0</td></tr>\n",
              "\t<tr><th scope=row>335</th><td>NBA</td><td>J.j. O'brien    </td><td>UTA</td><td>SF</td><td> 1</td><td>   2</td><td>  0</td><td>   1</td><td>  0</td><td>  0</td><td>⋯</td><td>  0</td><td>  0</td><td> 0</td><td>  0</td><td>0</td><td>   0</td><td> 0</td><td>0</td><td>0</td><td> 0</td></tr>\n",
              "\t<tr><th scope=row>343</th><td>NBA</td><td>Kos Papanikolaou</td><td>DEN</td><td>SF</td><td>26</td><td> 294</td><td> 24</td><td>  66</td><td> 10</td><td> 32</td><td>⋯</td><td> 13</td><td> 21</td><td> 5</td><td> 24</td><td>0</td><td>  67</td><td> 0</td><td>0</td><td>0</td><td> 6</td></tr>\n",
              "\t<tr><th scope=row>344</th><td>NBA</td><td>Jabari Parker   </td><td>MIL</td><td>SF</td><td>76</td><td>2407</td><td>443</td><td> 899</td><td>  9</td><td> 35</td><td>⋯</td><td> 69</td><td>116</td><td>29</td><td>154</td><td>0</td><td>1070</td><td> 0</td><td>0</td><td>0</td><td>72</td></tr>\n",
              "\t<tr><th scope=row>346</th><td>NBA</td><td>Chandler Parsons</td><td>DAL</td><td>SF</td><td>61</td><td>1801</td><td>320</td><td> 651</td><td>104</td><td>250</td><td>⋯</td><td> 46</td><td> 95</td><td>21</td><td>114</td><td>0</td><td> 837</td><td> 1</td><td>0</td><td>0</td><td>51</td></tr>\n",
              "\t<tr><th scope=row>355</th><td>NBA</td><td>Paul Pierce     </td><td>LAC</td><td>SF</td><td>68</td><td>1235</td><td>144</td><td> 397</td><td> 75</td><td>242</td><td>⋯</td><td> 33</td><td> 58</td><td>17</td><td>129</td><td>0</td><td> 417</td><td> 1</td><td>0</td><td>0</td><td>38</td></tr>\n",
              "\t<tr><th scope=row>359</th><td>NBA</td><td>Otto Porter     </td><td>WAS</td><td>SF</td><td>75</td><td>2272</td><td>339</td><td> 718</td><td> 98</td><td>267</td><td>⋯</td><td>105</td><td> 70</td><td>32</td><td>163</td><td>0</td><td> 871</td><td> 0</td><td>0</td><td>0</td><td>73</td></tr>\n",
              "\t<tr><th scope=row>367</th><td>NBA</td><td>Tayshaun Prince </td><td>MIN</td><td>SF</td><td>77</td><td>1462</td><td>102</td><td> 229</td><td>  4</td><td> 23</td><td>⋯</td><td> 36</td><td> 27</td><td>13</td><td> 62</td><td>0</td><td> 221</td><td> 0</td><td>0</td><td>0</td><td>44</td></tr>\n",
              "\t<tr><th scope=row>376</th><td>NBA</td><td>Glenn Robinson  </td><td>IND</td><td>SF</td><td>45</td><td> 511</td><td> 65</td><td> 151</td><td> 14</td><td> 37</td><td>⋯</td><td> 17</td><td> 18</td><td> 9</td><td> 21</td><td>0</td><td> 171</td><td> 0</td><td>0</td><td>0</td><td> 4</td></tr>\n",
              "\t<tr><th scope=row>381</th><td>NBA</td><td>Terrence Ross   </td><td>TOR</td><td>SF</td><td>73</td><td>1751</td><td>270</td><td> 626</td><td>131</td><td>338</td><td>⋯</td><td> 54</td><td> 46</td><td>25</td><td>120</td><td>1</td><td> 720</td><td> 0</td><td>0</td><td>0</td><td> 7</td></tr>\n",
              "\t<tr><th scope=row>384</th><td>NBA</td><td>Damjan Rudez    </td><td>MIN</td><td>SF</td><td>33</td><td> 278</td><td> 25</td><td>  62</td><td> 17</td><td> 50</td><td>⋯</td><td>  3</td><td> 13</td><td> 1</td><td> 33</td><td>0</td><td>  75</td><td> 0</td><td>0</td><td>0</td><td> 0</td></tr>\n",
              "\t<tr><th scope=row>398</th><td>NBA</td><td>Kyle Singler    </td><td>OKL</td><td>SF</td><td>68</td><td> 983</td><td> 86</td><td> 221</td><td> 30</td><td> 97</td><td>⋯</td><td> 30</td><td> 32</td><td> 9</td><td>120</td><td>0</td><td> 231</td><td> 0</td><td>0</td><td>0</td><td> 2</td></tr>\n",
              "\t<tr><th scope=row>405</th><td>NBA</td><td>Josh Smith      </td><td>HOU</td><td>SF</td><td>55</td><td> 878</td><td>127</td><td> 349</td><td> 41</td><td>143</td><td>⋯</td><td> 34</td><td> 77</td><td>47</td><td>118</td><td>1</td><td> 332</td><td> 1</td><td>0</td><td>0</td><td> 7</td></tr>\n",
              "\t<tr><th scope=row>407</th><td>NBA</td><td>Tony Snell      </td><td>CHI</td><td>SF</td><td>64</td><td>1300</td><td>126</td><td> 339</td><td> 56</td><td>155</td><td>⋯</td><td> 16</td><td> 52</td><td>17</td><td>100</td><td>0</td><td> 338</td><td> 0</td><td>0</td><td>0</td><td>33</td></tr>\n",
              "\t<tr><th scope=row>411</th><td>NBA</td><td>Lance Stephenson</td><td>MEM</td><td>SF</td><td>69</td><td>1371</td><td>228</td><td> 474</td><td> 30</td><td> 78</td><td>⋯</td><td> 43</td><td> 94</td><td> 9</td><td>135</td><td>1</td><td> 573</td><td> 2</td><td>0</td><td>0</td><td>13</td></tr>\n",
              "\t<tr><th scope=row>412</th><td>NBA</td><td>Alex Stepheson  </td><td>MEM</td><td>SF</td><td> 8</td><td>  72</td><td>  9</td><td>  27</td><td>  0</td><td>  0</td><td>⋯</td><td>  1</td><td>  0</td><td> 5</td><td> 12</td><td>1</td><td>  22</td><td> 0</td><td>0</td><td>0</td><td> 0</td></tr>\n",
              "\t<tr><th scope=row>423</th><td>NBA</td><td>Lance Thomas    </td><td>NYK</td><td>SF</td><td>59</td><td>1323</td><td>169</td><td> 382</td><td> 44</td><td>109</td><td>⋯</td><td> 22</td><td> 57</td><td> 7</td><td>109</td><td>2</td><td> 484</td><td> 0</td><td>0</td><td>0</td><td> 5</td></tr>\n",
              "\t<tr><th scope=row>432</th><td>NBA</td><td>P.j. Tucker     </td><td>PHO</td><td>SF</td><td>82</td><td>2540</td><td>239</td><td> 582</td><td> 68</td><td>206</td><td>⋯</td><td>106</td><td>111</td><td>20</td><td>202</td><td>3</td><td> 652</td><td> 4</td><td>0</td><td>0</td><td>80</td></tr>\n",
              "\t<tr><th scope=row>448</th><td>NBA</td><td>T.j. Warren     </td><td>PHO</td><td>SF</td><td>47</td><td>1065</td><td>221</td><td> 441</td><td> 28</td><td> 70</td><td>⋯</td><td> 37</td><td> 32</td><td>16</td><td> 94</td><td>0</td><td> 515</td><td> 0</td><td>0</td><td>0</td><td> 4</td></tr>\n",
              "\t<tr><th scope=row>456</th><td>NBA</td><td>Andrew Wiggins  </td><td>MIN</td><td>SF</td><td>81</td><td>2844</td><td>594</td><td>1294</td><td> 57</td><td>190</td><td>⋯</td><td> 78</td><td>182</td><td>46</td><td>165</td><td>1</td><td>1675</td><td> 1</td><td>0</td><td>0</td><td>81</td></tr>\n",
              "\t<tr><th scope=row>465</th><td>NBA</td><td>Justise Winslow </td><td>MIA</td><td>SF</td><td>78</td><td>2237</td><td>196</td><td> 463</td><td> 32</td><td>116</td><td>⋯</td><td> 68</td><td> 95</td><td>26</td><td>184</td><td>0</td><td> 504</td><td> 0</td><td>0</td><td>0</td><td> 8</td></tr>\n",
              "\t<tr><th scope=row>473</th><td>NBA</td><td>Nick Young      </td><td>LAL</td><td>SF</td><td>54</td><td>1036</td><td>126</td><td> 372</td><td> 77</td><td>237</td><td>⋯</td><td> 23</td><td> 30</td><td> 7</td><td> 50</td><td>0</td><td> 392</td><td> 1</td><td>0</td><td>0</td><td> 2</td></tr>\n",
              "\t<tr><th scope=row>474</th><td>NBA</td><td>Thaddeus Young  </td><td>BRO</td><td>SF</td><td>73</td><td>2413</td><td>495</td><td> 963</td><td>  7</td><td> 30</td><td>⋯</td><td>112</td><td>136</td><td>37</td><td>182</td><td>3</td><td>1102</td><td> 1</td><td>0</td><td>0</td><td>73</td></tr>\n",
              "</tbody>\n",
              "</table>\n"
            ]
          },
          "metadata": {
            "tags": []
          }
        }
      ]
    },
    {
      "cell_type": "code",
      "metadata": {
        "id": "XPNf37NDqbGb",
        "outputId": "52070199-b238-4f26-9709-3de3c9c4ce7b",
        "colab": {
          "base_uri": "https://localhost:8080/",
          "height": 68
        }
      },
      "source": [
        "install.packages(\"data.table\")\n",
        "library(data.table)"
      ],
      "execution_count": 97,
      "outputs": [
        {
          "output_type": "stream",
          "text": [
            "Installing package into ‘/usr/local/lib/R/site-library’\n",
            "(as ‘lib’ is unspecified)\n",
            "\n"
          ],
          "name": "stderr"
        }
      ]
    },
    {
      "cell_type": "code",
      "metadata": {
        "id": "aZ1cVCupreYP",
        "outputId": "8e226ddb-e431-4d51-8b4c-74ad9cba146a",
        "colab": {
          "base_uri": "https://localhost:8080/",
          "height": 598
        }
      },
      "source": [
        "NBA1516DT<-data.table(NBA1516)\n",
        "\n",
        "NBA1516DT[grepl(\"James\",Name)]\n",
        "NBA1516DT[gameplayed>80]\n",
        "NBA1516DT[grepl(\"C\",Name)&Position==\"PG\"]"
      ],
      "execution_count": 98,
      "outputs": [
        {
          "output_type": "display_data",
          "data": {
            "text/plain": [
              "  League Name           Team Position GamesPlayed TotalMinutesPlayed\n",
              "1 NBA    James Anderson SAC  SG       51           721              \n",
              "2 NBA    James Ennis    NOR  SF       22           329              \n",
              "3 NBA    James Harden   HOU  SG       82          3121              \n",
              "4 NBA    Lebron James   CLE  SF       76          2710              \n",
              "5 NBA    James Johnson  TOR  PF       57           924              \n",
              "6 NBA    James Jones    CLE  SG       48           466              \n",
              "7 NBA    James Mcadoo   GSW  SG       41           265              \n",
              "8 NBA    James Young    BOS  SG       29           200              \n",
              "  FieldGoalsMade FieldGoalsAttempted ThreesMade ThreesAttempted ⋯ Steals\n",
              "1  67             178                 23         86             ⋯  21   \n",
              "2  54             113                 26         58             ⋯  16   \n",
              "3 710            1617                236        656             ⋯ 138   \n",
              "4 737            1416                 87        282             ⋯ 104   \n",
              "5 114             240                 20         66             ⋯  29   \n",
              "6  59             143                 41        104             ⋯  11   \n",
              "7  45              84                  1          2             ⋯  10   \n",
              "8  11              36                  6         26             ⋯   6   \n",
              "  Turnovers Blocks PersonalFouls Disqualifications TotalPoints Technicals\n",
              "1  42       14      54           0                  179        0         \n",
              "2  19        5      28           1                  159        0         \n",
              "3 374       51     229           1                 2376        2         \n",
              "4 249       49     143           0                 1920        3         \n",
              "5  54       33      84           0                  287        0         \n",
              "6  13       10      50           0                  180        1         \n",
              "7  16        8      39           0                  117        0         \n",
              "8   5        1      17           0                   29        0         \n",
              "  Ejections FlagrantFouls GamesStarted\n",
              "1 0         0             15          \n",
              "2 0         0              5          \n",
              "3 0         0             82          \n",
              "4 0         0             76          \n",
              "5 0         0             32          \n",
              "6 0         0              0          \n",
              "7 0         0              1          \n",
              "8 0         0              0          "
            ],
            "text/latex": "A data.table: 8 × 25\n\\begin{tabular}{lllllllllllllllllllll}\n League & Name & Team & Position & GamesPlayed & TotalMinutesPlayed & FieldGoalsMade & FieldGoalsAttempted & ThreesMade & ThreesAttempted & ⋯ & Steals & Turnovers & Blocks & PersonalFouls & Disqualifications & TotalPoints & Technicals & Ejections & FlagrantFouls & GamesStarted\\\\\n <fct> & <chr> & <fct> & <fct> & <int> & <int> & <int> & <int> & <int> & <int> & ⋯ & <int> & <int> & <int> & <int> & <int> & <int> & <int> & <int> & <int> & <int>\\\\\n\\hline\n\t NBA & James Anderson & SAC & SG & 51 &  721 &  67 &  178 &  23 &  86 & ⋯ &  21 &  42 & 14 &  54 & 0 &  179 & 0 & 0 & 0 & 15\\\\\n\t NBA & James Ennis    & NOR & SF & 22 &  329 &  54 &  113 &  26 &  58 & ⋯ &  16 &  19 &  5 &  28 & 1 &  159 & 0 & 0 & 0 &  5\\\\\n\t NBA & James Harden   & HOU & SG & 82 & 3121 & 710 & 1617 & 236 & 656 & ⋯ & 138 & 374 & 51 & 229 & 1 & 2376 & 2 & 0 & 0 & 82\\\\\n\t NBA & Lebron James   & CLE & SF & 76 & 2710 & 737 & 1416 &  87 & 282 & ⋯ & 104 & 249 & 49 & 143 & 0 & 1920 & 3 & 0 & 0 & 76\\\\\n\t NBA & James Johnson  & TOR & PF & 57 &  924 & 114 &  240 &  20 &  66 & ⋯ &  29 &  54 & 33 &  84 & 0 &  287 & 0 & 0 & 0 & 32\\\\\n\t NBA & James Jones    & CLE & SG & 48 &  466 &  59 &  143 &  41 & 104 & ⋯ &  11 &  13 & 10 &  50 & 0 &  180 & 1 & 0 & 0 &  0\\\\\n\t NBA & James Mcadoo   & GSW & SG & 41 &  265 &  45 &   84 &   1 &   2 & ⋯ &  10 &  16 &  8 &  39 & 0 &  117 & 0 & 0 & 0 &  1\\\\\n\t NBA & James Young    & BOS & SG & 29 &  200 &  11 &   36 &   6 &  26 & ⋯ &   6 &   5 &  1 &  17 & 0 &   29 & 0 & 0 & 0 &  0\\\\\n\\end{tabular}\n",
            "text/markdown": "\nA data.table: 8 × 25\n\n| League &lt;fct&gt; | Name &lt;chr&gt; | Team &lt;fct&gt; | Position &lt;fct&gt; | GamesPlayed &lt;int&gt; | TotalMinutesPlayed &lt;int&gt; | FieldGoalsMade &lt;int&gt; | FieldGoalsAttempted &lt;int&gt; | ThreesMade &lt;int&gt; | ThreesAttempted &lt;int&gt; | ⋯ ⋯ | Steals &lt;int&gt; | Turnovers &lt;int&gt; | Blocks &lt;int&gt; | PersonalFouls &lt;int&gt; | Disqualifications &lt;int&gt; | TotalPoints &lt;int&gt; | Technicals &lt;int&gt; | Ejections &lt;int&gt; | FlagrantFouls &lt;int&gt; | GamesStarted &lt;int&gt; |\n|---|---|---|---|---|---|---|---|---|---|---|---|---|---|---|---|---|---|---|---|---|\n| NBA | James Anderson | SAC | SG | 51 |  721 |  67 |  178 |  23 |  86 | ⋯ |  21 |  42 | 14 |  54 | 0 |  179 | 0 | 0 | 0 | 15 |\n| NBA | James Ennis    | NOR | SF | 22 |  329 |  54 |  113 |  26 |  58 | ⋯ |  16 |  19 |  5 |  28 | 1 |  159 | 0 | 0 | 0 |  5 |\n| NBA | James Harden   | HOU | SG | 82 | 3121 | 710 | 1617 | 236 | 656 | ⋯ | 138 | 374 | 51 | 229 | 1 | 2376 | 2 | 0 | 0 | 82 |\n| NBA | Lebron James   | CLE | SF | 76 | 2710 | 737 | 1416 |  87 | 282 | ⋯ | 104 | 249 | 49 | 143 | 0 | 1920 | 3 | 0 | 0 | 76 |\n| NBA | James Johnson  | TOR | PF | 57 |  924 | 114 |  240 |  20 |  66 | ⋯ |  29 |  54 | 33 |  84 | 0 |  287 | 0 | 0 | 0 | 32 |\n| NBA | James Jones    | CLE | SG | 48 |  466 |  59 |  143 |  41 | 104 | ⋯ |  11 |  13 | 10 |  50 | 0 |  180 | 1 | 0 | 0 |  0 |\n| NBA | James Mcadoo   | GSW | SG | 41 |  265 |  45 |   84 |   1 |   2 | ⋯ |  10 |  16 |  8 |  39 | 0 |  117 | 0 | 0 | 0 |  1 |\n| NBA | James Young    | BOS | SG | 29 |  200 |  11 |   36 |   6 |  26 | ⋯ |   6 |   5 |  1 |  17 | 0 |   29 | 0 | 0 | 0 |  0 |\n\n",
            "text/html": [
              "<table>\n",
              "<caption>A data.table: 8 × 25</caption>\n",
              "<thead>\n",
              "\t<tr><th scope=col>League</th><th scope=col>Name</th><th scope=col>Team</th><th scope=col>Position</th><th scope=col>GamesPlayed</th><th scope=col>TotalMinutesPlayed</th><th scope=col>FieldGoalsMade</th><th scope=col>FieldGoalsAttempted</th><th scope=col>ThreesMade</th><th scope=col>ThreesAttempted</th><th scope=col>⋯</th><th scope=col>Steals</th><th scope=col>Turnovers</th><th scope=col>Blocks</th><th scope=col>PersonalFouls</th><th scope=col>Disqualifications</th><th scope=col>TotalPoints</th><th scope=col>Technicals</th><th scope=col>Ejections</th><th scope=col>FlagrantFouls</th><th scope=col>GamesStarted</th></tr>\n",
              "\t<tr><th scope=col>&lt;fct&gt;</th><th scope=col>&lt;chr&gt;</th><th scope=col>&lt;fct&gt;</th><th scope=col>&lt;fct&gt;</th><th scope=col>&lt;int&gt;</th><th scope=col>&lt;int&gt;</th><th scope=col>&lt;int&gt;</th><th scope=col>&lt;int&gt;</th><th scope=col>&lt;int&gt;</th><th scope=col>&lt;int&gt;</th><th scope=col>⋯</th><th scope=col>&lt;int&gt;</th><th scope=col>&lt;int&gt;</th><th scope=col>&lt;int&gt;</th><th scope=col>&lt;int&gt;</th><th scope=col>&lt;int&gt;</th><th scope=col>&lt;int&gt;</th><th scope=col>&lt;int&gt;</th><th scope=col>&lt;int&gt;</th><th scope=col>&lt;int&gt;</th><th scope=col>&lt;int&gt;</th></tr>\n",
              "</thead>\n",
              "<tbody>\n",
              "\t<tr><td>NBA</td><td>James Anderson</td><td>SAC</td><td>SG</td><td>51</td><td> 721</td><td> 67</td><td> 178</td><td> 23</td><td> 86</td><td>⋯</td><td> 21</td><td> 42</td><td>14</td><td> 54</td><td>0</td><td> 179</td><td>0</td><td>0</td><td>0</td><td>15</td></tr>\n",
              "\t<tr><td>NBA</td><td>James Ennis   </td><td>NOR</td><td>SF</td><td>22</td><td> 329</td><td> 54</td><td> 113</td><td> 26</td><td> 58</td><td>⋯</td><td> 16</td><td> 19</td><td> 5</td><td> 28</td><td>1</td><td> 159</td><td>0</td><td>0</td><td>0</td><td> 5</td></tr>\n",
              "\t<tr><td>NBA</td><td>James Harden  </td><td>HOU</td><td>SG</td><td>82</td><td>3121</td><td>710</td><td>1617</td><td>236</td><td>656</td><td>⋯</td><td>138</td><td>374</td><td>51</td><td>229</td><td>1</td><td>2376</td><td>2</td><td>0</td><td>0</td><td>82</td></tr>\n",
              "\t<tr><td>NBA</td><td>Lebron James  </td><td>CLE</td><td>SF</td><td>76</td><td>2710</td><td>737</td><td>1416</td><td> 87</td><td>282</td><td>⋯</td><td>104</td><td>249</td><td>49</td><td>143</td><td>0</td><td>1920</td><td>3</td><td>0</td><td>0</td><td>76</td></tr>\n",
              "\t<tr><td>NBA</td><td>James Johnson </td><td>TOR</td><td>PF</td><td>57</td><td> 924</td><td>114</td><td> 240</td><td> 20</td><td> 66</td><td>⋯</td><td> 29</td><td> 54</td><td>33</td><td> 84</td><td>0</td><td> 287</td><td>0</td><td>0</td><td>0</td><td>32</td></tr>\n",
              "\t<tr><td>NBA</td><td>James Jones   </td><td>CLE</td><td>SG</td><td>48</td><td> 466</td><td> 59</td><td> 143</td><td> 41</td><td>104</td><td>⋯</td><td> 11</td><td> 13</td><td>10</td><td> 50</td><td>0</td><td> 180</td><td>1</td><td>0</td><td>0</td><td> 0</td></tr>\n",
              "\t<tr><td>NBA</td><td>James Mcadoo  </td><td>GSW</td><td>SG</td><td>41</td><td> 265</td><td> 45</td><td>  84</td><td>  1</td><td>  2</td><td>⋯</td><td> 10</td><td> 16</td><td> 8</td><td> 39</td><td>0</td><td> 117</td><td>0</td><td>0</td><td>0</td><td> 1</td></tr>\n",
              "\t<tr><td>NBA</td><td>James Young   </td><td>BOS</td><td>SG</td><td>29</td><td> 200</td><td> 11</td><td>  36</td><td>  6</td><td> 26</td><td>⋯</td><td>  6</td><td>  5</td><td> 1</td><td> 17</td><td>0</td><td>  29</td><td>0</td><td>0</td><td>0</td><td> 0</td></tr>\n",
              "</tbody>\n",
              "</table>\n"
            ]
          },
          "metadata": {
            "tags": []
          }
        },
        {
          "output_type": "error",
          "ename": "ERROR",
          "evalue": "ignored",
          "traceback": [
            "Error in .checkTypos(e, names_x): Object 'gameplayed' not found. Perhaps you intended GamesPlayed\nTraceback:\n",
            "1. NBA1516DT[gameplayed > 80]",
            "2. `[.data.table`(NBA1516DT, gameplayed > 80)",
            "3. tryCatch(eval(.massagei(isub), x, ienv), error = function(e) {\n .     if (grepl(\":=.*defined for use in j.*only\", e$message)) \n .         stop(\"Operator := detected in i, the first argument inside DT[...], but is only valid in the second argument, j. Most often, this happens when forgetting the first comma (e.g. DT[newvar := 5] instead of DT[ , new_var := 5]). Please double-check the syntax. Run traceback(), and debugger() to get a line number.\")\n .     else .checkTypos(e, names_x)\n . })",
            "4. tryCatchList(expr, classes, parentenv, handlers)",
            "5. tryCatchOne(expr, names, parentenv, handlers[[1L]])",
            "6. value[[3L]](cond)",
            "7. .checkTypos(e, names_x)",
            "8. stop(\"Object '\", used, \"' not found. Perhaps you intended \", \n .     paste(head(found, 5L), collapse = \", \"), if (length(found) <= \n .         5L) \"\" else paste(\" or\", length(found) - 5L, \"more\"))"
          ]
        }
      ]
    }
  ]
}