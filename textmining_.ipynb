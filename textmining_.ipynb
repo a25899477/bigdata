{
  "nbformat": 4,
  "nbformat_minor": 0,
  "metadata": {
    "colab": {
      "name": " textmining .ipynb",
      "provenance": [],
      "collapsed_sections": [],
      "include_colab_link": true
    },
    "kernelspec": {
      "name": "ir",
      "display_name": "R"
    }
  },
  "cells": [
    {
      "cell_type": "markdown",
      "metadata": {
        "id": "view-in-github",
        "colab_type": "text"
      },
      "source": [
        "<a href=\"https://colab.research.google.com/github/a25899477/bigdata/blob/master/textmining_.ipynb\" target=\"_parent\"><img src=\"https://colab.research.google.com/assets/colab-badge.svg\" alt=\"Open In Colab\"/></a>"
      ]
    },
    {
      "cell_type": "code",
      "metadata": {
        "id": "QeKYyGopddkZ",
        "outputId": "782c4574-4546-46ca-8371-ce1609a6d6cb",
        "colab": {
          "base_uri": "https://localhost:8080/"
        }
      },
      "source": [
        "install.packages(\"rJava\")\n",
        "install.packages(\"jiebaR\")\n",
        "install.packages(\"tmcn\")\n",
        "install.packages(\"dplyr\")\n",
        "install.packages(\"lubridate\")\n",
        "install.packages(\"stringr\")\n",
        "install.packages(\"wordcloud\")\n",
        "install.packages(\"Rwordseg\" , repos = \"http://R-Forge.R-project.org\" )\n"
      ],
      "execution_count": 28,
      "outputs": [
        {
          "output_type": "stream",
          "text": [
            "Installing package into ‘/usr/local/lib/R/site-library’\n",
            "(as ‘lib’ is unspecified)\n",
            "\n",
            "Installing package into ‘/usr/local/lib/R/site-library’\n",
            "(as ‘lib’ is unspecified)\n",
            "\n",
            "Installing package into ‘/usr/local/lib/R/site-library’\n",
            "(as ‘lib’ is unspecified)\n",
            "\n",
            "Installing package into ‘/usr/local/lib/R/site-library’\n",
            "(as ‘lib’ is unspecified)\n",
            "\n",
            "Installing package into ‘/usr/local/lib/R/site-library’\n",
            "(as ‘lib’ is unspecified)\n",
            "\n",
            "Installing package into ‘/usr/local/lib/R/site-library’\n",
            "(as ‘lib’ is unspecified)\n",
            "\n",
            "Installing package into ‘/usr/local/lib/R/site-library’\n",
            "(as ‘lib’ is unspecified)\n",
            "\n",
            "Installing package into ‘/usr/local/lib/R/site-library’\n",
            "(as ‘lib’ is unspecified)\n",
            "\n",
            "Warning message:\n",
            "“dependency ‘HMM’ is not available”\n",
            "Warning message in install.packages(\"Rwordseg\", repos = \"http://R-Forge.R-project.org\"):\n",
            "“installation of package ‘Rwordseg’ had non-zero exit status”\n"
          ],
          "name": "stderr"
        }
      ]
    },
    {
      "cell_type": "code",
      "metadata": {
        "id": "O5-wM6kdeyt1"
      },
      "source": [
        "library(dplyr)\n",
        "library(lubridate)\n",
        "library(stringr)\n",
        "library(jiebaR)\n",
        "library(wordcloud)"
      ],
      "execution_count": 29,
      "outputs": []
    },
    {
      "cell_type": "code",
      "metadata": {
        "id": "GRqd5anHfKfw"
      },
      "source": [
        "content <- \"嚴重特殊傳染性肺炎疫情持續在全球蔓延,已造成三千多萬人感染,死亡人數破百萬人,歐美醫療體系幾近崩潰,各種行動限制對於各國之經濟更有莫大之衝擊。\n",
        "然而台灣未實行大規模封鎖行動,維持正常上班上課與各種經濟活動,至今無大規模疫情爆發,醫療體系也仍能正常提供民眾服務,顯示台灣的防疫政策正確而有效,\n",
        "獲得世界各國高度肯定。國家衛生研究院群體健康科學研究所與感染症與疫苗研究所合作,利用真實數據與數學模型證實,良好的邊境管控,詳盡的疫情調查,\n",
        "確實的隔離與檢疫,以及民眾遵行防疫措施,為台灣抗疫四大支柱。台灣也對世界各國提供各項協助與經驗分享,期望幫助各國盡快從疫情的陰霾中走出。\"\n"
      ],
      "execution_count": 30,
      "outputs": []
    },
    {
      "cell_type": "code",
      "metadata": {
        "id": "wInXz1MOfxiz"
      },
      "source": [
        "#定義斷詞器\n",
        "cutter <- worker(bylines = F) "
      ],
      "execution_count": 31,
      "outputs": []
    },
    {
      "cell_type": "code",
      "metadata": {
        "id": "f4x6dvEKf91L",
        "outputId": "ba75adf5-fce0-42f8-a219-b1882f678f81",
        "colab": {
          "base_uri": "https://localhost:8080/",
          "height": 85
        }
      },
      "source": [
        "cutter[content]"
      ],
      "execution_count": 32,
      "outputs": [
        {
          "output_type": "display_data",
          "data": {
            "text/plain": [
              "  [1] \"嚴重\"           \"特殊\"           \"傳染性\"         \"肺炎\"          \n",
              "  [5] \"疫情\"           \"持續\"           \"在\"             \"全球\"          \n",
              "  [9] \"蔓延\"           \"已\"             \"造成\"           \"三千多萬\"      \n",
              " [13] \"人\"             \"感染\"           \"死亡\"           \"人數\"          \n",
              " [17] \"破\"             \"百萬\"           \"人\"             \"歐美\"          \n",
              " [21] \"醫療\"           \"體系\"           \"幾近\"           \"崩潰\"          \n",
              " [25] \"各種\"           \"行動\"           \"限制\"           \"對於\"          \n",
              " [29] \"各國\"           \"之\"             \"經濟\"           \"更\"            \n",
              " [33] \"有\"             \"莫大\"           \"之\"             \"衝擊\"          \n",
              " [37] \"然而\"           \"台灣\"           \"未\"             \"實行\"          \n",
              " [41] \"大規模\"         \"封鎖\"           \"行動\"           \"維持\"          \n",
              " [45] \"正常\"           \"上班\"           \"上課\"           \"與\"            \n",
              " [49] \"各種\"           \"經濟\"           \"活動\"           \"至今\"          \n",
              " [53] \"無\"             \"大規模\"         \"疫情\"           \"爆發\"          \n",
              " [57] \"醫療\"           \"體系\"           \"也\"             \"仍\"            \n",
              " [61] \"能\"             \"正常\"           \"提供\"           \"民眾\"          \n",
              " [65] \"服務\"           \"顯示\"           \"台灣\"           \"的\"            \n",
              " [69] \"防疫\"           \"政策\"           \"正確\"           \"而\"            \n",
              " [73] \"有效\"           \"獲得\"           \"世界\"           \"各國\"          \n",
              " [77] \"高度肯定\"       \"國家衛生研究院\" \"群體\"           \"健康\"          \n",
              " [81] \"科學\"           \"研究所\"         \"與\"             \"感染\"          \n",
              " [85] \"症\"             \"與\"             \"疫苗\"           \"研究所\"        \n",
              " [89] \"合作\"           \"利用\"           \"真實\"           \"數據\"          \n",
              " [93] \"與\"             \"數學模型\"       \"證實\"           \"良好\"          \n",
              " [97] \"的\"             \"邊境\"           \"管控\"           \"詳盡\"          \n",
              "[101] \"的\"             \"疫情\"           \"調查\"           \"確實\"          \n",
              "[105] \"的\"             \"隔離\"           \"與\"             \"檢疫\"          \n",
              "[109] \"以及\"           \"民眾\"           \"遵行\"           \"防疫\"          \n",
              "[113] \"措施\"           \"為\"             \"台灣\"           \"抗疫\"          \n",
              "[117] \"四大\"           \"支柱\"           \"台灣\"           \"也\"            \n",
              "[121] \"對\"             \"世界\"           \"各國\"           \"提供\"          \n",
              "[125] \"各項\"           \"協助\"           \"與\"             \"經驗\"          \n",
              "[129] \"分享\"           \"期望\"           \"幫助\"           \"各國\"          \n",
              "[133] \"盡快\"           \"從\"             \"疫情\"           \"的\"            \n",
              "[137] \"陰霾\"           \"中\"             \"走出\"          "
            ],
            "text/latex": "\\begin{enumerate*}\n\\item '嚴重'\n\\item '特殊'\n\\item '傳染性'\n\\item '肺炎'\n\\item '疫情'\n\\item '持續'\n\\item '在'\n\\item '全球'\n\\item '蔓延'\n\\item '已'\n\\item '造成'\n\\item '三千多萬'\n\\item '人'\n\\item '感染'\n\\item '死亡'\n\\item '人數'\n\\item '破'\n\\item '百萬'\n\\item '人'\n\\item '歐美'\n\\item '醫療'\n\\item '體系'\n\\item '幾近'\n\\item '崩潰'\n\\item '各種'\n\\item '行動'\n\\item '限制'\n\\item '對於'\n\\item '各國'\n\\item '之'\n\\item '經濟'\n\\item '更'\n\\item '有'\n\\item '莫大'\n\\item '之'\n\\item '衝擊'\n\\item '然而'\n\\item '台灣'\n\\item '未'\n\\item '實行'\n\\item '大規模'\n\\item '封鎖'\n\\item '行動'\n\\item '維持'\n\\item '正常'\n\\item '上班'\n\\item '上課'\n\\item '與'\n\\item '各種'\n\\item '經濟'\n\\item '活動'\n\\item '至今'\n\\item '無'\n\\item '大規模'\n\\item '疫情'\n\\item '爆發'\n\\item '醫療'\n\\item '體系'\n\\item '也'\n\\item '仍'\n\\item '能'\n\\item '正常'\n\\item '提供'\n\\item '民眾'\n\\item '服務'\n\\item '顯示'\n\\item '台灣'\n\\item '的'\n\\item '防疫'\n\\item '政策'\n\\item '正確'\n\\item '而'\n\\item '有效'\n\\item '獲得'\n\\item '世界'\n\\item '各國'\n\\item '高度肯定'\n\\item '國家衛生研究院'\n\\item '群體'\n\\item '健康'\n\\item '科學'\n\\item '研究所'\n\\item '與'\n\\item '感染'\n\\item '症'\n\\item '與'\n\\item '疫苗'\n\\item '研究所'\n\\item '合作'\n\\item '利用'\n\\item '真實'\n\\item '數據'\n\\item '與'\n\\item '數學模型'\n\\item '證實'\n\\item '良好'\n\\item '的'\n\\item '邊境'\n\\item '管控'\n\\item '詳盡'\n\\item '的'\n\\item '疫情'\n\\item '調查'\n\\item '確實'\n\\item '的'\n\\item '隔離'\n\\item '與'\n\\item '檢疫'\n\\item '以及'\n\\item '民眾'\n\\item '遵行'\n\\item '防疫'\n\\item '措施'\n\\item '為'\n\\item '台灣'\n\\item '抗疫'\n\\item '四大'\n\\item '支柱'\n\\item '台灣'\n\\item '也'\n\\item '對'\n\\item '世界'\n\\item '各國'\n\\item '提供'\n\\item '各項'\n\\item '協助'\n\\item '與'\n\\item '經驗'\n\\item '分享'\n\\item '期望'\n\\item '幫助'\n\\item '各國'\n\\item '盡快'\n\\item '從'\n\\item '疫情'\n\\item '的'\n\\item '陰霾'\n\\item '中'\n\\item '走出'\n\\end{enumerate*}\n",
            "text/markdown": "1. '嚴重'\n2. '特殊'\n3. '傳染性'\n4. '肺炎'\n5. '疫情'\n6. '持續'\n7. '在'\n8. '全球'\n9. '蔓延'\n10. '已'\n11. '造成'\n12. '三千多萬'\n13. '人'\n14. '感染'\n15. '死亡'\n16. '人數'\n17. '破'\n18. '百萬'\n19. '人'\n20. '歐美'\n21. '醫療'\n22. '體系'\n23. '幾近'\n24. '崩潰'\n25. '各種'\n26. '行動'\n27. '限制'\n28. '對於'\n29. '各國'\n30. '之'\n31. '經濟'\n32. '更'\n33. '有'\n34. '莫大'\n35. '之'\n36. '衝擊'\n37. '然而'\n38. '台灣'\n39. '未'\n40. '實行'\n41. '大規模'\n42. '封鎖'\n43. '行動'\n44. '維持'\n45. '正常'\n46. '上班'\n47. '上課'\n48. '與'\n49. '各種'\n50. '經濟'\n51. '活動'\n52. '至今'\n53. '無'\n54. '大規模'\n55. '疫情'\n56. '爆發'\n57. '醫療'\n58. '體系'\n59. '也'\n60. '仍'\n61. '能'\n62. '正常'\n63. '提供'\n64. '民眾'\n65. '服務'\n66. '顯示'\n67. '台灣'\n68. '的'\n69. '防疫'\n70. '政策'\n71. '正確'\n72. '而'\n73. '有效'\n74. '獲得'\n75. '世界'\n76. '各國'\n77. '高度肯定'\n78. '國家衛生研究院'\n79. '群體'\n80. '健康'\n81. '科學'\n82. '研究所'\n83. '與'\n84. '感染'\n85. '症'\n86. '與'\n87. '疫苗'\n88. '研究所'\n89. '合作'\n90. '利用'\n91. '真實'\n92. '數據'\n93. '與'\n94. '數學模型'\n95. '證實'\n96. '良好'\n97. '的'\n98. '邊境'\n99. '管控'\n100. '詳盡'\n101. '的'\n102. '疫情'\n103. '調查'\n104. '確實'\n105. '的'\n106. '隔離'\n107. '與'\n108. '檢疫'\n109. '以及'\n110. '民眾'\n111. '遵行'\n112. '防疫'\n113. '措施'\n114. '為'\n115. '台灣'\n116. '抗疫'\n117. '四大'\n118. '支柱'\n119. '台灣'\n120. '也'\n121. '對'\n122. '世界'\n123. '各國'\n124. '提供'\n125. '各項'\n126. '協助'\n127. '與'\n128. '經驗'\n129. '分享'\n130. '期望'\n131. '幫助'\n132. '各國'\n133. '盡快'\n134. '從'\n135. '疫情'\n136. '的'\n137. '陰霾'\n138. '中'\n139. '走出'\n\n\n",
            "text/html": [
              "<style>\n",
              ".list-inline {list-style: none; margin:0; padding: 0}\n",
              ".list-inline>li {display: inline-block}\n",
              ".list-inline>li:not(:last-child)::after {content: \"\\00b7\"; padding: 0 .5ex}\n",
              "</style>\n",
              "<ol class=list-inline><li>'嚴重'</li><li>'特殊'</li><li>'傳染性'</li><li>'肺炎'</li><li>'疫情'</li><li>'持續'</li><li>'在'</li><li>'全球'</li><li>'蔓延'</li><li>'已'</li><li>'造成'</li><li>'三千多萬'</li><li>'人'</li><li>'感染'</li><li>'死亡'</li><li>'人數'</li><li>'破'</li><li>'百萬'</li><li>'人'</li><li>'歐美'</li><li>'醫療'</li><li>'體系'</li><li>'幾近'</li><li>'崩潰'</li><li>'各種'</li><li>'行動'</li><li>'限制'</li><li>'對於'</li><li>'各國'</li><li>'之'</li><li>'經濟'</li><li>'更'</li><li>'有'</li><li>'莫大'</li><li>'之'</li><li>'衝擊'</li><li>'然而'</li><li>'台灣'</li><li>'未'</li><li>'實行'</li><li>'大規模'</li><li>'封鎖'</li><li>'行動'</li><li>'維持'</li><li>'正常'</li><li>'上班'</li><li>'上課'</li><li>'與'</li><li>'各種'</li><li>'經濟'</li><li>'活動'</li><li>'至今'</li><li>'無'</li><li>'大規模'</li><li>'疫情'</li><li>'爆發'</li><li>'醫療'</li><li>'體系'</li><li>'也'</li><li>'仍'</li><li>'能'</li><li>'正常'</li><li>'提供'</li><li>'民眾'</li><li>'服務'</li><li>'顯示'</li><li>'台灣'</li><li>'的'</li><li>'防疫'</li><li>'政策'</li><li>'正確'</li><li>'而'</li><li>'有效'</li><li>'獲得'</li><li>'世界'</li><li>'各國'</li><li>'高度肯定'</li><li>'國家衛生研究院'</li><li>'群體'</li><li>'健康'</li><li>'科學'</li><li>'研究所'</li><li>'與'</li><li>'感染'</li><li>'症'</li><li>'與'</li><li>'疫苗'</li><li>'研究所'</li><li>'合作'</li><li>'利用'</li><li>'真實'</li><li>'數據'</li><li>'與'</li><li>'數學模型'</li><li>'證實'</li><li>'良好'</li><li>'的'</li><li>'邊境'</li><li>'管控'</li><li>'詳盡'</li><li>'的'</li><li>'疫情'</li><li>'調查'</li><li>'確實'</li><li>'的'</li><li>'隔離'</li><li>'與'</li><li>'檢疫'</li><li>'以及'</li><li>'民眾'</li><li>'遵行'</li><li>'防疫'</li><li>'措施'</li><li>'為'</li><li>'台灣'</li><li>'抗疫'</li><li>'四大'</li><li>'支柱'</li><li>'台灣'</li><li>'也'</li><li>'對'</li><li>'世界'</li><li>'各國'</li><li>'提供'</li><li>'各項'</li><li>'協助'</li><li>'與'</li><li>'經驗'</li><li>'分享'</li><li>'期望'</li><li>'幫助'</li><li>'各國'</li><li>'盡快'</li><li>'從'</li><li>'疫情'</li><li>'的'</li><li>'陰霾'</li><li>'中'</li><li>'走出'</li></ol>\n"
            ]
          },
          "metadata": {
            "tags": []
          }
        }
      ]
    },
    {
      "cell_type": "code",
      "metadata": {
        "id": "FhgxRemIgPaT",
        "outputId": "ef93849f-ce2b-4a95-f94c-81e2eb2dd935",
        "colab": {
          "base_uri": "https://localhost:8080/",
          "height": 85
        }
      },
      "source": [
        "new_words <- c(\"傳染性肺炎\",\"醫療體系\",\"防疫措施\",\"世界各國\",\"防疫政策\",\"全球蔓延\",\"死亡人數\",\"科學研究所\",\"感染症與疫苗研究所\")\n",
        "for(i in 1:length(new_words)){\n",
        "  new_user_word(cutter,new_words[i])\n",
        "}\n",
        "\n",
        "content <- str_remove_all(content,\"[0-9a-zA-Z]+?\")\n",
        "cutter[content]"
      ],
      "execution_count": 38,
      "outputs": [
        {
          "output_type": "display_data",
          "data": {
            "text/plain": [
              "  [1] \"嚴重\"               \"特殊\"               \"傳染性肺炎\"        \n",
              "  [4] \"疫情\"               \"持續\"               \"全球蔓延\"          \n",
              "  [7] \"已\"                 \"造成\"               \"三千多萬\"          \n",
              " [10] \"人\"                 \"感染\"               \"死亡人數\"          \n",
              " [13] \"破\"                 \"百萬\"               \"人\"                \n",
              " [16] \"歐美\"               \"醫療體系\"           \"幾近\"              \n",
              " [19] \"崩潰\"               \"各種\"               \"行動\"              \n",
              " [22] \"限制\"               \"對於\"               \"各國\"              \n",
              " [25] \"經濟\"               \"有\"                 \"莫大\"              \n",
              " [28] \"衝擊\"               \"然而\"               \"台灣\"              \n",
              " [31] \"實行\"               \"大規模\"             \"封鎖\"              \n",
              " [34] \"行動\"               \"維持\"               \"正常\"              \n",
              " [37] \"上班\"               \"上課\"               \"與\"                \n",
              " [40] \"各種\"               \"經濟\"               \"活動\"              \n",
              " [43] \"至今\"               \"無\"                 \"大規模\"            \n",
              " [46] \"疫情\"               \"爆發\"               \"醫療體系\"          \n",
              " [49] \"仍\"                 \"能\"                 \"正常\"              \n",
              " [52] \"提供\"               \"民眾\"               \"服務\"              \n",
              " [55] \"顯示\"               \"台灣\"               \"的\"                \n",
              " [58] \"防疫政策\"           \"正確\"               \"有效\"              \n",
              " [61] \"獲得\"               \"世界各國\"           \"高度肯定\"          \n",
              " [64] \"國家衛生研究院\"     \"群體\"               \"健康\"              \n",
              " [67] \"科學研究所\"         \"與\"                 \"感染症與疫苗研究所\"\n",
              " [70] \"合作\"               \"利用\"               \"真實\"              \n",
              " [73] \"數據\"               \"與\"                 \"數學模型\"          \n",
              " [76] \"證實\"               \"良好\"               \"的\"                \n",
              " [79] \"邊境\"               \"管控\"               \"詳盡\"              \n",
              " [82] \"的\"                 \"疫情\"               \"調查\"              \n",
              " [85] \"確實\"               \"的\"                 \"隔離\"              \n",
              " [88] \"與\"                 \"檢疫\"               \"以及\"              \n",
              " [91] \"民眾\"               \"遵行\"               \"防疫措施\"          \n",
              " [94] \"為\"                 \"台灣\"               \"抗疫\"              \n",
              " [97] \"四大\"               \"支柱\"               \"台灣\"              \n",
              "[100] \"對\"                 \"世界各國\"           \"提供\"              \n",
              "[103] \"各項\"               \"協助\"               \"與\"                \n",
              "[106] \"經驗\"               \"分享\"               \"期望\"              \n",
              "[109] \"幫助\"               \"各國\"               \"盡快\"              \n",
              "[112] \"從\"                 \"疫情\"               \"的\"                \n",
              "[115] \"陰霾\"               \"中\"                 \"走出\"              "
            ],
            "text/latex": "\\begin{enumerate*}\n\\item '嚴重'\n\\item '特殊'\n\\item '傳染性肺炎'\n\\item '疫情'\n\\item '持續'\n\\item '全球蔓延'\n\\item '已'\n\\item '造成'\n\\item '三千多萬'\n\\item '人'\n\\item '感染'\n\\item '死亡人數'\n\\item '破'\n\\item '百萬'\n\\item '人'\n\\item '歐美'\n\\item '醫療體系'\n\\item '幾近'\n\\item '崩潰'\n\\item '各種'\n\\item '行動'\n\\item '限制'\n\\item '對於'\n\\item '各國'\n\\item '經濟'\n\\item '有'\n\\item '莫大'\n\\item '衝擊'\n\\item '然而'\n\\item '台灣'\n\\item '實行'\n\\item '大規模'\n\\item '封鎖'\n\\item '行動'\n\\item '維持'\n\\item '正常'\n\\item '上班'\n\\item '上課'\n\\item '與'\n\\item '各種'\n\\item '經濟'\n\\item '活動'\n\\item '至今'\n\\item '無'\n\\item '大規模'\n\\item '疫情'\n\\item '爆發'\n\\item '醫療體系'\n\\item '仍'\n\\item '能'\n\\item '正常'\n\\item '提供'\n\\item '民眾'\n\\item '服務'\n\\item '顯示'\n\\item '台灣'\n\\item '的'\n\\item '防疫政策'\n\\item '正確'\n\\item '有效'\n\\item '獲得'\n\\item '世界各國'\n\\item '高度肯定'\n\\item '國家衛生研究院'\n\\item '群體'\n\\item '健康'\n\\item '科學研究所'\n\\item '與'\n\\item '感染症與疫苗研究所'\n\\item '合作'\n\\item '利用'\n\\item '真實'\n\\item '數據'\n\\item '與'\n\\item '數學模型'\n\\item '證實'\n\\item '良好'\n\\item '的'\n\\item '邊境'\n\\item '管控'\n\\item '詳盡'\n\\item '的'\n\\item '疫情'\n\\item '調查'\n\\item '確實'\n\\item '的'\n\\item '隔離'\n\\item '與'\n\\item '檢疫'\n\\item '以及'\n\\item '民眾'\n\\item '遵行'\n\\item '防疫措施'\n\\item '為'\n\\item '台灣'\n\\item '抗疫'\n\\item '四大'\n\\item '支柱'\n\\item '台灣'\n\\item '對'\n\\item '世界各國'\n\\item '提供'\n\\item '各項'\n\\item '協助'\n\\item '與'\n\\item '經驗'\n\\item '分享'\n\\item '期望'\n\\item '幫助'\n\\item '各國'\n\\item '盡快'\n\\item '從'\n\\item '疫情'\n\\item '的'\n\\item '陰霾'\n\\item '中'\n\\item '走出'\n\\end{enumerate*}\n",
            "text/markdown": "1. '嚴重'\n2. '特殊'\n3. '傳染性肺炎'\n4. '疫情'\n5. '持續'\n6. '全球蔓延'\n7. '已'\n8. '造成'\n9. '三千多萬'\n10. '人'\n11. '感染'\n12. '死亡人數'\n13. '破'\n14. '百萬'\n15. '人'\n16. '歐美'\n17. '醫療體系'\n18. '幾近'\n19. '崩潰'\n20. '各種'\n21. '行動'\n22. '限制'\n23. '對於'\n24. '各國'\n25. '經濟'\n26. '有'\n27. '莫大'\n28. '衝擊'\n29. '然而'\n30. '台灣'\n31. '實行'\n32. '大規模'\n33. '封鎖'\n34. '行動'\n35. '維持'\n36. '正常'\n37. '上班'\n38. '上課'\n39. '與'\n40. '各種'\n41. '經濟'\n42. '活動'\n43. '至今'\n44. '無'\n45. '大規模'\n46. '疫情'\n47. '爆發'\n48. '醫療體系'\n49. '仍'\n50. '能'\n51. '正常'\n52. '提供'\n53. '民眾'\n54. '服務'\n55. '顯示'\n56. '台灣'\n57. '的'\n58. '防疫政策'\n59. '正確'\n60. '有效'\n61. '獲得'\n62. '世界各國'\n63. '高度肯定'\n64. '國家衛生研究院'\n65. '群體'\n66. '健康'\n67. '科學研究所'\n68. '與'\n69. '感染症與疫苗研究所'\n70. '合作'\n71. '利用'\n72. '真實'\n73. '數據'\n74. '與'\n75. '數學模型'\n76. '證實'\n77. '良好'\n78. '的'\n79. '邊境'\n80. '管控'\n81. '詳盡'\n82. '的'\n83. '疫情'\n84. '調查'\n85. '確實'\n86. '的'\n87. '隔離'\n88. '與'\n89. '檢疫'\n90. '以及'\n91. '民眾'\n92. '遵行'\n93. '防疫措施'\n94. '為'\n95. '台灣'\n96. '抗疫'\n97. '四大'\n98. '支柱'\n99. '台灣'\n100. '對'\n101. '世界各國'\n102. '提供'\n103. '各項'\n104. '協助'\n105. '與'\n106. '經驗'\n107. '分享'\n108. '期望'\n109. '幫助'\n110. '各國'\n111. '盡快'\n112. '從'\n113. '疫情'\n114. '的'\n115. '陰霾'\n116. '中'\n117. '走出'\n\n\n",
            "text/html": [
              "<style>\n",
              ".list-inline {list-style: none; margin:0; padding: 0}\n",
              ".list-inline>li {display: inline-block}\n",
              ".list-inline>li:not(:last-child)::after {content: \"\\00b7\"; padding: 0 .5ex}\n",
              "</style>\n",
              "<ol class=list-inline><li>'嚴重'</li><li>'特殊'</li><li>'傳染性肺炎'</li><li>'疫情'</li><li>'持續'</li><li>'全球蔓延'</li><li>'已'</li><li>'造成'</li><li>'三千多萬'</li><li>'人'</li><li>'感染'</li><li>'死亡人數'</li><li>'破'</li><li>'百萬'</li><li>'人'</li><li>'歐美'</li><li>'醫療體系'</li><li>'幾近'</li><li>'崩潰'</li><li>'各種'</li><li>'行動'</li><li>'限制'</li><li>'對於'</li><li>'各國'</li><li>'經濟'</li><li>'有'</li><li>'莫大'</li><li>'衝擊'</li><li>'然而'</li><li>'台灣'</li><li>'實行'</li><li>'大規模'</li><li>'封鎖'</li><li>'行動'</li><li>'維持'</li><li>'正常'</li><li>'上班'</li><li>'上課'</li><li>'與'</li><li>'各種'</li><li>'經濟'</li><li>'活動'</li><li>'至今'</li><li>'無'</li><li>'大規模'</li><li>'疫情'</li><li>'爆發'</li><li>'醫療體系'</li><li>'仍'</li><li>'能'</li><li>'正常'</li><li>'提供'</li><li>'民眾'</li><li>'服務'</li><li>'顯示'</li><li>'台灣'</li><li>'的'</li><li>'防疫政策'</li><li>'正確'</li><li>'有效'</li><li>'獲得'</li><li>'世界各國'</li><li>'高度肯定'</li><li>'國家衛生研究院'</li><li>'群體'</li><li>'健康'</li><li>'科學研究所'</li><li>'與'</li><li>'感染症與疫苗研究所'</li><li>'合作'</li><li>'利用'</li><li>'真實'</li><li>'數據'</li><li>'與'</li><li>'數學模型'</li><li>'證實'</li><li>'良好'</li><li>'的'</li><li>'邊境'</li><li>'管控'</li><li>'詳盡'</li><li>'的'</li><li>'疫情'</li><li>'調查'</li><li>'確實'</li><li>'的'</li><li>'隔離'</li><li>'與'</li><li>'檢疫'</li><li>'以及'</li><li>'民眾'</li><li>'遵行'</li><li>'防疫措施'</li><li>'為'</li><li>'台灣'</li><li>'抗疫'</li><li>'四大'</li><li>'支柱'</li><li>'台灣'</li><li>'對'</li><li>'世界各國'</li><li>'提供'</li><li>'各項'</li><li>'協助'</li><li>'與'</li><li>'經驗'</li><li>'分享'</li><li>'期望'</li><li>'幫助'</li><li>'各國'</li><li>'盡快'</li><li>'從'</li><li>'疫情'</li><li>'的'</li><li>'陰霾'</li><li>'中'</li><li>'走出'</li></ol>\n"
            ]
          },
          "metadata": {
            "tags": []
          }
        }
      ]
    },
    {
      "cell_type": "code",
      "metadata": {
        "id": "5fT9embnjTv-"
      },
      "source": [
        "new_words <- c(\"傳染性肺炎\",\"醫療體系\",\"防疫措施\",\"世界各國\",\"防疫政策\",\"全球蔓延\",\"死亡人數\",\"科學研究所\",\"感染症與疫苗研究所\")\n",
        "writeLines(new_words,\"new_words.txt\")"
      ],
      "execution_count": 35,
      "outputs": []
    },
    {
      "cell_type": "code",
      "metadata": {
        "id": "Zp43FqfQjx-5"
      },
      "source": [
        "stop_words <- c(\"在\",\"之\",\"更\",\"個\",\"未\",\"而\",\"也\",\"與\",\"的\")\n",
        "writeLines(stop_words,\"stop_words.txt\")"
      ],
      "execution_count": 43,
      "outputs": []
    },
    {
      "cell_type": "code",
      "metadata": {
        "id": "4EI6jEKHkPu1",
        "outputId": "07363e4e-bf5c-4ec0-dc48-15e1ccb651cc",
        "colab": {
          "base_uri": "https://localhost:8080/",
          "height": 68
        }
      },
      "source": [
        "cutter <- worker(user = \"new_words.txt\",stop_word = \"stop_words.txt\",byline = FALSE)\n",
        "seg_words <- cutter[content]\n",
        "seg_words"
      ],
      "execution_count": 44,
      "outputs": [
        {
          "output_type": "display_data",
          "data": {
            "text/plain": [
              "  [1] \"嚴重\"               \"特殊\"               \"傳染性肺炎\"        \n",
              "  [4] \"疫情\"               \"持續\"               \"全球蔓延\"          \n",
              "  [7] \"已\"                 \"造成\"               \"三千多萬\"          \n",
              " [10] \"人\"                 \"感染\"               \"死亡人數\"          \n",
              " [13] \"破\"                 \"百萬\"               \"人\"                \n",
              " [16] \"歐美\"               \"醫療體系\"           \"幾近\"              \n",
              " [19] \"崩潰\"               \"各種\"               \"行動\"              \n",
              " [22] \"限制\"               \"對於\"               \"各國\"              \n",
              " [25] \"經濟\"               \"有\"                 \"莫大\"              \n",
              " [28] \"衝擊\"               \"然而\"               \"台灣\"              \n",
              " [31] \"實行\"               \"大規模\"             \"封鎖\"              \n",
              " [34] \"行動\"               \"維持\"               \"正常\"              \n",
              " [37] \"上班\"               \"上課\"               \"各種\"              \n",
              " [40] \"經濟\"               \"活動\"               \"至今\"              \n",
              " [43] \"無\"                 \"大規模\"             \"疫情\"              \n",
              " [46] \"爆發\"               \"醫療體系\"           \"仍\"                \n",
              " [49] \"能\"                 \"正常\"               \"提供\"              \n",
              " [52] \"民眾\"               \"服務\"               \"顯示\"              \n",
              " [55] \"台灣\"               \"防疫政策\"           \"正確\"              \n",
              " [58] \"有效\"               \"獲得\"               \"世界各國\"          \n",
              " [61] \"高度肯定\"           \"國家衛生研究院\"     \"群體\"              \n",
              " [64] \"健康\"               \"科學研究所\"         \"感染症與疫苗研究所\"\n",
              " [67] \"合作\"               \"利用\"               \"真實\"              \n",
              " [70] \"數據\"               \"數學模型\"           \"證實\"              \n",
              " [73] \"良好\"               \"邊境\"               \"管控\"              \n",
              " [76] \"詳盡\"               \"疫情\"               \"調查\"              \n",
              " [79] \"確實\"               \"隔離\"               \"檢疫\"              \n",
              " [82] \"以及\"               \"民眾\"               \"遵行\"              \n",
              " [85] \"防疫措施\"           \"為\"                 \"台灣\"              \n",
              " [88] \"抗疫\"               \"四大\"               \"支柱\"              \n",
              " [91] \"台灣\"               \"對\"                 \"世界各國\"          \n",
              " [94] \"提供\"               \"各項\"               \"協助\"              \n",
              " [97] \"經驗\"               \"分享\"               \"期望\"              \n",
              "[100] \"幫助\"               \"各國\"               \"盡快\"              \n",
              "[103] \"從\"                 \"疫情\"               \"陰霾\"              \n",
              "[106] \"中\"                 \"走出\"              "
            ],
            "text/latex": "\\begin{enumerate*}\n\\item '嚴重'\n\\item '特殊'\n\\item '傳染性肺炎'\n\\item '疫情'\n\\item '持續'\n\\item '全球蔓延'\n\\item '已'\n\\item '造成'\n\\item '三千多萬'\n\\item '人'\n\\item '感染'\n\\item '死亡人數'\n\\item '破'\n\\item '百萬'\n\\item '人'\n\\item '歐美'\n\\item '醫療體系'\n\\item '幾近'\n\\item '崩潰'\n\\item '各種'\n\\item '行動'\n\\item '限制'\n\\item '對於'\n\\item '各國'\n\\item '經濟'\n\\item '有'\n\\item '莫大'\n\\item '衝擊'\n\\item '然而'\n\\item '台灣'\n\\item '實行'\n\\item '大規模'\n\\item '封鎖'\n\\item '行動'\n\\item '維持'\n\\item '正常'\n\\item '上班'\n\\item '上課'\n\\item '各種'\n\\item '經濟'\n\\item '活動'\n\\item '至今'\n\\item '無'\n\\item '大規模'\n\\item '疫情'\n\\item '爆發'\n\\item '醫療體系'\n\\item '仍'\n\\item '能'\n\\item '正常'\n\\item '提供'\n\\item '民眾'\n\\item '服務'\n\\item '顯示'\n\\item '台灣'\n\\item '防疫政策'\n\\item '正確'\n\\item '有效'\n\\item '獲得'\n\\item '世界各國'\n\\item '高度肯定'\n\\item '國家衛生研究院'\n\\item '群體'\n\\item '健康'\n\\item '科學研究所'\n\\item '感染症與疫苗研究所'\n\\item '合作'\n\\item '利用'\n\\item '真實'\n\\item '數據'\n\\item '數學模型'\n\\item '證實'\n\\item '良好'\n\\item '邊境'\n\\item '管控'\n\\item '詳盡'\n\\item '疫情'\n\\item '調查'\n\\item '確實'\n\\item '隔離'\n\\item '檢疫'\n\\item '以及'\n\\item '民眾'\n\\item '遵行'\n\\item '防疫措施'\n\\item '為'\n\\item '台灣'\n\\item '抗疫'\n\\item '四大'\n\\item '支柱'\n\\item '台灣'\n\\item '對'\n\\item '世界各國'\n\\item '提供'\n\\item '各項'\n\\item '協助'\n\\item '經驗'\n\\item '分享'\n\\item '期望'\n\\item '幫助'\n\\item '各國'\n\\item '盡快'\n\\item '從'\n\\item '疫情'\n\\item '陰霾'\n\\item '中'\n\\item '走出'\n\\end{enumerate*}\n",
            "text/markdown": "1. '嚴重'\n2. '特殊'\n3. '傳染性肺炎'\n4. '疫情'\n5. '持續'\n6. '全球蔓延'\n7. '已'\n8. '造成'\n9. '三千多萬'\n10. '人'\n11. '感染'\n12. '死亡人數'\n13. '破'\n14. '百萬'\n15. '人'\n16. '歐美'\n17. '醫療體系'\n18. '幾近'\n19. '崩潰'\n20. '各種'\n21. '行動'\n22. '限制'\n23. '對於'\n24. '各國'\n25. '經濟'\n26. '有'\n27. '莫大'\n28. '衝擊'\n29. '然而'\n30. '台灣'\n31. '實行'\n32. '大規模'\n33. '封鎖'\n34. '行動'\n35. '維持'\n36. '正常'\n37. '上班'\n38. '上課'\n39. '各種'\n40. '經濟'\n41. '活動'\n42. '至今'\n43. '無'\n44. '大規模'\n45. '疫情'\n46. '爆發'\n47. '醫療體系'\n48. '仍'\n49. '能'\n50. '正常'\n51. '提供'\n52. '民眾'\n53. '服務'\n54. '顯示'\n55. '台灣'\n56. '防疫政策'\n57. '正確'\n58. '有效'\n59. '獲得'\n60. '世界各國'\n61. '高度肯定'\n62. '國家衛生研究院'\n63. '群體'\n64. '健康'\n65. '科學研究所'\n66. '感染症與疫苗研究所'\n67. '合作'\n68. '利用'\n69. '真實'\n70. '數據'\n71. '數學模型'\n72. '證實'\n73. '良好'\n74. '邊境'\n75. '管控'\n76. '詳盡'\n77. '疫情'\n78. '調查'\n79. '確實'\n80. '隔離'\n81. '檢疫'\n82. '以及'\n83. '民眾'\n84. '遵行'\n85. '防疫措施'\n86. '為'\n87. '台灣'\n88. '抗疫'\n89. '四大'\n90. '支柱'\n91. '台灣'\n92. '對'\n93. '世界各國'\n94. '提供'\n95. '各項'\n96. '協助'\n97. '經驗'\n98. '分享'\n99. '期望'\n100. '幫助'\n101. '各國'\n102. '盡快'\n103. '從'\n104. '疫情'\n105. '陰霾'\n106. '中'\n107. '走出'\n\n\n",
            "text/html": [
              "<style>\n",
              ".list-inline {list-style: none; margin:0; padding: 0}\n",
              ".list-inline>li {display: inline-block}\n",
              ".list-inline>li:not(:last-child)::after {content: \"\\00b7\"; padding: 0 .5ex}\n",
              "</style>\n",
              "<ol class=list-inline><li>'嚴重'</li><li>'特殊'</li><li>'傳染性肺炎'</li><li>'疫情'</li><li>'持續'</li><li>'全球蔓延'</li><li>'已'</li><li>'造成'</li><li>'三千多萬'</li><li>'人'</li><li>'感染'</li><li>'死亡人數'</li><li>'破'</li><li>'百萬'</li><li>'人'</li><li>'歐美'</li><li>'醫療體系'</li><li>'幾近'</li><li>'崩潰'</li><li>'各種'</li><li>'行動'</li><li>'限制'</li><li>'對於'</li><li>'各國'</li><li>'經濟'</li><li>'有'</li><li>'莫大'</li><li>'衝擊'</li><li>'然而'</li><li>'台灣'</li><li>'實行'</li><li>'大規模'</li><li>'封鎖'</li><li>'行動'</li><li>'維持'</li><li>'正常'</li><li>'上班'</li><li>'上課'</li><li>'各種'</li><li>'經濟'</li><li>'活動'</li><li>'至今'</li><li>'無'</li><li>'大規模'</li><li>'疫情'</li><li>'爆發'</li><li>'醫療體系'</li><li>'仍'</li><li>'能'</li><li>'正常'</li><li>'提供'</li><li>'民眾'</li><li>'服務'</li><li>'顯示'</li><li>'台灣'</li><li>'防疫政策'</li><li>'正確'</li><li>'有效'</li><li>'獲得'</li><li>'世界各國'</li><li>'高度肯定'</li><li>'國家衛生研究院'</li><li>'群體'</li><li>'健康'</li><li>'科學研究所'</li><li>'感染症與疫苗研究所'</li><li>'合作'</li><li>'利用'</li><li>'真實'</li><li>'數據'</li><li>'數學模型'</li><li>'證實'</li><li>'良好'</li><li>'邊境'</li><li>'管控'</li><li>'詳盡'</li><li>'疫情'</li><li>'調查'</li><li>'確實'</li><li>'隔離'</li><li>'檢疫'</li><li>'以及'</li><li>'民眾'</li><li>'遵行'</li><li>'防疫措施'</li><li>'為'</li><li>'台灣'</li><li>'抗疫'</li><li>'四大'</li><li>'支柱'</li><li>'台灣'</li><li>'對'</li><li>'世界各國'</li><li>'提供'</li><li>'各項'</li><li>'協助'</li><li>'經驗'</li><li>'分享'</li><li>'期望'</li><li>'幫助'</li><li>'各國'</li><li>'盡快'</li><li>'從'</li><li>'疫情'</li><li>'陰霾'</li><li>'中'</li><li>'走出'</li></ol>\n"
            ]
          },
          "metadata": {
            "tags": []
          }
        }
      ]
    },
    {
      "cell_type": "code",
      "metadata": {
        "id": "nHbCXgLmlLIu",
        "outputId": "c2eb61a0-19c8-4559-d9ee-376dfb0d506e",
        "colab": {
          "base_uri": "https://localhost:8080/",
          "height": 221
        }
      },
      "source": [
        "#計算詞彙頻率\n",
        "txt_freq <- freq(seg_words)\n",
        "#由大到小排列\n",
        "txt_freq <- arrange(txt_freq,desc(freq))\n",
        "head(txt_freq)"
      ],
      "execution_count": 59,
      "outputs": [
        {
          "output_type": "display_data",
          "data": {
            "text/plain": [
              "  char   freq\n",
              "1 疫情   4   \n",
              "2 台灣   4   \n",
              "3 經濟   2   \n",
              "4 大規模 2   \n",
              "5 各國   2   \n",
              "6 行動   2   "
            ],
            "text/latex": "A data.frame: 6 × 2\n\\begin{tabular}{r|ll}\n  & char & freq\\\\\n  & <chr> & <dbl>\\\\\n\\hline\n\t1 & 疫情   & 4\\\\\n\t2 & 台灣   & 4\\\\\n\t3 & 經濟   & 2\\\\\n\t4 & 大規模 & 2\\\\\n\t5 & 各國   & 2\\\\\n\t6 & 行動   & 2\\\\\n\\end{tabular}\n",
            "text/markdown": "\nA data.frame: 6 × 2\n\n| <!--/--> | char &lt;chr&gt; | freq &lt;dbl&gt; |\n|---|---|---|\n| 1 | 疫情   | 4 |\n| 2 | 台灣   | 4 |\n| 3 | 經濟   | 2 |\n| 4 | 大規模 | 2 |\n| 5 | 各國   | 2 |\n| 6 | 行動   | 2 |\n\n",
            "text/html": [
              "<table>\n",
              "<caption>A data.frame: 6 × 2</caption>\n",
              "<thead>\n",
              "\t<tr><th></th><th scope=col>char</th><th scope=col>freq</th></tr>\n",
              "\t<tr><th></th><th scope=col>&lt;chr&gt;</th><th scope=col>&lt;dbl&gt;</th></tr>\n",
              "</thead>\n",
              "<tbody>\n",
              "\t<tr><th scope=row>1</th><td>疫情  </td><td>4</td></tr>\n",
              "\t<tr><th scope=row>2</th><td>台灣  </td><td>4</td></tr>\n",
              "\t<tr><th scope=row>3</th><td>經濟  </td><td>2</td></tr>\n",
              "\t<tr><th scope=row>4</th><td>大規模</td><td>2</td></tr>\n",
              "\t<tr><th scope=row>5</th><td>各國  </td><td>2</td></tr>\n",
              "\t<tr><th scope=row>6</th><td>行動  </td><td>2</td></tr>\n",
              "</tbody>\n",
              "</table>\n"
            ]
          },
          "metadata": {
            "tags": []
          }
        }
      ]
    },
    {
      "cell_type": "code",
      "metadata": {
        "id": "wKLKTSjTpOiq",
        "outputId": "19829c5d-7a51-48ba-d047-40f2a7c58a7c",
        "colab": {
          "base_uri": "https://localhost:8080/"
        }
      },
      "source": [
        "install.packages(\"showtext\")\n",
        "library(showtext)"
      ],
      "execution_count": 67,
      "outputs": [
        {
          "output_type": "stream",
          "text": [
            "Installing package into ‘/usr/local/lib/R/site-library’\n",
            "(as ‘lib’ is unspecified)\n",
            "\n"
          ],
          "name": "stderr"
        }
      ]
    },
    {
      "cell_type": "code",
      "metadata": {
        "id": "zDt7bdguqcJu"
      },
      "source": [
        "showtext.auto(enable = TRUE)"
      ],
      "execution_count": 81,
      "outputs": []
    },
    {
      "cell_type": "code",
      "metadata": {
        "id": "YpdWFCi_rQJ7",
        "outputId": "e78f913d-7ae2-4a15-fda9-4bb389d486bb",
        "colab": {
          "base_uri": "https://localhost:8080/",
          "height": 1000
        }
      },
      "source": [
        "par(family=(\"Microsoft YaHei\"))\n",
        "wordcloud(txt_freq$char,txt_freq$freq,min.freq = 2,random.order = F,ordered.colors = F,colors = rainbow(nrow(txt_freq)))"
      ],
      "execution_count": 82,
      "outputs": [
        {
          "output_type": "stream",
          "text": [
            "Warning message in strwidth(words[i], cex = size[i], ...):\n",
            "“font family 'Microsoft YaHei' not found, will use 'wqy-microhei' instead”\n",
            "Warning message in strheight(words[i], cex = size[i], ...):\n",
            "“font family 'Microsoft YaHei' not found, will use 'sans' instead”\n",
            "Warning message in text.default(x1, y1, words[i], cex = size[i], offset = 0, srt = rotWord * :\n",
            "“font family 'Microsoft YaHei' not found, will use 'wqy-microhei' instead”\n",
            "Warning message in text.default(x1, y1, words[i], cex = size[i], offset = 0, srt = rotWord * :\n",
            "“font family 'Microsoft YaHei' not found, will use 'wqy-microhei' instead”\n",
            "Warning message in text.default(x1, y1, words[i], cex = size[i], offset = 0, srt = rotWord * :\n",
            "“font family 'Microsoft YaHei' not found, will use 'wqy-microhei' instead”\n",
            "Warning message in text.default(x1, y1, words[i], cex = size[i], offset = 0, srt = rotWord * :\n",
            "“font family 'Microsoft YaHei' not found, will use 'wqy-microhei' instead”\n",
            "Warning message in strwidth(words[i], cex = size[i], ...):\n",
            "“font family 'Microsoft YaHei' not found, will use 'wqy-microhei' instead”\n",
            "Warning message in text.default(x1, y1, words[i], cex = size[i], offset = 0, srt = rotWord * :\n",
            "“font family 'Microsoft YaHei' not found, will use 'wqy-microhei' instead”\n",
            "Warning message in text.default(x1, y1, words[i], cex = size[i], offset = 0, srt = rotWord * :\n",
            "“font family 'Microsoft YaHei' not found, will use 'wqy-microhei' instead”\n",
            "Warning message in text.default(x1, y1, words[i], cex = size[i], offset = 0, srt = rotWord * :\n",
            "“font family 'Microsoft YaHei' not found, will use 'wqy-microhei' instead”\n",
            "Warning message in text.default(x1, y1, words[i], cex = size[i], offset = 0, srt = rotWord * :\n",
            "“font family 'Microsoft YaHei' not found, will use 'wqy-microhei' instead”\n",
            "Warning message in strwidth(words[i], cex = size[i], ...):\n",
            "“font family 'Microsoft YaHei' not found, will use 'wqy-microhei' instead”\n",
            "Warning message in strheight(words[i], cex = size[i], ...):\n",
            "“font family 'Microsoft YaHei' not found, will use 'sans' instead”\n",
            "Warning message in text.default(x1, y1, words[i], cex = size[i], offset = 0, srt = rotWord * :\n",
            "“font family 'Microsoft YaHei' not found, will use 'wqy-microhei' instead”\n",
            "Warning message in text.default(x1, y1, words[i], cex = size[i], offset = 0, srt = rotWord * :\n",
            "“font family 'Microsoft YaHei' not found, will use 'wqy-microhei' instead”\n",
            "Warning message in text.default(x1, y1, words[i], cex = size[i], offset = 0, srt = rotWord * :\n",
            "“font family 'Microsoft YaHei' not found, will use 'wqy-microhei' instead”\n",
            "Warning message in text.default(x1, y1, words[i], cex = size[i], offset = 0, srt = rotWord * :\n",
            "“font family 'Microsoft YaHei' not found, will use 'wqy-microhei' instead”\n",
            "Warning message in strwidth(words[i], cex = size[i], ...):\n",
            "“font family 'Microsoft YaHei' not found, will use 'wqy-microhei' instead”\n",
            "Warning message in text.default(x1, y1, words[i], cex = size[i], offset = 0, srt = rotWord * :\n",
            "“font family 'Microsoft YaHei' not found, will use 'wqy-microhei' instead”\n",
            "Warning message in text.default(x1, y1, words[i], cex = size[i], offset = 0, srt = rotWord * :\n",
            "“font family 'Microsoft YaHei' not found, will use 'wqy-microhei' instead”\n",
            "Warning message in text.default(x1, y1, words[i], cex = size[i], offset = 0, srt = rotWord * :\n",
            "“font family 'Microsoft YaHei' not found, will use 'wqy-microhei' instead”\n",
            "Warning message in text.default(x1, y1, words[i], cex = size[i], offset = 0, srt = rotWord * :\n",
            "“font family 'Microsoft YaHei' not found, will use 'wqy-microhei' instead”\n",
            "Warning message in text.default(x1, y1, words[i], cex = size[i], offset = 0, srt = rotWord * :\n",
            "“font family 'Microsoft YaHei' not found, will use 'wqy-microhei' instead”\n",
            "Warning message in strwidth(words[i], cex = size[i], ...):\n",
            "“font family 'Microsoft YaHei' not found, will use 'wqy-microhei' instead”\n",
            "Warning message in text.default(x1, y1, words[i], cex = size[i], offset = 0, srt = rotWord * :\n",
            "“font family 'Microsoft YaHei' not found, will use 'wqy-microhei' instead”\n",
            "Warning message in text.default(x1, y1, words[i], cex = size[i], offset = 0, srt = rotWord * :\n",
            "“font family 'Microsoft YaHei' not found, will use 'wqy-microhei' instead”\n",
            "Warning message in text.default(x1, y1, words[i], cex = size[i], offset = 0, srt = rotWord * :\n",
            "“font family 'Microsoft YaHei' not found, will use 'wqy-microhei' instead”\n",
            "Warning message in text.default(x1, y1, words[i], cex = size[i], offset = 0, srt = rotWord * :\n",
            "“font family 'Microsoft YaHei' not found, will use 'wqy-microhei' instead”\n",
            "Warning message in strwidth(words[i], cex = size[i], ...):\n",
            "“font family 'Microsoft YaHei' not found, will use 'wqy-microhei' instead”\n",
            "Warning message in text.default(x1, y1, words[i], cex = size[i], offset = 0, srt = rotWord * :\n",
            "“font family 'Microsoft YaHei' not found, will use 'wqy-microhei' instead”\n",
            "Warning message in text.default(x1, y1, words[i], cex = size[i], offset = 0, srt = rotWord * :\n",
            "“font family 'Microsoft YaHei' not found, will use 'wqy-microhei' instead”\n",
            "Warning message in text.default(x1, y1, words[i], cex = size[i], offset = 0, srt = rotWord * :\n",
            "“font family 'Microsoft YaHei' not found, will use 'wqy-microhei' instead”\n",
            "Warning message in text.default(x1, y1, words[i], cex = size[i], offset = 0, srt = rotWord * :\n",
            "“font family 'Microsoft YaHei' not found, will use 'wqy-microhei' instead”\n",
            "Warning message in strwidth(words[i], cex = size[i], ...):\n",
            "“font family 'Microsoft YaHei' not found, will use 'wqy-microhei' instead”\n",
            "Warning message in text.default(x1, y1, words[i], cex = size[i], offset = 0, srt = rotWord * :\n",
            "“font family 'Microsoft YaHei' not found, will use 'wqy-microhei' instead”\n",
            "Warning message in text.default(x1, y1, words[i], cex = size[i], offset = 0, srt = rotWord * :\n",
            "“font family 'Microsoft YaHei' not found, will use 'wqy-microhei' instead”\n",
            "Warning message in text.default(x1, y1, words[i], cex = size[i], offset = 0, srt = rotWord * :\n",
            "“font family 'Microsoft YaHei' not found, will use 'wqy-microhei' instead”\n",
            "Warning message in text.default(x1, y1, words[i], cex = size[i], offset = 0, srt = rotWord * :\n",
            "“font family 'Microsoft YaHei' not found, will use 'wqy-microhei' instead”\n",
            "Warning message in strwidth(words[i], cex = size[i], ...):\n",
            "“font family 'Microsoft YaHei' not found, will use 'wqy-microhei' instead”\n",
            "Warning message in text.default(x1, y1, words[i], cex = size[i], offset = 0, srt = rotWord * :\n",
            "“font family 'Microsoft YaHei' not found, will use 'wqy-microhei' instead”\n",
            "Warning message in text.default(x1, y1, words[i], cex = size[i], offset = 0, srt = rotWord * :\n",
            "“font family 'Microsoft YaHei' not found, will use 'wqy-microhei' instead”\n",
            "Warning message in text.default(x1, y1, words[i], cex = size[i], offset = 0, srt = rotWord * :\n",
            "“font family 'Microsoft YaHei' not found, will use 'wqy-microhei' instead”\n",
            "Warning message in text.default(x1, y1, words[i], cex = size[i], offset = 0, srt = rotWord * :\n",
            "“font family 'Microsoft YaHei' not found, will use 'wqy-microhei' instead”\n",
            "Warning message in strwidth(words[i], cex = size[i], ...):\n",
            "“font family 'Microsoft YaHei' not found, will use 'wqy-microhei' instead”\n",
            "Warning message in text.default(x1, y1, words[i], cex = size[i], offset = 0, srt = rotWord * :\n",
            "“font family 'Microsoft YaHei' not found, will use 'wqy-microhei' instead”\n",
            "Warning message in text.default(x1, y1, words[i], cex = size[i], offset = 0, srt = rotWord * :\n",
            "“font family 'Microsoft YaHei' not found, will use 'wqy-microhei' instead”\n",
            "Warning message in text.default(x1, y1, words[i], cex = size[i], offset = 0, srt = rotWord * :\n",
            "“font family 'Microsoft YaHei' not found, will use 'wqy-microhei' instead”\n",
            "Warning message in text.default(x1, y1, words[i], cex = size[i], offset = 0, srt = rotWord * :\n",
            "“font family 'Microsoft YaHei' not found, will use 'wqy-microhei' instead”\n",
            "Warning message in strwidth(words[i], cex = size[i], ...):\n",
            "“font family 'Microsoft YaHei' not found, will use 'wqy-microhei' instead”\n",
            "Warning message in text.default(x1, y1, words[i], cex = size[i], offset = 0, srt = rotWord * :\n",
            "“font family 'Microsoft YaHei' not found, will use 'wqy-microhei' instead”\n",
            "Warning message in text.default(x1, y1, words[i], cex = size[i], offset = 0, srt = rotWord * :\n",
            "“font family 'Microsoft YaHei' not found, will use 'wqy-microhei' instead”\n",
            "Warning message in text.default(x1, y1, words[i], cex = size[i], offset = 0, srt = rotWord * :\n",
            "“font family 'Microsoft YaHei' not found, will use 'wqy-microhei' instead”\n",
            "Warning message in text.default(x1, y1, words[i], cex = size[i], offset = 0, srt = rotWord * :\n",
            "“font family 'Microsoft YaHei' not found, will use 'wqy-microhei' instead”\n",
            "Warning message in text.default(x1, y1, words[i], cex = size[i], offset = 0, srt = rotWord * :\n",
            "“font family 'Microsoft YaHei' not found, will use 'wqy-microhei' instead”\n",
            "Warning message in text.default(x1, y1, words[i], cex = size[i], offset = 0, srt = rotWord * :\n",
            "“font family 'Microsoft YaHei' not found, will use 'wqy-microhei' instead”\n",
            "Warning message in strwidth(words[i], cex = size[i], ...):\n",
            "“font family 'Microsoft YaHei' not found, will use 'wqy-microhei' instead”\n",
            "Warning message in text.default(x1, y1, words[i], cex = size[i], offset = 0, srt = rotWord * :\n",
            "“font family 'Microsoft YaHei' not found, will use 'wqy-microhei' instead”\n",
            "Warning message in text.default(x1, y1, words[i], cex = size[i], offset = 0, srt = rotWord * :\n",
            "“font family 'Microsoft YaHei' not found, will use 'wqy-microhei' instead”\n",
            "Warning message in text.default(x1, y1, words[i], cex = size[i], offset = 0, srt = rotWord * :\n",
            "“font family 'Microsoft YaHei' not found, will use 'wqy-microhei' instead”\n",
            "Warning message in strwidth(words[i], cex = size[i], ...):\n",
            "“font family 'Microsoft YaHei' not found, will use 'wqy-microhei' instead”\n",
            "Warning message in text.default(x1, y1, words[i], cex = size[i], offset = 0, srt = rotWord * :\n",
            "“font family 'Microsoft YaHei' not found, will use 'wqy-microhei' instead”\n",
            "Warning message in text.default(x1, y1, words[i], cex = size[i], offset = 0, srt = rotWord * :\n",
            "“font family 'Microsoft YaHei' not found, will use 'wqy-microhei' instead”\n",
            "Warning message in text.default(x1, y1, words[i], cex = size[i], offset = 0, srt = rotWord * :\n",
            "“font family 'Microsoft YaHei' not found, will use 'wqy-microhei' instead”\n",
            "Warning message in text.default(x1, y1, words[i], cex = size[i], offset = 0, srt = rotWord * :\n",
            "“font family 'Microsoft YaHei' not found, will use 'wqy-microhei' instead”\n",
            "Warning message in strwidth(words[i], cex = size[i], ...):\n",
            "“font family 'Microsoft YaHei' not found, will use 'wqy-microhei' instead”\n",
            "Warning message in text.default(x1, y1, words[i], cex = size[i], offset = 0, srt = rotWord * :\n",
            "“font family 'Microsoft YaHei' not found, will use 'wqy-microhei' instead”\n",
            "Warning message in text.default(x1, y1, words[i], cex = size[i], offset = 0, srt = rotWord * :\n",
            "“font family 'Microsoft YaHei' not found, will use 'wqy-microhei' instead”\n",
            "Warning message in text.default(x1, y1, words[i], cex = size[i], offset = 0, srt = rotWord * :\n",
            "“font family 'Microsoft YaHei' not found, will use 'wqy-microhei' instead”\n",
            "Warning message in text.default(x1, y1, words[i], cex = size[i], offset = 0, srt = rotWord * :\n",
            "“font family 'Microsoft YaHei' not found, will use 'wqy-microhei' instead”\n",
            "Warning message in text.default(x1, y1, words[i], cex = size[i], offset = 0, srt = rotWord * :\n",
            "“font family 'Microsoft YaHei' not found, will use 'wqy-microhei' instead”\n",
            "Warning message in text.default(x1, y1, words[i], cex = size[i], offset = 0, srt = rotWord * :\n",
            "“font family 'Microsoft YaHei' not found, will use 'wqy-microhei' instead”\n"
          ],
          "name": "stderr"
        },
        {
          "output_type": "display_data",
          "data": {
            "image/png": "[encoded data removed]",
            "text/plain": [
              "plot without title"
            ]
          },
          "metadata": {
            "tags": [],
            "image/png": {
              "width": 420,
              "height": 420
            }
          }
        }
      ]
    }
  ]
}