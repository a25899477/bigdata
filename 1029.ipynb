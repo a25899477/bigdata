{
  "nbformat": 4,
  "nbformat_minor": 0,
  "metadata": {
    "colab": {
      "name": "1029.ipynb",
      "provenance": [],
      "collapsed_sections": [],
      "include_colab_link": true
    },
    "kernelspec": {
      "name": "ir",
      "display_name": "R"
    }
  },
  "cells": [
    {
      "cell_type": "markdown",
      "metadata": {
        "id": "view-in-github",
        "colab_type": "text"
      },
      "source": [
        "<a href=\"https://colab.research.google.com/github/a25899477/bigdata/blob/master/1029.ipynb\" target=\"_parent\"><img src=\"https://colab.research.google.com/assets/colab-badge.svg\" alt=\"Open In Colab\"/></a>"
      ]
    },
    {
      "cell_type": "code",
      "metadata": {
        "id": "3FmL2_Bob2gP",
        "outputId": "d02f2fa9-944a-4c76-d803-27ca5f86a226",
        "colab": {
          "base_uri": "https://localhost:8080/"
        }
      },
      "source": [
        "install.packages(\"readr\")\n",
        "install.packages(\"ggplot2\")\n",
        "library(readr)\n",
        "library(ggplot2)"
      ],
      "execution_count": 20,
      "outputs": [
        {
          "output_type": "stream",
          "text": [
            "Installing package into ‘/usr/local/lib/R/site-library’\n",
            "(as ‘lib’ is unspecified)\n",
            "\n",
            "Installing package into ‘/usr/local/lib/R/site-library’\n",
            "(as ‘lib’ is unspecified)\n",
            "\n"
          ],
          "name": "stderr"
        }
      ]
    },
    {
      "cell_type": "code",
      "metadata": {
        "id": "eqAovSHudOD0"
      },
      "source": [
        "studentdataset <- read.csv(\"108_student.csv\")"
      ],
      "execution_count": 22,
      "outputs": []
    },
    {
      "cell_type": "code",
      "metadata": {
        "id": "XKrgyejoeeOm",
        "outputId": "7a3ebb3c-4f81-44c4-af91-771cb63b6c60",
        "colab": {
          "base_uri": "https://localhost:8080/"
        }
      },
      "source": [
        "str(studentdataset)"
      ],
      "execution_count": 23,
      "outputs": [
        {
          "output_type": "stream",
          "text": [
            "'data.frame':\t794 obs. of  25 variables:\n",
            " $ 學校代碼   : int  1 1 1 1 2 2 2 2 2 3 ...\n",
            " $ 學校名稱   : chr  \"國立政治大學\" \"國立政治大學\" \"國立政治大學\" \"國立政治大學\" ...\n",
            " $ 日間.進修別: chr  \"D 日\" \"D 日\" \"D 日\" \"N 職\" ...\n",
            " $ 等級別     : chr  \"D 博士\" \"M 碩士\" \"B 學士\" \"M 碩士\" ...\n",
            " $ 總計       : int  995 4023 9585 1787 1656 5190 8500 39 1293 3433 ...\n",
            " $ 男生計     : int  561 1861 3912 929 1211 3221 4658 25 479 2405 ...\n",
            " $ 女生計     : int  434 2162 5673 858 445 1969 3842 14 814 1028 ...\n",
            " $ 一年級男生 : int  90 644 896 298 241 1299 1105 3 191 467 ...\n",
            " $ 一年級女生 : int  85 745 1289 273 85 754 925 2 269 185 ...\n",
            " $ 二年級男生 : int  87 593 906 266 206 1231 1093 20 170 361 ...\n",
            " $ 二年級女生 : int  77 702 1309 233 90 659 843 12 217 179 ...\n",
            " $ 三年級男生 : int  84 372 883 185 179 475 1075 0 35 347 ...\n",
            " $ 三年級女生 : int  74 451 1319 190 64 321 945 0 114 163 ...\n",
            " $ 四年級男生 : int  89 252 882 110 163 209 1123 0 26 355 ...\n",
            " $ 四年級女生 : int  53 264 1333 96 60 211 975 0 92 132 ...\n",
            " $ 五年級男生 : int  70 0 0 70 140 3 0 0 23 292 ...\n",
            " $ 五年級女生 : int  48 0 0 66 43 14 0 0 43 130 ...\n",
            " $ 六年級男生 : int  61 0 0 0 122 4 0 0 9 240 ...\n",
            " $ 六年級女生 : int  55 0 0 0 44 10 0 0 29 105 ...\n",
            " $ 七年級男生 : int  80 0 0 0 160 0 0 0 25 343 ...\n",
            " $ 七年級女生 : int  42 0 0 0 59 0 0 0 50 134 ...\n",
            " $ 延修生男生 : int  0 0 345 0 0 0 262 2 0 0 ...\n",
            " $ 延修生女生 : int  0 0 423 0 0 0 154 0 0 0 ...\n",
            " $ 縣市名稱   : chr  \"30 臺北市\" \"30 臺北市\" \"30 臺北市\" \"30 臺北市\" ...\n",
            " $ 體系別     : chr  \"1 一般\" \"1 一般\" \"1 一般\" \"1 一般\" ...\n"
          ],
          "name": "stdout"
        }
      ]
    },
    {
      "cell_type": "code",
      "metadata": {
        "id": "csCRPGDIgBbE",
        "outputId": "8e5b5a54-25e6-4e75-f466-67ebc71f5d97",
        "colab": {
          "base_uri": "https://localhost:8080/",
          "height": 131
        }
      },
      "source": [
        "head()"
      ],
      "execution_count": 25,
      "outputs": [
        {
          "output_type": "error",
          "ename": "ERROR",
          "evalue": "ignored",
          "traceback": [
            "Error in head(學校代碼): object '學校代碼' not found\nTraceback:\n",
            "1. head(學校代碼)"
          ]
        }
      ]
    },
    {
      "cell_type": "code",
      "metadata": {
        "id": "5YtOI55CffZ5",
        "outputId": "79cfed75-881e-4ea7-eb0d-317d62e66c6e",
        "colab": {
          "base_uri": "https://localhost:8080/"
        }
      },
      "source": [
        "install.packages(\"showtext\")"
      ],
      "execution_count": 21,
      "outputs": [
        {
          "output_type": "stream",
          "text": [
            "Installing package into ‘/usr/local/lib/R/site-library’\n",
            "(as ‘lib’ is unspecified)\n",
            "\n",
            "also installing the dependencies ‘sysfonts’, ‘showtextdb’\n",
            "\n",
            "\n"
          ],
          "name": "stderr"
        }
      ]
    },
    {
      "cell_type": "code",
      "metadata": {
        "id": "v1nCMbaugF01",
        "outputId": "597e7c79-9f67-4d12-b35f-09d5a0f339e5",
        "colab": {
          "base_uri": "https://localhost:8080/"
        }
      },
      "source": [
        "library(showtext)"
      ],
      "execution_count": 24,
      "outputs": [
        {
          "output_type": "stream",
          "text": [
            "Loading required package: sysfonts\n",
            "\n",
            "Loading required package: showtextdb\n",
            "\n"
          ],
          "name": "stderr"
        }
      ]
    },
    {
      "cell_type": "code",
      "metadata": {
        "id": "6J2x0h9KhzX2"
      },
      "source": [
        "showtext.auto(enable=TRUE)"
      ],
      "execution_count": 41,
      "outputs": []
    },
    {
      "cell_type": "code",
      "metadata": {
        "id": "-HMQKgKogVoa",
        "outputId": "2cedbc18-855e-4170-97fd-7953bbb85ad0",
        "colab": {
          "base_uri": "https://localhost:8080/",
          "height": 857
        }
      },
      "source": [
        "ggplot(studentdataset,aes(x=體系別,y=總計))+geom_point()\n",
        "ggplot(studentdataset,aes(體系別,總計))+geom_point()"
      ],
      "execution_count": 37,
      "outputs": [
        {
          "output_type": "display_data",
          "data": {
            "image/png": "[encoded data removed]",
            "text/plain": [
              "plot without title"
            ]
          },
          "metadata": {
            "tags": [],
            "image/png": {
              "width": 420,
              "height": 420
            }
          }
        },
        {
          "output_type": "display_data",
          "data": {
            "image/png": "[encoded data removed]",
            "text/plain": [
              "plot without title"
            ]
          },
          "metadata": {
            "tags": [],
            "image/png": {
              "width": 420,
              "height": 420
            }
          }
        }
      ]
    },
    {
      "cell_type": "code",
      "metadata": {
        "id": "RblI5rQ8h4qA",
        "outputId": "26c75533-1467-432a-f795-e9d0eec95c1b",
        "colab": {
          "base_uri": "https://localhost:8080/",
          "height": 437
        }
      },
      "source": [
        "ggplot(studentdataset,aes(女生計))+geom_bar()"
      ],
      "execution_count": 54,
      "outputs": [
        {
          "output_type": "display_data",
          "data": {
            "image/png": "[encoded data removed]",
            "text/plain": [
              "plot without title"
            ]
          },
          "metadata": {
            "tags": [],
            "image/png": {
              "width": 420,
              "height": 420
            }
          }
        }
      ]
    }
  ]
}